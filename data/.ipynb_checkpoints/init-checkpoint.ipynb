{
 "cells": [
  {
   "cell_type": "code",
   "execution_count": 2,
   "metadata": {
    "collapsed": true
   },
   "outputs": [
    {
     "name": "stderr",
     "output_type": "stream",
     "text": [
      "c:\\users\\francesco\\appdata\\local\\programs\\python\\python37\\lib\\site-packages\\numpy\\_distributor_init.py:32: UserWarning: loaded more than 1 DLL from .libs:\n",
      "c:\\users\\francesco\\appdata\\local\\programs\\python\\python37\\lib\\site-packages\\numpy\\.libs\\libopenblas.NOIJJG62EMASZI6NYURL6JBKM4EVBGM7.gfortran-win_amd64.dll\n",
      "c:\\users\\francesco\\appdata\\local\\programs\\python\\python37\\lib\\site-packages\\numpy\\.libs\\libopenblas.WCDJNK7YVMPZQ2ME2ZZHJJRJ3JIKNDB7.gfortran-win_amd64.dll\n",
      "  stacklevel=1)\n"
     ]
    }
   ],
   "source": [
    "import os\n",
    "import random\n",
    "import pandas as pd\n",
    "from pathlib import Path\n",
    "from rich.console import Console\n",
    "from rich.panel import Panel\n",
    "from rich import inspect\n",
    "from rich.text import Text\n",
    "from rich.progress import Progress, track\n",
    "import json\n",
    "import time\n",
    "\n",
    "console = Console()\n",
    "\n",
    "folder_aws_path = \"aws/\"\n",
    "folder_build_path = \"build/\"\n",
    "folder_build_config_path = \"build/config/\"\n",
    "folder_build_task_path = \"build/task/\"\n",
    "folder_build_mturk_path = \"build/mturk/\"\n",
    "folder_build_env_path = \"build/environments/\"\n",
    "folder_build_deploy_path = \"build/deploy/\"\n",
    "folder_build_skeleton_path = \"build/skeleton/\"\n",
    "folder_tasks_path = \"tasks/\"\n",
    "\n",
    "\n",
    "def serialize_json(folder, filename, data):\n",
    "    if not os.path.exists(folder):\n",
    "        os.makedirs(folder, exist_ok=True)\n",
    "    with open(f\"{folder}/{filename}\", 'w', encoding='utf-8') as f:\n",
    "        json.dump(data, f, ensure_ascii=False, indent=4, default=str)\n",
    "        f.close()\n",
    "\n",
    "\n",
    "def remove_json(folder, filename):\n",
    "    os.remove(f\"{folder}/{filename}\")\n",
    "\n",
    "\n",
    "def read_json(path):\n",
    "    if os.path.exists(path):\n",
    "        with open(path, \"r\", encoding=\"utf8\") as file:\n",
    "            data = json.load(file)\n",
    "        return data\n",
    "    else:\n",
    "        return {}"
   ]
  },
  {
   "cell_type": "markdown",
   "metadata": {
    "pycharm": {
     "name": "#%% md\n"
    }
   },
   "source": [
    "## Section 1 - Environment variables loading\n",
    "\n",
    "Remember to restart Jupyter if you edit environment variables values"
   ]
  },
  {
   "cell_type": "code",
   "execution_count": 6,
   "metadata": {
    "pycharm": {
     "name": "#%%\n"
    }
   },
   "outputs": [],
   "source": [
    "from dotenv import load_dotenv\n",
    "from distutils.util import strtobool\n",
    "\n",
    "env_path = Path('.') / '.env'\n",
    "load_dotenv(dotenv_path=env_path)\n",
    "\n",
    "task_name = os.getenv('task_name')\n",
    "batch_name = os.getenv('batch_name')\n",
    "admin_user = os.getenv('admin_user')\n",
    "admin_password = os.getenv('admin_password')\n",
    "deploy_config = strtobool(os.getenv('deploy_config'))\n",
    "server_config = strtobool(os.getenv('server_config'))\n",
    "\n",
    "aws_region = os.getenv('aws_region')\n",
    "aws_private_bucket = os.getenv('aws_private_bucket')\n",
    "aws_deploy_bucket = os.getenv('aws_deploy_bucket')\n",
    "\n",
    "bing_api_key = os.getenv('bing_api_key')"
   ]
  },
  {
   "cell_type": "markdown",
   "metadata": {},
   "source": [
    "## Section 2 - Setting up Boto3 Session"
   ]
  },
  {
   "cell_type": "code",
   "execution_count": 7,
   "metadata": {
    "pycharm": {
     "name": "#%%\n"
    }
   },
   "outputs": [
    {
     "data": {
      "text/html": [
       "<pre style=\"white-space:pre;overflow-x:auto;line-height:normal;font-family:Menlo,'DejaVu Sans Mono',consolas,'Courier New',monospace\"><span style=\"color: #00ff00; text-decoration-color: #00ff00\">────────────────────── </span>How do you want to insert IAM user credentials?<span style=\"color: #00ff00; text-decoration-color: #00ff00\"> ──────────────────────</span>\n",
       "</pre>\n"
      ],
      "text/plain": [
       "\u001b[92m────────────────────── \u001b[0mHow do you want to insert IAM user credentials?\u001b[92m ──────────────────────\u001b[0m\n"
      ]
     },
     "metadata": {},
     "output_type": "display_data"
    },
    {
     "data": {
      "text/html": [
       "<pre style=\"white-space:pre;overflow-x:auto;line-height:normal;font-family:Menlo,'DejaVu Sans Mono',consolas,'Courier New',monospace\"><span style=\"color: #008080; text-decoration-color: #008080; font-weight: bold\">0</span>. AWS CLI credentials file\n",
       "<span style=\"color: #008080; text-decoration-color: #008080; font-weight: bold\">1</span>. Manual input\n",
       "<span style=\"color: #008080; text-decoration-color: #008080; font-weight: bold\">2</span>. Exit\n",
       "</pre>\n"
      ],
      "text/plain": [
       "\u001b[1;36m0\u001b[0m. AWS CLI credentials file\n",
       "\u001b[1;36m1\u001b[0m. Manual input\n",
       "\u001b[1;36m2\u001b[0m. Exit\n"
      ]
     },
     "metadata": {},
     "output_type": "display_data"
    },
    {
     "data": {
      "text/html": [
       "<pre style=\"white-space:pre;overflow-x:auto;line-height:normal;font-family:Menlo,'DejaVu Sans Mono',consolas,'Courier New',monospace\"></pre>\n"
      ],
      "text/plain": []
     },
     "metadata": {},
     "output_type": "display_data"
    },
    {
     "data": {
      "text/html": [
       "<pre style=\"white-space:pre;overflow-x:auto;line-height:normal;font-family:Menlo,'DejaVu Sans Mono',consolas,'Courier New',monospace\"><span style=\"color: #00ff00; text-decoration-color: #00ff00\">───────────────────────────────────── </span>Credentials setup<span style=\"color: #00ff00; text-decoration-color: #00ff00\"> ─────────────────────────────────────</span>\n",
       "</pre>\n"
      ],
      "text/plain": [
       "\u001b[92m───────────────────────────────────── \u001b[0mCredentials setup\u001b[92m ─────────────────────────────────────\u001b[0m\n"
      ]
     },
     "metadata": {},
     "output_type": "display_data"
    },
    {
     "data": {
      "text/html": [
       "<pre style=\"white-space:pre;overflow-x:auto;line-height:normal;font-family:Menlo,'DejaVu Sans Mono',consolas,'Courier New',monospace\"></pre>\n"
      ],
      "text/plain": []
     },
     "metadata": {},
     "output_type": "display_data"
    }
   ],
   "source": [
    "import boto3\n",
    "from botocore.exceptions import ClientError\n",
    "from botocore.exceptions import ProfileNotFound\n",
    "\n",
    "def stopSequence():\n",
    "    with console.status(\"Stopping the ship...\", spinner=\"moon\"):\n",
    "        time.sleep(5)\n",
    "        exit()\n",
    "\n",
    "\n",
    "def keyCont():\n",
    "    console.input('[green]Press enter to continue...\\n\\n')\n",
    "\n",
    "\n",
    "botoSession: boto3.Session\n",
    "\n",
    "console.rule(\"How do you want to insert IAM user credentials?\")\n",
    "console.print(\"0. AWS CLI credentials file\\n1. Manual input\\n2. Exit\")\n",
    "\n",
    "method = console.input(\"Insert here your choice: \")\n",
    "while method != \"0\" and method != \"1\" and method != \"2\":\n",
    "    method = console.input(\"Wrong option! Insert here your choice: \")\n",
    "\n",
    "if method == \"2\":\n",
    "    stopSequence()\n",
    "\n",
    "console.rule(\"Credentials setup\")\n",
    "\n",
    "if method == \"0\":\n",
    "    profile = console.input(\"Insert profile name: \")\n",
    "    while profile != \"exit\":\n",
    "        try:\n",
    "            botoSession = boto3.Session(profile_name=profile, region_name=aws_region)\n",
    "            root_user_arn = botoSession.client('sts').get_caller_identity()['Arn']\n",
    "            break\n",
    "        except ProfileNotFound:\n",
    "            console.print(\"[bold red]Profile not valid! Retry or type exit\")\n",
    "            profile = console.input(\"Insert profile name: \")\n",
    "    if profile == \"exit\":\n",
    "        stopSequence()\n",
    "else:\n",
    "    aws_access_key_id = console.input(\"Insert your AWS account access key: \")\n",
    "    aws_secret_access_key = console.input(\"Insert your AWS account secret key: \")\n",
    "    while aws_access_key_id != \"exit\" and aws_secret_access_key != \"exit\":\n",
    "        botoSession = boto3.Session(\n",
    "            aws_access_key_id=aws_access_key_id,\n",
    "            aws_secret_access_key=aws_secret_access_key,\n",
    "            region_name=aws_region\n",
    "        )\n",
    "        try:\n",
    "            root_user_arn = botoSession.client('sts').get_caller_identity()['Arn']\n",
    "            break\n",
    "        except ClientError:\n",
    "            console.print(\"[bold red]Credentials are not valid! Retry or type exit in one of the fields\")\n",
    "            aws_access_key_id = console.input(\"Insert your AWS account access key: \")\n",
    "            aws_secret_access_key = console.input(\"Insert your AWS account secret key: \")\n",
    "\n",
    "keyCont()"
   ]
  },
  {
   "cell_type": "markdown",
   "metadata": {},
   "source": [
    "## Section 3 - Checking IAM policies for current user"
   ]
  },
  {
   "cell_type": "code",
   "execution_count": 1,
   "metadata": {
    "pycharm": {
     "name": "#%%\n"
    }
   },
   "outputs": [
    {
     "ename": "NameError",
     "evalue": "name 'botoSession' is not defined",
     "output_type": "error",
     "traceback": [
      "\u001b[1;31m---------------------------------------------------------------------------\u001b[0m",
      "\u001b[1;31mNameError\u001b[0m                                 Traceback (most recent call last)",
      "\u001b[1;32m<ipython-input-1-576bf00d9fd7>\u001b[0m in \u001b[0;36m<module>\u001b[1;34m\u001b[0m\n\u001b[1;32m----> 1\u001b[1;33m \u001b[0miam\u001b[0m \u001b[1;33m=\u001b[0m \u001b[0mbotoSession\u001b[0m\u001b[1;33m.\u001b[0m\u001b[0mclient\u001b[0m\u001b[1;33m(\u001b[0m\u001b[1;34m'iam'\u001b[0m\u001b[1;33m)\u001b[0m\u001b[1;33m\u001b[0m\u001b[1;33m\u001b[0m\u001b[0m\n\u001b[0m\u001b[0;32m      2\u001b[0m \u001b[0mdenied\u001b[0m \u001b[1;33m=\u001b[0m \u001b[1;33m[\u001b[0m\u001b[1;33m]\u001b[0m\u001b[1;33m\u001b[0m\u001b[1;33m\u001b[0m\u001b[0m\n\u001b[0;32m      3\u001b[0m \u001b[1;32mwith\u001b[0m \u001b[0mopen\u001b[0m\u001b[1;33m(\u001b[0m\u001b[1;34m\"aws_server/check.json\"\u001b[0m\u001b[1;33m,\u001b[0m \u001b[1;34m'r'\u001b[0m\u001b[1;33m)\u001b[0m \u001b[1;32mas\u001b[0m \u001b[0mf\u001b[0m\u001b[1;33m:\u001b[0m\u001b[1;33m\u001b[0m\u001b[1;33m\u001b[0m\u001b[0m\n\u001b[0;32m      4\u001b[0m     \u001b[1;32mif\u001b[0m \u001b[0mserver_config\u001b[0m\u001b[1;33m:\u001b[0m\u001b[1;33m\u001b[0m\u001b[1;33m\u001b[0m\u001b[0m\n\u001b[0;32m      5\u001b[0m         \u001b[0mactions\u001b[0m \u001b[1;33m=\u001b[0m \u001b[0mjson\u001b[0m\u001b[1;33m.\u001b[0m\u001b[0mload\u001b[0m\u001b[1;33m(\u001b[0m\u001b[0mf\u001b[0m\u001b[1;33m)\u001b[0m\u001b[1;33m[\u001b[0m\u001b[1;34m'server'\u001b[0m\u001b[1;33m]\u001b[0m\u001b[1;33m\u001b[0m\u001b[1;33m\u001b[0m\u001b[0m\n",
      "\u001b[1;31mNameError\u001b[0m: name 'botoSession' is not defined"
     ]
    }
   ],
   "source": [
    "iam = botoSession.client('iam')\n",
    "denied = []\n",
    "with open(\"aws_server/check.json\", 'r') as f:\n",
    "    if server_config:\n",
    "        actions = json.load(f)['server']\n",
    "    else:\n",
    "        actions = json.load(f)['no_server']\n",
    "try:\n",
    "    for result in iam.simulate_principal_policy(\n",
    "        PolicySourceArn=root_user_arn,\n",
    "        ActionNames=actions\n",
    "    )['EvaluationResults']:\n",
    "        if result['EvalDecision'].find('Deny') != -1:\n",
    "            denied.append(result['EvalActionName'])\n",
    "    if denied:\n",
    "        print(f\"To continue you must provide these missing permissions: {denied}\")\n",
    "        exit()\n",
    "except ClientError:\n",
    "    console.print(\"[bold red]You must grant access to the SimulatePrincipalPolicy operation!\")\n",
    "    exit()\n",
    "\n",
    "keyCont()"
   ]
  },
  {
   "cell_type": "markdown",
   "metadata": {
    "pycharm": {
     "name": "#%% md\n"
    }
   },
   "source": [
    "## Section 4 - Setting up IAM policies and identity\n",
    "### build/aws"
   ]
  },
  {
   "cell_type": "code",
   "execution_count": 10,
   "metadata": {
    "pycharm": {
     "name": "#%%\n"
    }
   },
   "outputs": [
    {
     "data": {
      "text/html": [
       "<pre style=\"white-space:pre;overflow-x:auto;line-height:normal;font-family:Menlo,'DejaVu Sans Mono',consolas,'Courier New',monospace\"><span style=\"color: #00ff00; text-decoration-color: #00ff00\">──────────────────────────────────── </span>Root user identity<span style=\"color: #00ff00; text-decoration-color: #00ff00\"> ─────────────────────────────────────</span>\n",
       "</pre>\n"
      ],
      "text/plain": [
       "\u001b[92m──────────────────────────────────── \u001b[0mRoot user identity\u001b[92m ─────────────────────────────────────\u001b[0m\n"
      ]
     },
     "metadata": {},
     "output_type": "display_data"
    },
    {
     "ename": "ClientError",
     "evalue": "An error occurred (AccessDenied) when calling the GetUser operation: User: arn:aws:iam::388553257803:user/dumb is not authorized to perform: iam:GetUser on resource: user dumb",
     "output_type": "error",
     "traceback": [
      "\u001b[1;31m---------------------------------------------------------------------------\u001b[0m",
      "\u001b[1;31mClientError\u001b[0m                               Traceback (most recent call last)",
      "\u001b[1;32m<ipython-input-10-facf28e73095>\u001b[0m in \u001b[0;36m<module>\u001b[1;34m\u001b[0m\n\u001b[0;32m      5\u001b[0m \u001b[1;33m\u001b[0m\u001b[0m\n\u001b[0;32m      6\u001b[0m \u001b[0mroot_user\u001b[0m \u001b[1;33m=\u001b[0m \u001b[0miam_resource\u001b[0m\u001b[1;33m.\u001b[0m\u001b[0mCurrentUser\u001b[0m\u001b[1;33m(\u001b[0m\u001b[1;33m)\u001b[0m\u001b[1;33m\u001b[0m\u001b[1;33m\u001b[0m\u001b[0m\n\u001b[1;32m----> 7\u001b[1;33m \u001b[0maws_account_id\u001b[0m \u001b[1;33m=\u001b[0m \u001b[0mroot_user\u001b[0m\u001b[1;33m.\u001b[0m\u001b[0marn\u001b[0m\u001b[1;33m.\u001b[0m\u001b[0msplit\u001b[0m\u001b[1;33m(\u001b[0m\u001b[1;34m':'\u001b[0m\u001b[1;33m)\u001b[0m\u001b[1;33m[\u001b[0m\u001b[1;36m4\u001b[0m\u001b[1;33m]\u001b[0m\u001b[1;33m\u001b[0m\u001b[1;33m\u001b[0m\u001b[0m\n\u001b[0m\u001b[0;32m      8\u001b[0m \u001b[1;33m\u001b[0m\u001b[0m\n\u001b[0;32m      9\u001b[0m \u001b[0mconsole\u001b[0m\u001b[1;33m.\u001b[0m\u001b[0mprint\u001b[0m\u001b[1;33m(\u001b[0m\u001b[1;34mf\"ID: [bold cyan on white]{root_user.user_id}\"\u001b[0m\u001b[1;33m)\u001b[0m\u001b[1;33m\u001b[0m\u001b[1;33m\u001b[0m\u001b[0m\n",
      "\u001b[1;32mc:\\users\\francesco\\appdata\\local\\programs\\python\\python37\\lib\\site-packages\\boto3\\resources\\factory.py\u001b[0m in \u001b[0;36mproperty_loader\u001b[1;34m(self)\u001b[0m\n\u001b[0;32m    337\u001b[0m             \u001b[1;32mif\u001b[0m \u001b[0mself\u001b[0m\u001b[1;33m.\u001b[0m\u001b[0mmeta\u001b[0m\u001b[1;33m.\u001b[0m\u001b[0mdata\u001b[0m \u001b[1;32mis\u001b[0m \u001b[1;32mNone\u001b[0m\u001b[1;33m:\u001b[0m\u001b[1;33m\u001b[0m\u001b[1;33m\u001b[0m\u001b[0m\n\u001b[0;32m    338\u001b[0m                 \u001b[1;32mif\u001b[0m \u001b[0mhasattr\u001b[0m\u001b[1;33m(\u001b[0m\u001b[0mself\u001b[0m\u001b[1;33m,\u001b[0m \u001b[1;34m'load'\u001b[0m\u001b[1;33m)\u001b[0m\u001b[1;33m:\u001b[0m\u001b[1;33m\u001b[0m\u001b[1;33m\u001b[0m\u001b[0m\n\u001b[1;32m--> 339\u001b[1;33m                     \u001b[0mself\u001b[0m\u001b[1;33m.\u001b[0m\u001b[0mload\u001b[0m\u001b[1;33m(\u001b[0m\u001b[1;33m)\u001b[0m\u001b[1;33m\u001b[0m\u001b[1;33m\u001b[0m\u001b[0m\n\u001b[0m\u001b[0;32m    340\u001b[0m                 \u001b[1;32melse\u001b[0m\u001b[1;33m:\u001b[0m\u001b[1;33m\u001b[0m\u001b[1;33m\u001b[0m\u001b[0m\n\u001b[0;32m    341\u001b[0m                     raise ResourceLoadException(\n",
      "\u001b[1;32mc:\\users\\francesco\\appdata\\local\\programs\\python\\python37\\lib\\site-packages\\boto3\\resources\\factory.py\u001b[0m in \u001b[0;36mdo_action\u001b[1;34m(self, *args, **kwargs)\u001b[0m\n\u001b[0;32m    503\u001b[0m             \u001b[1;31m# instance via ``self``.\u001b[0m\u001b[1;33m\u001b[0m\u001b[1;33m\u001b[0m\u001b[1;33m\u001b[0m\u001b[0m\n\u001b[0;32m    504\u001b[0m             \u001b[1;32mdef\u001b[0m \u001b[0mdo_action\u001b[0m\u001b[1;33m(\u001b[0m\u001b[0mself\u001b[0m\u001b[1;33m,\u001b[0m \u001b[1;33m*\u001b[0m\u001b[0margs\u001b[0m\u001b[1;33m,\u001b[0m \u001b[1;33m**\u001b[0m\u001b[0mkwargs\u001b[0m\u001b[1;33m)\u001b[0m\u001b[1;33m:\u001b[0m\u001b[1;33m\u001b[0m\u001b[1;33m\u001b[0m\u001b[0m\n\u001b[1;32m--> 505\u001b[1;33m                 \u001b[0mresponse\u001b[0m \u001b[1;33m=\u001b[0m \u001b[0maction\u001b[0m\u001b[1;33m(\u001b[0m\u001b[0mself\u001b[0m\u001b[1;33m,\u001b[0m \u001b[1;33m*\u001b[0m\u001b[0margs\u001b[0m\u001b[1;33m,\u001b[0m \u001b[1;33m**\u001b[0m\u001b[0mkwargs\u001b[0m\u001b[1;33m)\u001b[0m\u001b[1;33m\u001b[0m\u001b[1;33m\u001b[0m\u001b[0m\n\u001b[0m\u001b[0;32m    506\u001b[0m                 \u001b[0mself\u001b[0m\u001b[1;33m.\u001b[0m\u001b[0mmeta\u001b[0m\u001b[1;33m.\u001b[0m\u001b[0mdata\u001b[0m \u001b[1;33m=\u001b[0m \u001b[0mresponse\u001b[0m\u001b[1;33m\u001b[0m\u001b[1;33m\u001b[0m\u001b[0m\n\u001b[0;32m    507\u001b[0m             \u001b[1;31m# Create the docstring for the load/reload mehtods.\u001b[0m\u001b[1;33m\u001b[0m\u001b[1;33m\u001b[0m\u001b[1;33m\u001b[0m\u001b[0m\n",
      "\u001b[1;32mc:\\users\\francesco\\appdata\\local\\programs\\python\\python37\\lib\\site-packages\\boto3\\resources\\action.py\u001b[0m in \u001b[0;36m__call__\u001b[1;34m(self, parent, *args, **kwargs)\u001b[0m\n\u001b[0;32m     81\u001b[0m                     operation_name, params)\n\u001b[0;32m     82\u001b[0m \u001b[1;33m\u001b[0m\u001b[0m\n\u001b[1;32m---> 83\u001b[1;33m         \u001b[0mresponse\u001b[0m \u001b[1;33m=\u001b[0m \u001b[0mgetattr\u001b[0m\u001b[1;33m(\u001b[0m\u001b[0mparent\u001b[0m\u001b[1;33m.\u001b[0m\u001b[0mmeta\u001b[0m\u001b[1;33m.\u001b[0m\u001b[0mclient\u001b[0m\u001b[1;33m,\u001b[0m \u001b[0moperation_name\u001b[0m\u001b[1;33m)\u001b[0m\u001b[1;33m(\u001b[0m\u001b[1;33m*\u001b[0m\u001b[0margs\u001b[0m\u001b[1;33m,\u001b[0m \u001b[1;33m**\u001b[0m\u001b[0mparams\u001b[0m\u001b[1;33m)\u001b[0m\u001b[1;33m\u001b[0m\u001b[1;33m\u001b[0m\u001b[0m\n\u001b[0m\u001b[0;32m     84\u001b[0m \u001b[1;33m\u001b[0m\u001b[0m\n\u001b[0;32m     85\u001b[0m         \u001b[0mlogger\u001b[0m\u001b[1;33m.\u001b[0m\u001b[0mdebug\u001b[0m\u001b[1;33m(\u001b[0m\u001b[1;34m'Response: %r'\u001b[0m\u001b[1;33m,\u001b[0m \u001b[0mresponse\u001b[0m\u001b[1;33m)\u001b[0m\u001b[1;33m\u001b[0m\u001b[1;33m\u001b[0m\u001b[0m\n",
      "\u001b[1;32mc:\\users\\francesco\\appdata\\local\\programs\\python\\python37\\lib\\site-packages\\botocore\\client.py\u001b[0m in \u001b[0;36m_api_call\u001b[1;34m(self, *args, **kwargs)\u001b[0m\n\u001b[0;32m    355\u001b[0m                     \"%s() only accepts keyword arguments.\" % py_operation_name)\n\u001b[0;32m    356\u001b[0m             \u001b[1;31m# The \"self\" in this scope is referring to the BaseClient.\u001b[0m\u001b[1;33m\u001b[0m\u001b[1;33m\u001b[0m\u001b[1;33m\u001b[0m\u001b[0m\n\u001b[1;32m--> 357\u001b[1;33m             \u001b[1;32mreturn\u001b[0m \u001b[0mself\u001b[0m\u001b[1;33m.\u001b[0m\u001b[0m_make_api_call\u001b[0m\u001b[1;33m(\u001b[0m\u001b[0moperation_name\u001b[0m\u001b[1;33m,\u001b[0m \u001b[0mkwargs\u001b[0m\u001b[1;33m)\u001b[0m\u001b[1;33m\u001b[0m\u001b[1;33m\u001b[0m\u001b[0m\n\u001b[0m\u001b[0;32m    358\u001b[0m \u001b[1;33m\u001b[0m\u001b[0m\n\u001b[0;32m    359\u001b[0m         \u001b[0m_api_call\u001b[0m\u001b[1;33m.\u001b[0m\u001b[0m__name__\u001b[0m \u001b[1;33m=\u001b[0m \u001b[0mstr\u001b[0m\u001b[1;33m(\u001b[0m\u001b[0mpy_operation_name\u001b[0m\u001b[1;33m)\u001b[0m\u001b[1;33m\u001b[0m\u001b[1;33m\u001b[0m\u001b[0m\n",
      "\u001b[1;32mc:\\users\\francesco\\appdata\\local\\programs\\python\\python37\\lib\\site-packages\\botocore\\client.py\u001b[0m in \u001b[0;36m_make_api_call\u001b[1;34m(self, operation_name, api_params)\u001b[0m\n\u001b[0;32m    674\u001b[0m             \u001b[0merror_code\u001b[0m \u001b[1;33m=\u001b[0m \u001b[0mparsed_response\u001b[0m\u001b[1;33m.\u001b[0m\u001b[0mget\u001b[0m\u001b[1;33m(\u001b[0m\u001b[1;34m\"Error\"\u001b[0m\u001b[1;33m,\u001b[0m \u001b[1;33m{\u001b[0m\u001b[1;33m}\u001b[0m\u001b[1;33m)\u001b[0m\u001b[1;33m.\u001b[0m\u001b[0mget\u001b[0m\u001b[1;33m(\u001b[0m\u001b[1;34m\"Code\"\u001b[0m\u001b[1;33m)\u001b[0m\u001b[1;33m\u001b[0m\u001b[1;33m\u001b[0m\u001b[0m\n\u001b[0;32m    675\u001b[0m             \u001b[0merror_class\u001b[0m \u001b[1;33m=\u001b[0m \u001b[0mself\u001b[0m\u001b[1;33m.\u001b[0m\u001b[0mexceptions\u001b[0m\u001b[1;33m.\u001b[0m\u001b[0mfrom_code\u001b[0m\u001b[1;33m(\u001b[0m\u001b[0merror_code\u001b[0m\u001b[1;33m)\u001b[0m\u001b[1;33m\u001b[0m\u001b[1;33m\u001b[0m\u001b[0m\n\u001b[1;32m--> 676\u001b[1;33m             \u001b[1;32mraise\u001b[0m \u001b[0merror_class\u001b[0m\u001b[1;33m(\u001b[0m\u001b[0mparsed_response\u001b[0m\u001b[1;33m,\u001b[0m \u001b[0moperation_name\u001b[0m\u001b[1;33m)\u001b[0m\u001b[1;33m\u001b[0m\u001b[1;33m\u001b[0m\u001b[0m\n\u001b[0m\u001b[0;32m    677\u001b[0m         \u001b[1;32melse\u001b[0m\u001b[1;33m:\u001b[0m\u001b[1;33m\u001b[0m\u001b[1;33m\u001b[0m\u001b[0m\n\u001b[0;32m    678\u001b[0m             \u001b[1;32mreturn\u001b[0m \u001b[0mparsed_response\u001b[0m\u001b[1;33m\u001b[0m\u001b[1;33m\u001b[0m\u001b[0m\n",
      "\u001b[1;31mClientError\u001b[0m: An error occurred (AccessDenied) when calling the GetUser operation: User: arn:aws:iam::388553257803:user/dumb is not authorized to perform: iam:GetUser on resource: user dumb"
     ]
    }
   ],
   "source": [
    "iam = botoSession.client('iam')\n",
    "iam_resource = botoSession.resource('iam')\n",
    "\n",
    "console.rule(\"Root user identity\")\n",
    "\n",
    "root_user = iam_resource.CurrentUser()\n",
    "aws_account_id = root_user.arn.split(':')[4]\n",
    "\n",
    "console.print(f\"ID: [bold cyan on white]{root_user.user_id}\")\n",
    "console.print(f\"Username: [bold cyan on white]{root_user.user_name}\")\n",
    "console.print(f\"ARN: [bold cyan on white]{root_user.arn}\")\n",
    "console.print(f\"AWS Account ID: [bold cyan on white]{aws_account_id}\")\n",
    "\n",
    "console.rule(\"IAM policy [cyan underline]crowd-workers-dev[/cyan underline]\")\n",
    "\n",
    "crowd_workers_policy = {\n",
    "    \"Version\": \"2012-10-17\",\n",
    "    \"Statement\": [\n",
    "        {\n",
    "            \"Sid\": \"allowBucketInteraction\",\n",
    "            \"Effect\": \"Allow\",\n",
    "            \"Action\": [\n",
    "                \"s3:PutObject\",\n",
    "                \"s3:GetObject\",\n",
    "                \"s3:ListBucket\"\n",
    "            ],\n",
    "            \"Resource\": [\n",
    "                f\"arn:aws:s3:::{aws_private_bucket}\",\n",
    "                f\"arn:aws:s3:::{aws_private_bucket}/*\",\n",
    "                f\"arn:aws:s3:::{aws_deploy_bucket}\",\n",
    "                f\"arn:aws:s3:::{aws_deploy_bucket}/*\"\n",
    "            ]\n",
    "        },\n",
    "        {\n",
    "            \"Sid\": \"allowDatabaseInteraction\",\n",
    "            \"Effect\": \"Allow\",\n",
    "            \"Action\": [\n",
    "                \"dynamodb:DescribeTable\",\n",
    "                \"dynamodb:DeleteItem\",\n",
    "                \"dynamodb:PutItem\",\n",
    "                \"dynamodb:GetItem\",\n",
    "            ],\n",
    "            \"Resource\": f\"arn:aws:dynamodb:{aws_region}:{aws_account_id}:table/users\"\n",
    "        }\n",
    "    ]\n",
    "}\n",
    "\n",
    "policy = None\n",
    "try:\n",
    "    policy = iam.create_policy(\n",
    "        PolicyName='crowd-workers-dev',\n",
    "        PolicyDocument=json.dumps(crowd_workers_policy)\n",
    "    )\n",
    "    console.print(\n",
    "        f\"[green]Policy creation completed[/green], HTTP STATUS CODE: {policy['ResponseMetadata']['HTTPStatusCode']}.\")\n",
    "except (iam.exceptions.EntityAlreadyExistsException) as exception:\n",
    "    console.print(f\"[yellow]Policy already present[/yellow]\")\n",
    "    policy = iam.get_policy(PolicyArn=f\"arn:aws:iam::{aws_account_id}:policy/crowd-workers-dev\")\n",
    "    console.print(\n",
    "        f\"[green]Policy retrieved[/green], HTTP STATUS CODE: {policy['ResponseMetadata']['HTTPStatusCode']}.\")\n",
    "serialize_json(folder_aws_path, f\"policy_{policy['Policy']['PolicyName']}.json\", policy)\n",
    "\n",
    "console.print(f\"Policy ARN: [cyan underline]{policy['Policy']['Arn']}[/cyan underline]\")\n",
    "\n",
    "console.rule(\"IAM user [cyan underline]worker-dev[/cyan underline]\")\n",
    "\n",
    "user = None\n",
    "try:\n",
    "    user = iam.create_user(UserName=\"worker-dev\")\n",
    "    console.print(\n",
    "        f\"[green]user created[/green], HTTP STATUS CODE: {user['ResponseMetadata']['HTTPStatusCode']}.\")\n",
    "except (iam.exceptions.EntityAlreadyExistsException) as exception:\n",
    "    console.print(f\"[yellow]User already present[/yellow]\")\n",
    "    user = iam.get_user(UserName=\"worker-dev\")\n",
    "    console.print(\n",
    "        f\"[green]User retrieved[green], HTTP STATUS CODE: {user['ResponseMetadata']['HTTPStatusCode']}.\")\n",
    "serialize_json(folder_aws_path, f\"user_{user['User']['UserName']}_data.json\", user)\n",
    "\n",
    "response = iam.attach_user_policy(UserName=user['User']['UserName'], PolicyArn=policy['Policy']['Arn'])\n",
    "policy = iam.get_policy(PolicyArn=f\"{policy['Policy']['Arn']}\")\n",
    "console.print(\n",
    "    f\"[green]Policy with ARN [cyan underline]{policy['Policy']['Arn']}[/cyan underline] attached to user, HTTP STATUS CODE: {user['ResponseMetadata']['HTTPStatusCode']}\")\n",
    "\n",
    "keys = []\n",
    "paginator = iam.get_paginator('list_access_keys')\n",
    "for found_keys in paginator.paginate(UserName=user['User']['UserName']):\n",
    "    for (index, key) in enumerate(found_keys['AccessKeyMetadata']):\n",
    "        keyData = read_json(f\"{folder_aws_path}user_{user['User']['UserName']}_access_key_{key['AccessKeyId']}.json\")\n",
    "        if keyData:\n",
    "            keys.append(keyData)\n",
    "        else:\n",
    "            response = iam.delete_access_key(UserName=user['User']['UserName'], AccessKeyId=key['AccessKeyId'])\n",
    "            console.print(\n",
    "                f\"[red]Key {index} data not found on disk[/red]; deleting it on AWS, HTTP STATUS CODE: {response['ResponseMetadata']['HTTPStatusCode']}\")\n",
    "\n",
    "if len(keys) < 2:\n",
    "    key = iam.create_access_key(UserName=user['User']['UserName'])\n",
    "    serialize_json(folder_aws_path, f\"user_{user['User']['UserName']}_access_key_{key['AccessKey']['AccessKeyId']}.json\", key)\n",
    "    console.print(f\"[green]Access key created[/green], HTTP STATUS CODE: {key['ResponseMetadata']['HTTPStatusCode']}.\")\n",
    "    keys.append(key)\n",
    "    if not os.path.exists(f\"{folder_aws_path}user_{user['User']['UserName']}_access_key_{key['AccessKey']['AccessKeyId']}.json\"):\n",
    "        serialize_json(folder_aws_path, f\"user_{user['User']['UserName']}_access_key_{key['AccessKey']['AccessKeyId']}.json\", key)\n",
    "        console.print(f\"[green]Access key created[/green], HTTP STATUS CODE: {key['ResponseMetadata']['HTTPStatusCode']}.\")\n",
    "\n",
    "key_selected = random.choice(keys)\n",
    "key_data = read_json(f\"{folder_aws_path}user_{user['User']['UserName']}_access_key_{key_selected['AccessKey']['AccessKeyId']}.json\")\n",
    "\n",
    "console.print(\"Key data found on disk and loaded\")\n",
    "\n",
    "aws_worker_access_id = key_data['AccessKey']['AccessKeyId']\n",
    "aws_worker_access_secret = key_data['AccessKey']['SecretAccessKey']\n",
    "\n",
    "keyCont()"
   ]
  },
  {
   "cell_type": "markdown",
   "metadata": {
    "pycharm": {
     "name": "#%% md\n"
    }
   },
   "source": [
    "## Section 5 - Private and deploy bucket creation\n",
    "### build/aws"
   ]
  },
  {
   "cell_type": "code",
   "execution_count": 5,
   "metadata": {
    "pycharm": {
     "name": "#%%\n"
    }
   },
   "outputs": [
    {
     "data": {
      "text/html": [
       "<pre style=\"white-space:pre;overflow-x:auto;line-height:normal;font-family:Menlo,'DejaVu Sans Mono',consolas,'Courier New',monospace\"><span style=\"color: #00ff00; text-decoration-color: #00ff00\">─────────────────────────────────── </span>bucket <span style=\"color: #008080; text-decoration-color: #008080; text-decoration: underline\">test-tasks-us</span><span style=\"color: #00ff00; text-decoration-color: #00ff00\"> ────────────────────────────────────</span>\n",
       "</pre>\n"
      ],
      "text/plain": [
       "\u001b[92m─────────────────────────────────── \u001b[0mbucket \u001b[4;36mtest-tasks-us\u001b[0m\u001b[92m ────────────────────────────────────\u001b[0m\n"
      ]
     },
     "metadata": {},
     "output_type": "display_data"
    },
    {
     "data": {
      "text/html": [
       "<pre style=\"white-space:pre;overflow-x:auto;line-height:normal;font-family:Menlo,'DejaVu Sans Mono',consolas,'Courier New',monospace\"><span style=\"color: #008000; text-decoration-color: #008000\">Bucket creation completed</span>, HTTP STATUS CODE: <span style=\"color: #008080; text-decoration-color: #008080; font-weight: bold\">200</span>.\n",
       "</pre>\n"
      ],
      "text/plain": [
       "\u001b[32mBucket creation completed\u001b[0m, HTTP STATUS CODE: \u001b[1;36m200\u001b[0m.\n"
      ]
     },
     "metadata": {},
     "output_type": "display_data"
    },
    {
     "data": {
      "text/html": [
       "<pre style=\"white-space:pre;overflow-x:auto;line-height:normal;font-family:Menlo,'DejaVu Sans Mono',consolas,'Courier New',monospace\"><span style=\"color: #008000; text-decoration-color: #008000\">Public access blocked</span>, HTTP STATUS CODE: <span style=\"color: #008080; text-decoration-color: #008080; font-weight: bold\">200</span>.\n",
       "</pre>\n"
      ],
      "text/plain": [
       "\u001b[32mPublic access blocked\u001b[0m, HTTP STATUS CODE: \u001b[1;36m200\u001b[0m.\n"
      ]
     },
     "metadata": {},
     "output_type": "display_data"
    },
    {
     "data": {
      "text/html": [
       "<pre style=\"white-space:pre;overflow-x:auto;line-height:normal;font-family:Menlo,'DejaVu Sans Mono',consolas,'Courier New',monospace\"><span style=\"color: #808000; text-decoration-color: #808000\">Policy already present</span>, HTTP STATUS CODE: <span style=\"color: #008080; text-decoration-color: #008080; font-weight: bold\">200</span>.\n",
       "</pre>\n"
      ],
      "text/plain": [
       "\u001b[33mPolicy already present\u001b[0m, HTTP STATUS CODE: \u001b[1;36m200\u001b[0m.\n"
      ]
     },
     "metadata": {},
     "output_type": "display_data"
    },
    {
     "data": {
      "text/html": [
       "<pre style=\"white-space:pre;overflow-x:auto;line-height:normal;font-family:Menlo,'DejaVu Sans Mono',consolas,'Courier New',monospace\"><span style=\"color: #808000; text-decoration-color: #808000\">CORS Configuration already present</span>, HTTP STATUS CODE: <span style=\"color: #008080; text-decoration-color: #008080; font-weight: bold\">200</span>.\n",
       "</pre>\n"
      ],
      "text/plain": [
       "\u001b[33mCORS Configuration already present\u001b[0m, HTTP STATUS CODE: \u001b[1;36m200\u001b[0m.\n"
      ]
     },
     "metadata": {},
     "output_type": "display_data"
    },
    {
     "data": {
      "text/html": [
       "<pre style=\"white-space:pre;overflow-x:auto;line-height:normal;font-family:Menlo,'DejaVu Sans Mono',consolas,'Courier New',monospace\"><span style=\"color: #00ff00; text-decoration-color: #00ff00\">─────────────────────────────────── </span>bucket <span style=\"color: #008080; text-decoration-color: #008080; text-decoration: underline\">test-deploy-us</span><span style=\"color: #00ff00; text-decoration-color: #00ff00\"> ───────────────────────────────────</span>\n",
       "</pre>\n"
      ],
      "text/plain": [
       "\u001b[92m─────────────────────────────────── \u001b[0mbucket \u001b[4;36mtest-deploy-us\u001b[0m\u001b[92m ───────────────────────────────────\u001b[0m\n"
      ]
     },
     "metadata": {},
     "output_type": "display_data"
    },
    {
     "data": {
      "text/html": [
       "<pre style=\"white-space:pre;overflow-x:auto;line-height:normal;font-family:Menlo,'DejaVu Sans Mono',consolas,'Courier New',monospace\"><span style=\"color: #008000; text-decoration-color: #008000\">Bucket creation completed</span>, HTTP STATUS CODE: <span style=\"color: #008080; text-decoration-color: #008080; font-weight: bold\">200</span>.\n",
       "</pre>\n"
      ],
      "text/plain": [
       "\u001b[32mBucket creation completed\u001b[0m, HTTP STATUS CODE: \u001b[1;36m200\u001b[0m.\n"
      ]
     },
     "metadata": {},
     "output_type": "display_data"
    },
    {
     "data": {
      "text/html": [
       "<pre style=\"white-space:pre;overflow-x:auto;line-height:normal;font-family:Menlo,'DejaVu Sans Mono',consolas,'Courier New',monospace\"><span style=\"color: #808000; text-decoration-color: #808000\">Policy already present</span>, HTTP STATUS CODE: <span style=\"color: #008080; text-decoration-color: #008080; font-weight: bold\">200</span>.\n",
       "</pre>\n"
      ],
      "text/plain": [
       "\u001b[33mPolicy already present\u001b[0m, HTTP STATUS CODE: \u001b[1;36m200\u001b[0m.\n"
      ]
     },
     "metadata": {},
     "output_type": "display_data"
    }
   ],
   "source": [
    "s3_client = botoSession.client('s3')\n",
    "s3_resource = botoSession.resource('s3')\n",
    "\n",
    "buckets = []\n",
    "for bucket in s3_resource.buckets.all():\n",
    "    buckets.append(bucket.name)\n",
    "\n",
    "console.rule(f\"bucket [cyan underline]{aws_private_bucket}[/cyan underline]\")\n",
    "\n",
    "try:\n",
    "    if aws_region == 'us-east-1':\n",
    "        private_bucket = s3_client.create_bucket(\n",
    "            Bucket=aws_private_bucket\n",
    "        )\n",
    "    else:\n",
    "        private_bucket = s3_client.create_bucket(\n",
    "            Bucket=aws_private_bucket,\n",
    "            CreateBucketConfiguration={\n",
    "                'LocationConstraint': aws_region\n",
    "            }\n",
    "        )\n",
    "    console.print(f\"[green]Bucket creation completed[/green], HTTP STATUS CODE: {private_bucket['ResponseMetadata']['HTTPStatusCode']}.\")\n",
    "except s3_client.exceptions.BucketAlreadyOwnedByYou as error:\n",
    "    private_bucket = s3_resource.Bucket(aws_private_bucket)\n",
    "    console.print(f\"[yellow]Bucket already present[/yellow], HTTP STATUS CODE: {error.response['ResponseMetadata']['HTTPStatusCode']}.\")\n",
    "serialize_json(folder_aws_path, f\"bucket_{aws_private_bucket}.json\", private_bucket)\n",
    "\n",
    "response = s3_client.put_public_access_block(\n",
    "    Bucket=aws_private_bucket,\n",
    "    PublicAccessBlockConfiguration={\n",
    "        'BlockPublicAcls': True,\n",
    "        'IgnorePublicAcls': True,\n",
    "        'BlockPublicPolicy': True,\n",
    "        'RestrictPublicBuckets': True\n",
    "    },\n",
    ")\n",
    "console.print(f\"[green]Public access blocked[/green], HTTP STATUS CODE: {response['ResponseMetadata']['HTTPStatusCode']}.\")\n",
    "\n",
    "private_bucket_policy = {\n",
    "    \"Version\": \"2012-10-17\",\n",
    "    \"Id\": \"private-bucket-policy\",\n",
    "    \"Statement\": [\n",
    "        {\n",
    "            \"Sid\": \"allow-bucket-interaction\",\n",
    "            \"Effect\": \"Allow\",\n",
    "            \"Principal\": {\n",
    "                \"AWS\": f\"arn:aws:iam::{aws_account_id}:user/{user['User']['UserName']}\",\n",
    "            },\n",
    "            \"Action\": [\n",
    "                \"s3:PutObject\",\n",
    "                \"s3:GetObject\",\n",
    "                \"s3:ListBucket\"\n",
    "            ],\n",
    "            \"Resource\": [\n",
    "                f\"arn:aws:s3:::{aws_private_bucket}\",\n",
    "                f\"arn:aws:s3:::{aws_private_bucket}/*\"\n",
    "            ]\n",
    "        }\n",
    "    ]\n",
    "}\n",
    "\n",
    "try:\n",
    "    policy = s3_client.get_bucket_policy(Bucket=aws_private_bucket)\n",
    "    policy['Policy'] = json.loads(policy['Policy'])\n",
    "    console.print(f\"[yellow]Policy already present[/yellow], HTTP STATUS CODE: {response['ResponseMetadata']['HTTPStatusCode']}.\")\n",
    "except ClientError as e:\n",
    "    if e.response['Error']['Code'] == 'NoSuchBucketPolicy':\n",
    "        response = s3_client.put_bucket_policy(Bucket=aws_private_bucket, Policy=json.dumps(private_bucket_policy))\n",
    "        console.print(f\"[green]Policy configuration completed[/green], HTTP STATUS CODE: {response['ResponseMetadata']['HTTPStatusCode']}.\")\n",
    "    policy = s3_client.get_bucket_policy(Bucket=aws_private_bucket)\n",
    "    policy['Policy'] = json.loads(policy['Policy'])\n",
    "serialize_json(folder_aws_path, f\"bucket_{aws_private_bucket}_policy.json\", policy)\n",
    "\n",
    "cors_configuration = {\n",
    "    'CORSRules': [{\n",
    "        'AllowedHeaders': ['*'],\n",
    "        'AllowedMethods': ['GET', 'HEAD', 'PUT'],\n",
    "        'AllowedOrigins': ['*'],\n",
    "        'ExposeHeaders': [],\n",
    "        'MaxAgeSeconds': 3000\n",
    "    }]\n",
    "}\n",
    "\n",
    "try:\n",
    "    cors_configuration = s3_client.get_bucket_cors(Bucket=aws_private_bucket)\n",
    "    console.print(f\"[yellow]CORS Configuration already present[/yellow], HTTP STATUS CODE: {response['ResponseMetadata']['HTTPStatusCode']}.\")\n",
    "except ClientError as e:\n",
    "    if e.response['Error']['Code'] == 'NoSuchCORSConfiguration':\n",
    "        response = s3_client.put_bucket_cors(Bucket=aws_private_bucket, CORSConfiguration=cors_configuration)\n",
    "        console.print(f\"[green]CORS configuration completed[green], HTTP STATUS CODE: {response['ResponseMetadata']['HTTPStatusCode']}.\")\n",
    "cors_configuration = s3_client.get_bucket_cors(Bucket=aws_private_bucket)\n",
    "serialize_json(folder_aws_path, f\"bucket_{aws_private_bucket}_cors.json\", cors_configuration)\n",
    "\n",
    "console.rule(f\"bucket [cyan underline]{aws_deploy_bucket}[/cyan underline]\")\n",
    "\n",
    "try:\n",
    "    if aws_region == 'us-east-1':\n",
    "        deploy_bucket = s3_client.create_bucket(\n",
    "            Bucket=aws_deploy_bucket\n",
    "        )\n",
    "    else:\n",
    "        deploy_bucket = s3_client.create_bucket(\n",
    "            Bucket=aws_deploy_bucket,\n",
    "            CreateBucketConfiguration={\n",
    "                'LocationConstraint': aws_region\n",
    "            }\n",
    "        )\n",
    "    console.print(f\"[green]Bucket creation completed[/green], HTTP STATUS CODE: {deploy_bucket['ResponseMetadata']['HTTPStatusCode']}.\")\n",
    "except s3_client.exceptions.BucketAlreadyOwnedByYou as error:\n",
    "    deploy_bucket = s3_resource.Bucket(aws_deploy_bucket)\n",
    "    console.print(f\"[yellow]Bucket already present[/yellow], HTTP STATUS CODE: {error.response['ResponseMetadata']['HTTPStatusCode']}.\")\n",
    "serialize_json(folder_aws_path, f\"bucket_{aws_deploy_bucket}.json\", deploy_bucket)\n",
    "\n",
    "deploy_bucket_policy = {\n",
    "    \"Version\": \"2012-10-17\",\n",
    "    \"Id\": \"deploy-bucket-policy\",\n",
    "    \"Statement\": [\n",
    "        {\n",
    "            \"Sid\": \"allow-bucket-interaction\",\n",
    "            \"Effect\": \"Allow\",\n",
    "            \"Principal\": {\n",
    "                \"AWS\": f\"arn:aws:iam::{aws_account_id}:user/{user['User']['UserName']}\"\n",
    "            },\n",
    "            \"Action\": [\n",
    "                \"s3:PutObject\",\n",
    "                \"s3:GetObject\",\n",
    "                \"s3:ListBucket\"\n",
    "            ],\n",
    "            \"Resource\": [\n",
    "                f\"arn:aws:s3:::{aws_deploy_bucket}\",\n",
    "                f\"arn:aws:s3:::{aws_deploy_bucket}/*\"\n",
    "            ]\n",
    "        },\n",
    "        {\n",
    "            \"Sid\": \"allow-bucket-administration\",\n",
    "            \"Effect\": \"Allow\",\n",
    "            \"Principal\": {\n",
    "                \"AWS\": root_user.arn\n",
    "            },\n",
    "            \"Action\": [\n",
    "                \"s3:*\",\n",
    "            ],\n",
    "            \"Resource\": [\n",
    "                f\"arn:aws:s3:::{aws_deploy_bucket}\",\n",
    "                f\"arn:aws:s3:::{aws_deploy_bucket}/*\"\n",
    "            ]\n",
    "        }\n",
    "    ]\n",
    "}\n",
    "\n",
    "try:\n",
    "    policy = s3_client.get_bucket_policy(Bucket=aws_deploy_bucket)\n",
    "    policy['Policy'] = json.loads(policy['Policy'])\n",
    "    console.print(f\"[yellow]Policy already present[/yellow], HTTP STATUS CODE: {response['ResponseMetadata']['HTTPStatusCode']}.\")\n",
    "except ClientError as e:\n",
    "    if e.response['Error']['Code'] == 'NoSuchBucketPolicy':\n",
    "        response = s3_client.put_bucket_policy(Bucket=aws_deploy_bucket, Policy=json.dumps(deploy_bucket_policy))\n",
    "        console.print(f\"[green]Policy configuration completed[/green], HTTP STATUS CODE: {response['ResponseMetadata']['HTTPStatusCode']}.\")\n",
    "    policy = s3_client.get_bucket_policy(Bucket=aws_deploy_bucket)\n",
    "    policy['Policy'] = json.loads(policy['Policy'])\n",
    "serialize_json(folder_aws_path, f\"bucket_{aws_private_bucket}_policy.json\", policy)\n",
    "\n",
    "keyCont()"
   ]
  },
  {
   "cell_type": "markdown",
   "metadata": {},
   "source": [
    "## Section 6 - Logging Server"
   ]
  },
  {
   "cell_type": "code",
   "execution_count": 29,
   "metadata": {
    "pycharm": {
     "name": "#%%\n"
    }
   },
   "outputs": [
    {
     "data": {
      "application/vnd.jupyter.widget-view+json": {
       "model_id": "f2699e2de53348658aba243937444b3e",
       "version_major": 2,
       "version_minor": 0
      },
      "text/plain": [
       "Output()"
      ]
     },
     "metadata": {},
     "output_type": "display_data"
    },
    {
     "data": {
      "text/html": [
       "<pre style=\"white-space:pre;overflow-x:auto;line-height:normal;font-family:Menlo,'DejaVu Sans Mono',consolas,'Courier New',monospace\">The following policies were already created <span style=\"font-weight: bold\">[</span><span style=\"color: #008000; text-decoration-color: #008000\">'gatewayToSQS'</span>, <span style=\"color: #008000; text-decoration-color: #008000\">'lambdaToDynamo'</span>, \n",
       "<span style=\"color: #008000; text-decoration-color: #008000\">'lambdaToDynamoS3'</span>, <span style=\"color: #008000; text-decoration-color: #008000\">'sqsToLambda'</span><span style=\"font-weight: bold\">]</span>\n",
       "</pre>\n"
      ],
      "text/plain": [
       "The following policies were already created \u001b[1m[\u001b[0m\u001b[32m'gatewayToSQS'\u001b[0m, \u001b[32m'lambdaToDynamo'\u001b[0m, \n",
       "\u001b[32m'lambdaToDynamoS3'\u001b[0m, \u001b[32m'sqsToLambda'\u001b[0m\u001b[1m]\u001b[0m\n"
      ]
     },
     "metadata": {},
     "output_type": "display_data"
    },
    {
     "data": {
      "text/html": [
       "<pre style=\"white-space:pre;overflow-x:auto;line-height:normal;font-family:Menlo,'DejaVu Sans Mono',consolas,'Courier New',monospace\">The following roles were already created <span style=\"font-weight: bold\">[</span><span style=\"color: #008000; text-decoration-color: #008000\">'gatewayToSQS'</span>, <span style=\"color: #008000; text-decoration-color: #008000\">'lambdaToDynamo'</span>, \n",
       "<span style=\"color: #008000; text-decoration-color: #008000\">'lambdaToDynamoS3'</span>, <span style=\"color: #008000; text-decoration-color: #008000\">'sqsToLambda'</span><span style=\"font-weight: bold\">]</span>\n",
       "</pre>\n"
      ],
      "text/plain": [
       "The following roles were already created \u001b[1m[\u001b[0m\u001b[32m'gatewayToSQS'\u001b[0m, \u001b[32m'lambdaToDynamo'\u001b[0m, \n",
       "\u001b[32m'lambdaToDynamoS3'\u001b[0m, \u001b[32m'sqsToLambda'\u001b[0m\u001b[1m]\u001b[0m\n"
      ]
     },
     "metadata": {},
     "output_type": "display_data"
    },
    {
     "data": {
      "text/html": [
       "<pre style=\"white-space:pre;overflow-x:auto;line-height:normal;font-family:Menlo,'DejaVu Sans Mono',consolas,'Courier New',monospace\">Queue already exists\n",
       "</pre>\n"
      ],
      "text/plain": [
       "Queue already exists\n"
      ]
     },
     "metadata": {},
     "output_type": "display_data"
    },
    {
     "data": {
      "text/html": [
       "<pre style=\"white-space:pre;overflow-x:auto;line-height:normal;font-family:Menlo,'DejaVu Sans Mono',consolas,'Courier New',monospace\"><a href=\"https://0oa4lmwm8h.execute-api.us-east-1.amazonaws.com/log\">API endpoint</a> generated previously.\n",
       "</pre>\n"
      ],
      "text/plain": [
       "\u001b]8;id=1626280399.461143-687019;https://0oa4lmwm8h.execute-api.us-east-1.amazonaws.com/log\u001b\\API endpoint\u001b]8;;\u001b\\ generated previously.\n"
      ]
     },
     "metadata": {},
     "output_type": "display_data"
    },
    {
     "data": {
      "text/html": [
       "<pre style=\"white-space:pre;overflow-x:auto;line-height:normal;font-family:Menlo,'DejaVu Sans Mono',consolas,'Courier New',monospace\">Table <span style=\"color: #008000; text-decoration-color: #008000\">'Test_Batch-1'</span> already created.\n",
       "</pre>\n"
      ],
      "text/plain": [
       "Table \u001b[32m'Test_Batch-1'\u001b[0m already created.\n"
      ]
     },
     "metadata": {},
     "output_type": "display_data"
    },
    {
     "data": {
      "text/html": [
       "<pre style=\"white-space:pre;overflow-x:auto;line-height:normal;font-family:Menlo,'DejaVu Sans Mono',consolas,'Courier New',monospace\">Function <span style=\"color: #008000; text-decoration-color: #008000\">'crowdLoggerLambda'</span> already created\n",
       "</pre>\n"
      ],
      "text/plain": [
       "Function \u001b[32m'crowdLoggerLambda'\u001b[0m already created\n"
      ]
     },
     "metadata": {},
     "output_type": "display_data"
    }
   ],
   "source": [
    "if server_config:\n",
    "    path = '/crowdFrame/'\n",
    "\n",
    "    policies = []\n",
    "    roles = []\n",
    "\n",
    "    policyList = [file for file in os.listdir('aws_server/policy') if 'To' in file]\n",
    "    for file in track(policyList, description=\"Setting up policies and roles...\"):\n",
    "        name = file.split('.')[0]\n",
    "        with open(f'aws_server/policy/{file}') as f:\n",
    "            policyDocument = json.dumps(json.load(f))\n",
    "\n",
    "        try:\n",
    "            iam.create_policy(\n",
    "                PolicyName=name,\n",
    "                PolicyDocument=policyDocument,\n",
    "                Path=path,\n",
    "                Description='Policy for Crowd Frame log system'\n",
    "            )\n",
    "        except iam.exceptions.EntityAlreadyExistsException:\n",
    "            policies.append(name)\n",
    "\n",
    "        with open(f'aws_server/policy/{name.split(\"To\")[0]}.json') as f:\n",
    "            policyDocument = json.dumps(json.load(f))\n",
    "        try:\n",
    "            iam.create_role(\n",
    "                RoleName=name,\n",
    "                AssumeRolePolicyDocument=policyDocument,\n",
    "                Path=path,\n",
    "                Description='Role for Crowd Frame log system'\n",
    "            )\n",
    "        except iam.exceptions.EntityAlreadyExistsException:\n",
    "            roles.append(name)\n",
    "\n",
    "        iam.attach_role_policy(\n",
    "            RoleName=name,\n",
    "            PolicyArn=f\"arn:aws:iam::{aws_account_id}:policy{path}{name}\"\n",
    "        )\n",
    "    if policies:\n",
    "        console.print(f\"The following policies were already created {policies}\")\n",
    "    if roles:\n",
    "        console.print(f\"The following roles were already created {roles}\")\n",
    "\n",
    "    sqs = botoSession.client('sqs')\n",
    "    queue = {}\n",
    "    if 'QueueUrls' not in sqs.list_queues(QueueNamePrefix=\"crowdFrameQueue\"):\n",
    "        with open(f'aws_server/policy/sqsPolicy.json') as f:\n",
    "            policyDocument = json.dumps(json.load(f))\n",
    "        queue['url'] = sqs.create_queue(\n",
    "            QueueName='crowdFrameQueue',\n",
    "            Attributes={\n",
    "                'Policy': policyDocument\n",
    "            }\n",
    "        )['QueueUrl']\n",
    "        queue['arn'] = sqs.get_queue_attributes(\n",
    "            QueueUrl=queue['url'],\n",
    "            AttributeNames=['QueueArn']\n",
    "        )['Attributes']['QueueArn']\n",
    "        console.print(\"Queue created\")\n",
    "    else:\n",
    "        queue['url'] = sqs.list_queues(QueueNamePrefix=\"crowdFrameQueue\")['QueueUrls'][0]\n",
    "        queue['arn'] = sqs.get_queue_attributes(\n",
    "            QueueUrl=queue['url'],\n",
    "            AttributeNames=['QueueArn']\n",
    "        )['Attributes']['QueueArn']\n",
    "        console.print(\"Queue already exists\")\n",
    "\n",
    "    apiGateway = botoSession.client('apigatewayv2')\n",
    "    if not any(api for api in apiGateway.get_apis()['Items'] if api['Name'] == 'crowdFrameAPI'):\n",
    "        response = apiGateway.create_api(\n",
    "            CorsConfiguration={\n",
    "                'AllowCredentials': False,\n",
    "                'AllowHeaders': ['*'],\n",
    "                'AllowMethods': ['POST'],\n",
    "                'AllowOrigins': ['*'],\n",
    "                'ExposeHeaders': ['*'],\n",
    "                'MaxAge': 300\n",
    "            },\n",
    "            Name='crowdFrameAPI',\n",
    "            ProtocolType='HTTP'\n",
    "        )\n",
    "        api = dict((key, response[key]) for key in ['ApiEndpoint', 'ApiId'])\n",
    "        api['integration'] = apiGateway.create_integration(\n",
    "            ApiId=api['ApiId'],\n",
    "            IntegrationType='AWS_PROXY',\n",
    "            IntegrationSubtype='SQS-SendMessage',\n",
    "            PayloadFormatVersion='1.0',\n",
    "            CredentialsArn= f'arn:aws:iam::{aws_account_id}:role{path}gatewayToSQS',\n",
    "            RequestParameters={\n",
    "                'QueueUrl': queue['url'],\n",
    "                'MessageBody': '$request.body'\n",
    "            }\n",
    "        )['IntegrationId']\n",
    "        apiGateway.create_route(\n",
    "            ApiId=api['ApiId'],\n",
    "            RouteKey='POST /log',\n",
    "            Target='integrations/' + api['integration']\n",
    "        )\n",
    "        console.print(f'[link={api[\"ApiEndpoint\"]}/log]API endpoint[/link] created.')\n",
    "    else:\n",
    "        api = [api for api in apiGateway.get_apis()['Items'] if api['Name'] == 'crowdFrameAPI'][0]\n",
    "        api = dict((key, api[key]) for key in ['ApiEndpoint', 'ApiId'])\n",
    "        console.print(f'[link={api[\"ApiEndpoint\"]}/log]API endpoint[/link] generated previously.')\n",
    "\n",
    "    dynamo = botoSession.client('dynamodb')\n",
    "    try:\n",
    "        dynamo.create_table(\n",
    "            TableName=f\"{task_name}_{batch_name}\",\n",
    "            AttributeDefinitions=[{'AttributeName': 'sequence', 'AttributeType': 'N'},\n",
    "                                  {'AttributeName': 'worker', 'AttributeType': 'S'}],\n",
    "            KeySchema=[{'AttributeName': 'worker', 'KeyType': 'HASH'},\n",
    "                       {'AttributeName': 'sequence', 'KeyType': 'RANGE'}],\n",
    "            BillingMode='PAY_PER_REQUEST'\n",
    "        )\n",
    "    except dynamo.exceptions.ResourceInUseException:\n",
    "        console.print(f\"Table '{task_name}_{batch_name}' already created.\")\n",
    "\n",
    "    lambdaClient = botoSession.client('lambda')\n",
    "\n",
    "    try:\n",
    "        lambdaClient.create_function(\n",
    "            FunctionName='crowdLoggerLambda',\n",
    "            Runtime='nodejs14.x',\n",
    "            Handler='index.handler',\n",
    "            Role=f'arn:aws:iam::{aws_account_id}:role{path}lambdaToDynamoS3',\n",
    "            Code={\n",
    "                'ZipFile': open('aws_server/index.zip', 'rb').read()\n",
    "            },\n",
    "            Timeout=10,\n",
    "            PackageType='Zip'\n",
    "        )\n",
    "        lambdaClient.create_event_source_mapping(\n",
    "            EventSourceArn=queue['arn'],\n",
    "            FunctionName='crowdLoggerLambda',\n",
    "            Enabled=True,\n",
    "            BatchSize=1000,\n",
    "            MaximumBatchingWindowInSeconds=30\n",
    "        )\n",
    "        console.print('Function created')\n",
    "    except lambdaClient.exceptions.ResourceConflictException:\n",
    "        console.print(\"Function 'crowdLoggerLambda' already created\")"
   ]
  },
  {
   "cell_type": "markdown",
   "metadata": {
    "pycharm": {
     "name": "#%% md\n"
    }
   },
   "source": [
    "## Section 7 - Environment file generation\n",
    "### build/environments"
   ]
  },
  {
   "cell_type": "code",
   "execution_count": null,
   "metadata": {
    "pycharm": {
     "name": "#%%\n"
    }
   },
   "outputs": [],
   "source": [
    "environment_development = f\"{folder_build_env_path}environment.ts\"\n",
    "environment_production = f\"{folder_build_env_path}environment.prod.ts\"\n",
    "\n",
    "console.rule(\"Environment: [cyan underline]PRODUCTION[/cyan underline]\")\n",
    "\n",
    "environment_dict = {\n",
    "    \"production\": 'true',\n",
    "    \"configuration_local\": 'false',\n",
    "    \"taskName\": task_name,\n",
    "    \"batchName\": batch_name,\n",
    "    \"region\": aws_region,\n",
    "    \"bucket\": aws_private_bucket,\n",
    "    \"aws_id_key\": aws_worker_access_id,\n",
    "    \"aws_secret_key\": aws_worker_access_secret,\n",
    "    \"bing_api_key\": bing_api_key\n",
    "}\n",
    "\n",
    "os.makedirs(folder_build_env_path, exist_ok=True)\n",
    "\n",
    "with open(environment_production, 'w') as file:\n",
    "    print(\"export const environment = {\", file=file)\n",
    "    for (env_var, value) in environment_dict.items():\n",
    "        if env_var == 'production' or env_var == 'configuration_local':\n",
    "            print(f\"\\t{env_var}: {value},\", file=file)\n",
    "        else:\n",
    "            print(f\"\\t{env_var}: \\\"{value}\\\",\", file=file)\n",
    "    print(\"};\", file=file)\n",
    "\n",
    "console.print(\"File [cyan underline]environment.prod.ts[/cyan underline] generated\")\n",
    "console.print(f\"Path: [italic]{environment_production}[/italic]\")\n",
    "\n",
    "console.rule(\"Environment: [cyan underline]DEVELOPMENT[/cyan underline]\")\n",
    "\n",
    "environment_dict = {\n",
    "    \"production\": 'false',\n",
    "    \"configuration_local\": 'false',\n",
    "    \"taskName\": task_name,\n",
    "    \"batchName\": batch_name,\n",
    "    \"region\": aws_region,\n",
    "    \"bucket\": aws_private_bucket,\n",
    "    \"aws_id_key\": aws_worker_access_id,\n",
    "    \"aws_secret_key\": aws_worker_access_secret,\n",
    "    \"bing_api_key\": bing_api_key\n",
    "}\n",
    "\n",
    "with open(environment_development, 'w') as file:\n",
    "    print(\"export const environment = {\", file=file)\n",
    "    for (env_var, value) in environment_dict.items():\n",
    "        if env_var == 'production' or env_var == 'configuration_local':\n",
    "            print(f\"\\t{env_var}: {value},\", file=file)\n",
    "        else:\n",
    "            print(f\"\\t{env_var}: \\\"{value}\\\",\", file=file)\n",
    "    print(\"};\", file=file)\n",
    "\n",
    "console.print(\"File [cyan underline]environment.ts[/cyan underline] generated\")\n",
    "console.print(f\"Path: [italic]{environment_development}[/italic]\")"
   ]
  },
  {
   "cell_type": "markdown",
   "metadata": {
    "pycharm": {
     "name": "#%% md\n"
    }
   },
   "source": [
    "## Section 8 - admin.json file generation\n",
    "### build/config"
   ]
  },
  {
   "cell_type": "code",
   "execution_count": null,
   "metadata": {
    "pycharm": {
     "name": "#%%\n"
    }
   },
   "outputs": [],
   "source": [
    "import hmac\n",
    "import hashlib\n",
    "\n",
    "console.rule(\"File [cyan underline]admin.json\")\n",
    "\n",
    "if not os.path.exists(folder_build_config_path):\n",
    "    os.makedirs(folder_build_config_path, exist_ok=True)\n",
    "\n",
    "admin_file = f\"{folder_build_config_path}admin.json\"\n",
    "\n",
    "console.print(\"Creating hash with [cyan underline]hmac[/cyan underline] and [cyan underline]sha256[/cyan underline]\")\n",
    "console.print(f\"Processing user with username: [white on purple]{admin_user}[white on purple]\")\n",
    "\n",
    "admins = []\n",
    "body = f\"username:{admin_user}\"\n",
    "digest_maker = hmac.new(admin_password.encode(), body.encode(), hashlib.sha256)\n",
    "admins.append(digest_maker.hexdigest())\n",
    "with open(admin_file, 'w') as file:\n",
    "    json.dump(admins, file, indent=4)\n",
    "\n",
    "console.print(f\"Path: [italic]{admin_file}\")"
   ]
  },
  {
   "cell_type": "markdown",
   "metadata": {},
   "source": [
    "## Section 9 - Sample configuration generation\n",
    "### build/task"
   ]
  },
  {
   "cell_type": "code",
   "execution_count": null,
   "metadata": {
    "pycharm": {
     "name": "#%%\n"
    }
   },
   "outputs": [],
   "source": [
    "console.rule(\"Sample task configuration\")\n",
    "\n",
    "filename = \"hits.json\"\n",
    "if os.path.exists(f\"{folder_build_task_path}{filename}\"):\n",
    "    console.print(f\"Config. file [italic white on green]{filename}[/italic white on green] detected, skipping generation\")\n",
    "else:\n",
    "    console.print(f\"Config. file [italic white on yellow]{filename}[/italic white on yellow] not detected, generating a sample\")\n",
    "    with open(f\"{folder_build_task_path}{filename}\", 'w') as file:\n",
    "        sample_units = [{\n",
    "            \"unit_id\": \"unit_0\",\n",
    "            \"token_input\": \"ABCDEFGHILM\",\n",
    "            \"token_output\": \"MNOPQRSTUVZ\",\n",
    "            \"documents_number\": 1,\n",
    "            \"documents\": [\n",
    "                {\n",
    "                    \"id\": \"identifier_1\",\n",
    "                    \"text\": \"Lorem ipsum dolor sit amet\"\n",
    "                }\n",
    "            ]\n",
    "        }]\n",
    "        print(json.dumps(sample_units, indent=4), file=file)\n",
    "\n",
    "filename = \"questionnaires.json\"\n",
    "if os.path.exists(f\"{folder_build_task_path}{filename}\"):\n",
    "    console.print(f\"Config. file [italic white on green]{filename}[/italic white on green] detected, skipping generation\")\n",
    "else:\n",
    "    console.print(f\"Config. file [italic white on yellow]{filename}[/italic white on yellow] not detected, generating a sample\")\n",
    "    with open(f\"{folder_build_task_path}{filename}\", 'w') as file:\n",
    "        sample_questionnaires = [\n",
    "            {\n",
    "                \"type\": \"standard\",\n",
    "                \"position\": \"start\",\n",
    "                \"questions\": [\n",
    "                    {\n",
    "                        \"name\": \"age\",\n",
    "                        \"text\": \"What is your age range?\",\n",
    "                        \"answers\": [\n",
    "                            \"0-18\",\n",
    "                            \"19-25\",\n",
    "                            \"26-35\",\n",
    "                            \"36-50\",\n",
    "                            \"50-80\",\n",
    "                            \"80\"\n",
    "                        ]\n",
    "                    }\n",
    "                ]\n",
    "            },\n",
    "            {\n",
    "                \"type\": \"crt\",\n",
    "                \"position\": \"start\",\n",
    "                \"questions\": [\n",
    "                    {\n",
    "                        \"name\": \"farmers\",\n",
    "                        \"text\": \"If three farmers can plant three trees in three hours, how long would it take nine farmers to plant nine trees?\"\n",
    "                    }\n",
    "                ]\n",
    "            },\n",
    "        ]\n",
    "        print(json.dumps(sample_questionnaires, indent=4), file=file)\n",
    "\n",
    "filename = \"dimensions.json\"\n",
    "if os.path.exists(f\"{folder_build_task_path}{filename}\"):\n",
    "    console.print(f\"Config. file [italic white on green]{filename}[/italic white on green] detected, skipping generation\")\n",
    "else:\n",
    "    console.print(f\"Config. file [italic white on yellow]{filename}[/italic white on yellow] not detected, generating a sample\")\n",
    "    with open(f\"{folder_build_task_path}{filename}\", 'w') as file:\n",
    "        sample_dimensions = [{\n",
    "            \"name\": \"sample-dimension\",\n",
    "            \"name_pretty\": \"Sample Dimension\",\n",
    "            \"description\": \"Lorem ipsum dolor sit amet\",\n",
    "            \"url\": False,\n",
    "            \"justification\": False,\n",
    "            \"scale\": {\n",
    "                \"type\": \"categorical\",\n",
    "                \"mapping\": [\n",
    "                    {\n",
    "                        \"label\": \"False\",\n",
    "                        \"description\": \"...\",\n",
    "                        \"value\": \"1\"\n",
    "                    },\n",
    "                    {\n",
    "                        \"label\": \"True\",\n",
    "                        \"description\": \"...\",\n",
    "                        \"value\": \"1\"\n",
    "                    }\n",
    "                ]\n",
    "            },\n",
    "            \"gold_question_check\": False,\n",
    "            \"style\": False\n",
    "        }]\n",
    "        print(json.dumps(sample_dimensions, indent=4), file=file)\n",
    "\n",
    "filename = \"instructions_main.json\"\n",
    "if os.path.exists(f\"{folder_build_task_path}{filename}\"):\n",
    "    console.print(f\"Config. file [italic white on green]{filename}[/italic white on green] detected, skipping generation\")\n",
    "else:\n",
    "    console.print(f\"Config. file [italic white on yellow]{filename}[/italic white on yellow] not detected, generating a sample\")\n",
    "    with open(f\"{folder_build_task_path}{filename}\", 'w') as file:\n",
    "        sample_instructions = [\n",
    "            {\n",
    "                \"caption\": \"Task Instructions\",\n",
    "                \"text\": \"<p>Lorem ipsum <strong>dolor</strong> sit amet.</p>\"\n",
    "            }\n",
    "        ]\n",
    "        print(json.dumps(sample_instructions, indent=4), file=file)\n",
    "\n",
    "filename = \"instructions_dimensions.json\"\n",
    "if os.path.exists(f\"{folder_build_task_path}{filename}\"):\n",
    "    console.print(f\"Config. file [italic white on green]{filename}[/italic white on green] detected, skipping generation\")\n",
    "else:\n",
    "    console.print(f\"Config. file [italic white on yellow]{filename}[/italic white on yellow] not detected, generating a sample\")\n",
    "    with open(f\"{folder_build_task_path}{filename}\", 'w') as file:\n",
    "        sample_instructions = [\n",
    "            {\n",
    "                \"caption\": \"Evaluation Instructions\",\n",
    "                \"text\": \"<p>Lorem ipsum <strong>dolor</strong> sit amet.</p>\"\n",
    "            }\n",
    "        ]\n",
    "        print(json.dumps(sample_instructions, indent=4), file=file)\n",
    "\n",
    "filename = \"search_engine.json\"\n",
    "if os.path.exists(f\"{folder_build_task_path}{filename}\"):\n",
    "    console.print(f\"Config. file [italic white on green]{filename}[/italic white on green] detected, skipping generation\")\n",
    "else:\n",
    "    console.print(f\"Config. file [italic white on yellow]{filename}[/italic white on yellow] not detected, generating a sample\")\n",
    "    with open(f\"{folder_build_task_path}{filename}\", 'w') as file:\n",
    "        sample_search_engine = {\n",
    "            \"source\": \"FakerWebSearch\",\n",
    "            \"domains_filter\": []\n",
    "        }\n",
    "\n",
    "        print(json.dumps(sample_search_engine, indent=4), file=file)\n",
    "\n",
    "filename = \"task.json\"\n",
    "if os.path.exists(f\"{folder_build_task_path}{filename}\"):\n",
    "    console.print(f\"Config. file [italic white on green]{filename}[/italic white on green] detected, skipping generation\")\n",
    "else:\n",
    "    console.print(f\"Config. file [italic white on yellow]{filename}[/italic white on yellow] not detected, generating a sample\")\n",
    "    with open(f\"{folder_build_task_path}{filename}\", 'w') as file:\n",
    "        sample_settings = {\n",
    "            \"task_name\": f\"{task_name}\",\n",
    "            \"batch_name\": f\"{batch_name}\",\n",
    "            \"allowed_tries\": 10,\n",
    "            \"time_check_amount\": 3,\n",
    "            \"annotator\": False,\n",
    "            \"countdown_time\": False,\n",
    "            \"blacklist_batches\": [],\n",
    "            \"whitelist_batches\": [],\n",
    "            \"messages\": [\"You have already started this task without finishing it\"]\n",
    "        }\n",
    "        print(json.dumps(sample_settings, indent=4), file=file)\n",
    "\n",
    "filename = \"workers.json\"\n",
    "if os.path.exists(f\"{folder_build_task_path}{filename}\"):\n",
    "    console.print(f\"Config. file [italic white on green]{filename}[/italic white on green] detected, skipping generation\")\n",
    "else:\n",
    "    console.print(f\"Config. file [italic white on yellow]{filename}[/italic white on yellow] not detected, generating a sample\")\n",
    "    with open(f\"{folder_build_task_path}{filename}\", 'w') as file:\n",
    "        sample_worker_checks = {\n",
    "            \"blacklist\": [],\n",
    "            \"whitelist\": []\n",
    "        }\n",
    "        print(json.dumps(sample_worker_checks, indent=4), file=file)\n",
    "\n",
    "console.print(f\"Path: [italic white on black]{folder_build_task_path}[/italic white on black]\")"
   ]
  },
  {
   "cell_type": "markdown",
   "metadata": {},
   "source": [
    "## Section 10 - document.ts file generation\n",
    "### build/skeleton"
   ]
  },
  {
   "cell_type": "code",
   "execution_count": null,
   "metadata": {
    "pycharm": {
     "name": "#%%\n"
    }
   },
   "outputs": [],
   "source": [
    "import textwrap\n",
    "\n",
    "console.rule(\"Interface [cyan underline]document.ts\")\n",
    "\n",
    "hits_file = f\"{folder_build_task_path}hits.json\"\n",
    "document_interface = f\"{folder_build_skeleton_path}document.ts\"\n",
    "if not os.path.exists(folder_build_skeleton_path):\n",
    "    os.makedirs(folder_build_skeleton_path, exist_ok=True)\n",
    "\n",
    "console.print(f\"Reading hits file\")\n",
    "console.print(f\"Path: [italic]{hits_file}[/italic]\")\n",
    "hits = read_json(hits_file)\n",
    "sample_element = hits.pop()['documents'].pop()\n",
    "\n",
    "if not 'id' in sample_element.keys():\n",
    "    raise Exception(\"[red]Your [underline]hits.json[/underline] file contains an attributed called [underline]\\\"id\\\"[/underline]?\")\n",
    "\n",
    "# This class provides a representation of a single document stored in single hit stored in the Amazon S3 bucket.\n",
    "# The attribute <document_index> is additional and should not be touched and passed in the constructor.\n",
    "# Each field of such Document must be mapped to an attribute of this class and set up in the constructor as it is shown.\n",
    "\n",
    "with open(document_interface, 'w') as file:\n",
    "    print(\"export class Document {\", file=file)\n",
    "    print(\"\", file=file)\n",
    "    wrapper = textwrap.TextWrapper(initial_indent='\\t\\t', subsequent_indent='\\t\\t')\n",
    "    print(wrapper.fill(\"index: number;\"), file=file)\n",
    "    print(wrapper.fill(\"countdownExpired: boolean;\"), file=file)\n",
    "    for attribute, value in sample_element.items():\n",
    "        try:\n",
    "            element = json.loads(value)\n",
    "            if isinstance(element, dict):\n",
    "                print(wrapper.fill(f\"{attribute}: Array<JSON>;\"), file=file)\n",
    "            elif isinstance(element, int) or isinstance(element, float):\n",
    "                if (attribute == \"id\"):\n",
    "                    print(wrapper.fill(f\"{attribute}: string;\"), file=file)\n",
    "                else:\n",
    "                    print(wrapper.fill(f\"{attribute}: number;\"), file=file)\n",
    "            elif isinstance(element, list):\n",
    "                print(wrapper.fill(f\"{attribute}: Array<String>;\"), file=file)\n",
    "            else:\n",
    "                print(wrapper.fill(f\"{attribute}: string;\"), file=file)\n",
    "            console.print(f\"Attribute with name: [cyan underline]{attribute}[/cyan underline] and type: {type(element)} found\")\n",
    "        except (TypeError, ValueError) as e:\n",
    "            if isinstance(value, list):\n",
    "                print(wrapper.fill(f\"{attribute}: Array<String>;\"), file=file)\n",
    "            elif isinstance(value, int) or isinstance(value, float):\n",
    "                print(wrapper.fill(f\"{attribute}: number;\"), file=file)\n",
    "            else:\n",
    "                print(wrapper.fill(f\"{attribute}: string;\"), file=file)\n",
    "            console.print(f\"Attribute with name: [cyan underline]{attribute}[/cyan underline] and type: {type(value)} found\")\n",
    "    print(\"\", file=file)\n",
    "    print(wrapper.fill(f\"constructor (\"), file=file)\n",
    "    wrapper = textwrap.TextWrapper(initial_indent='\\t\\t\\t', subsequent_indent='\\t\\t\\t')\n",
    "    print(wrapper.fill(\"index: number,\"), file=file)\n",
    "    print(wrapper.fill(\"data: JSON\"), file=file)\n",
    "    wrapper = textwrap.TextWrapper(initial_indent='\\t\\t', subsequent_indent='\\t\\t')\n",
    "    print(wrapper.fill(\") {\"), file=file)\n",
    "    print(\"\", file=file)\n",
    "    wrapper = textwrap.TextWrapper(initial_indent='\\t\\t\\t', subsequent_indent='\\t\\t\\t')\n",
    "    print(wrapper.fill(\"this.index = index\"), file=file)\n",
    "    for attribute, value in sample_element.items():\n",
    "        try:\n",
    "            element = json.loads(value)\n",
    "            if isinstance(element, dict):\n",
    "                print(wrapper.fill(f\"this.{attribute} = new Array<JSON>()\"), file=file)\n",
    "                print(wrapper.fill(\n",
    "                    f\"for (let index = 0; index < data[\\\"{attribute}\\\"].length; index++) this.{attribute}.push(data[\\\"{attribute}\\\"][index])\"),\n",
    "                    file=file)\n",
    "            elif isinstance(element, list):\n",
    "                print(wrapper.fill(f\"this.{attribute} = new Array<String>()\"), file=file)\n",
    "                print(wrapper.fill(f\"for (let index = 0; index < data[\\\"{attribute}\\\"].length; index++) this.{attribute}.push(data[\\\"{attribute}\\\"])\"),\n",
    "                      file=file)\n",
    "            else:\n",
    "                wrapper = textwrap.TextWrapper(initial_indent='\\t\\t\\t', subsequent_indent='\\t\\t\\t')\n",
    "                print(wrapper.fill(f\"this.{attribute} = data[\\\"{attribute}\\\"]\"), file=file)\n",
    "        except (TypeError, ValueError) as e:\n",
    "            if isinstance(value, list):\n",
    "                print(wrapper.fill(f\"this.{attribute} = new Array<String>()\"), file=file)\n",
    "                print(wrapper.fill(f\"for (let index = 0; index < data[\\\"{attribute}\\\"].length; index++) this.{attribute}.push(data[\\\"{attribute}\\\"])\"),\n",
    "                      file=file)\n",
    "            else:\n",
    "                wrapper = textwrap.TextWrapper(initial_indent='\\t\\t\\t', subsequent_indent='\\t\\t\\t')\n",
    "                print(wrapper.fill(f\"this.{attribute} = data[\\\"{attribute}\\\"]\"), file=file)\n",
    "    wrapper = textwrap.TextWrapper(initial_indent='\\t\\t', subsequent_indent='\\t\\t')\n",
    "    print(\"\", file=file)\n",
    "    print(wrapper.fill(\"}\"), file=file)\n",
    "    print(\"\", file=file)\n",
    "    print(\"}\", file=file)\n",
    "\n",
    "console.print(\"Interface built\")\n",
    "console.print(f\"Path: [italic]{document_interface}[/italic]\")"
   ]
  },
  {
   "cell_type": "markdown",
   "metadata": {},
   "source": [
    "## Section 11 - Amazon Mechanical Turk assets generation\n",
    "### build/mturk"
   ]
  },
  {
   "cell_type": "code",
   "execution_count": null,
   "metadata": {
    "pycharm": {
     "name": "#%%\n"
    }
   },
   "outputs": [],
   "source": [
    "from mako.template import Template\n",
    "\n",
    "console.rule(\"Amazon Mechanical Turk landing page\")\n",
    "\n",
    "model = Template(filename=f\"{folder_build_mturk_path}model.html\")\n",
    "mturk_page = model.render(\n",
    "    aws_region=aws_region,\n",
    "    aws_deploy_bucket=aws_deploy_bucket,\n",
    "    task_name=task_name,\n",
    "    batch_name=batch_name\n",
    ")\n",
    "mturk_page_file = f\"{folder_build_mturk_path}index.html\"\n",
    "with open(mturk_page_file, 'w') as file:\n",
    "    print(mturk_page, file=file)\n",
    "\n",
    "console.print(f\"Model istantiated\")\n",
    "console.print(f\"Path: {mturk_page_file}\")\n",
    "\n",
    "hits_file = f\"{folder_build_task_path}hits.json\"\n",
    "mturk_tokens_file = f\"{folder_build_mturk_path}tokens.csv\"\n",
    "console.print(f\"Loading [cyan underline]hits.json[/cyan underline] file\")\n",
    "console.print(f\"Path: [ital]{hits_file}\")\n",
    "hits = read_json(hits_file)\n",
    "token_df = pd.DataFrame(columns=[\"token_input\", \"token_output\"])\n",
    "for hit in hits:\n",
    "    token_df = token_df.append({\n",
    "        \"token_input\": hit['token_input'],\n",
    "        \"token_output\": hit['token_output']\n",
    "    }, ignore_index=True)\n",
    "token_df.to_csv(mturk_tokens_file, index=False)\n",
    "console.print(f\"Tokens for {len(hits)} generated\")\n",
    "console.print(f\"Path: [italic]{mturk_tokens_file}\")"
   ]
  },
  {
   "cell_type": "markdown",
   "metadata": {},
   "source": [
    "## Section 12 - Angular Application Build\n",
    "### build/deploy"
   ]
  },
  {
   "cell_type": "code",
   "execution_count": null,
   "metadata": {
    "pycharm": {
     "name": "#%%\n"
    }
   },
   "outputs": [],
   "source": [
    "import subprocess\n",
    "import shutil\n",
    "from mako.template import Template\n",
    "import time\n",
    "\n",
    "folder_build_result = f\"../dist/\"\n",
    "\n",
    "console.rule(f\"Task [cyan underline]{task_name}[/cyan underline]/[yellow underline]{batch_name}[/yellow underline] build\")\n",
    "\n",
    "console.print(\"Executing command\")\n",
    "command = \"ng build --configuration=\\\"production\\\" --output-hashing=none\"\n",
    "console.print(f\"[green on black]{command}\")\n",
    "console.print(f\"Please wait...\")\n",
    "process = subprocess.Popen(command, shell=True, stdout=subprocess.PIPE)\n",
    "for line in process.stdout:\n",
    "    line_clean = line.decode().strip()\n",
    "    if \"Initial Total\" in line_clean:\n",
    "        line_clean = line_clean[2:]\n",
    "    if line_clean != \"\":\n",
    "        console.print(line_clean)\n",
    "process.wait()\n",
    "\n",
    "console.print(\"Merging Javascript assets\")\n",
    "script_merged_file = f\"{folder_build_deploy_path}scripts.js\"\n",
    "if (os.path.exists(script_merged_file)):\n",
    "    os.remove(script_merged_file)\n",
    "es_scripts = [\n",
    "    'polyfills.js',\n",
    "    'runtime.js',\n",
    "    'main.js',\n",
    "]\n",
    "with open(script_merged_file, 'a') as outfile:\n",
    "    for file in es_scripts:\n",
    "        script_current_file = f\"{folder_build_result}Crowd_Frame/{file}\"\n",
    "        console.print(f\"Processing file: [italic purple on black]{script_current_file}\")\n",
    "        with open(script_current_file) as script:\n",
    "            for line in script:\n",
    "                outfile.write(line)\n",
    "console.print(f\"Path: [italic]{script_merged_file}\")\n",
    "\n",
    "console.print(\"Merging CSS assets\")\n",
    "styles_merged_file = f\"{folder_build_deploy_path}styles.css\"\n",
    "if (os.path.exists(styles_merged_file)):\n",
    "    os.remove(styles_merged_file)\n",
    "css_styles = ['styles.css']\n",
    "with open(styles_merged_file, 'a') as outfile:\n",
    "    for file in css_styles:\n",
    "        style_current_file = f\"{folder_build_result}Crowd_Frame/{file}\"\n",
    "        console.print(f\"Processing file: [italic cyan on black]{style_current_file}\")\n",
    "        with open(style_current_file) as style:\n",
    "            for line in style:\n",
    "                outfile.write(line)\n",
    "console.print(f\"Path: [italic underline]{styles_merged_file}\")\n",
    "\n",
    "console.print(\"Deleting build folder\")\n",
    "console.print(f\"Path: [italic underline]{folder_build_result}\")\n",
    "shutil.rmtree(folder_build_result)\n",
    "\n",
    "model = Template(filename=f\"{folder_build_deploy_path}model.html\")\n",
    "index_page = model.render(\n",
    "    task_name=task_name,\n",
    "    batch_name=batch_name\n",
    ")\n",
    "index_page_file = f\"{folder_build_deploy_path}index.html\"\n",
    "with open(index_page_file, 'w') as file:\n",
    "    print(index_page, file=file)\n",
    "\n",
    "console.print(\"Model istantiated\")\n",
    "console.print(f\"Path: [italic underline]{index_page_file}\")"
   ]
  },
  {
   "cell_type": "markdown",
   "metadata": {
    "pycharm": {
     "name": "#%% md\n"
    }
   },
   "source": [
    "## Section 13 - Packaging\n",
    "### tasks/task_name/batch_name"
   ]
  },
  {
   "cell_type": "code",
   "execution_count": null,
   "metadata": {
    "pycharm": {
     "name": "#%%\n"
    }
   },
   "outputs": [],
   "source": [
    "from shutil import copy2\n",
    "\n",
    "console.rule(f\"Packaging task in [cyan underline]tasks/{task_name}/{batch_name}\")\n",
    "\n",
    "folder_tasks_batch_path = f\"{folder_tasks_path}{task_name}/{batch_name}/\"\n",
    "folder_tasks_batch_deploy_path = f\"{folder_tasks_batch_path}deploy/\"\n",
    "folder_tasks_batch_mturk_path = f\"{folder_tasks_batch_path}mturk/\"\n",
    "folder_tasks_batch_task_path = f\"{folder_tasks_batch_path}task/\"\n",
    "folder_tasks_batch_config_path = f\"{folder_tasks_batch_path}config/\"\n",
    "\n",
    "console.print(f\"[italic purple]deploy-config[/italic purple] variable: {bool(deploy_config)}\")\n",
    "\n",
    "if not os.path.exists(folder_tasks_batch_deploy_path):\n",
    "    console.print(\"[green]Deploy folder created\")\n",
    "    os.makedirs(folder_tasks_batch_deploy_path, exist_ok=True)\n",
    "else:\n",
    "    console.print(\"[yellow]Deploy folder already present\")\n",
    "console.print(f\"Path: [italic]{folder_tasks_batch_deploy_path}\")\n",
    "if not os.path.exists(folder_tasks_batch_mturk_path):\n",
    "    console.print(\"[green]Amazon Mechanical Turk assets folder created\")\n",
    "    os.makedirs(folder_tasks_batch_mturk_path, exist_ok=True)\n",
    "else:\n",
    "    console.print(\"[yellow]Amazon Mechanical Turk assets folder already present\")\n",
    "console.print(f\"Path: [italic]{folder_tasks_batch_mturk_path}\")\n",
    "if not os.path.exists(folder_tasks_batch_task_path) and deploy_config:\n",
    "    console.print(\"[green]Task configuration folder created\")\n",
    "    os.makedirs(folder_tasks_batch_task_path, exist_ok=True)\n",
    "else:\n",
    "    console.print(\"[yellow]Task configuration folder already present\")\n",
    "console.print(f\"Path: [italic]{folder_tasks_batch_task_path}\")\n",
    "if not os.path.exists(folder_tasks_batch_config_path) and deploy_config:\n",
    "    console.print(\"[green]Task configuration folder created\")\n",
    "    os.makedirs(folder_tasks_batch_config_path, exist_ok=True)\n",
    "else:\n",
    "    console.print(\"[yellow]General configuration folder already present\")\n",
    "console.print(f\"Path: [italic]{folder_tasks_batch_config_path}\")\n",
    "\n",
    "\n",
    "def copy(source, destination, title):\n",
    "    panel = Panel(\n",
    "        f\"Source: [italic white on black]{source}[/italic white on black]\\nDestination: [italic white on black]{destination}[/italic white on black]\",\n",
    "        title=title)\n",
    "    console.print(panel)\n",
    "    copy2(source, destination)\n",
    "\n",
    "\n",
    "console.print(f\"Copying files for [blue underline on white]{folder_build_deploy_path}[/blue underline on white] folder\")\n",
    "\n",
    "source = f\"{folder_build_deploy_path}scripts.js\"\n",
    "destination = f\"{folder_tasks_batch_deploy_path}scripts.js\"\n",
    "copy(source, destination, \"Javascript Assets\")\n",
    "\n",
    "source = f\"{folder_build_deploy_path}styles.css\"\n",
    "destination = f\"{folder_tasks_batch_deploy_path}styles.css\"\n",
    "copy(source, destination, \"CSS Styles\")\n",
    "\n",
    "source = f\"{folder_build_deploy_path}index.html\"\n",
    "destination = f\"{folder_tasks_batch_deploy_path}index.html\"\n",
    "copy(source, destination, \"Task Homepage\")\n",
    "\n",
    "console.print(f\"Copying files for [blue underline on white]{folder_build_mturk_path}[/blue underline on white] folder\")\n",
    "\n",
    "source = f\"{folder_build_mturk_path}index.html\"\n",
    "destination = f\"{folder_tasks_batch_mturk_path}index.html\"\n",
    "copy(source, destination, \"Amazon Mechanical Turk landing page\")\n",
    "\n",
    "source = f\"{folder_build_mturk_path}tokens.csv\"\n",
    "destination = f\"{folder_tasks_batch_mturk_path}tokens.csv\"\n",
    "copy(source, destination, \"Hits tokens\")\n",
    "\n",
    "if bool(deploy_config):\n",
    "    console.print(f\"Copying files for [blue underline on white]{folder_build_task_path}[/blue underline on white] folder\")\n",
    "\n",
    "    source = f\"{folder_build_task_path}hits.json\"\n",
    "    destination = f\"{folder_tasks_batch_task_path}hits.json\"\n",
    "    copy(source, destination, \"Hits\")\n",
    "\n",
    "    source = f\"{folder_build_task_path}dimensions.json\"\n",
    "    destination = f\"{folder_tasks_batch_task_path}dimensions.json\"\n",
    "    copy(source, destination, \"Dimensions\")\n",
    "\n",
    "    source = f\"{folder_build_task_path}instructions_dimensions.json\"\n",
    "    destination = f\"{folder_tasks_batch_task_path}instructions_dimensions.json\"\n",
    "    copy(source, destination, \"Assessment Instructions\")\n",
    "\n",
    "    source = f\"{folder_build_task_path}instructions_main.json\"\n",
    "    destination = f\"{folder_tasks_batch_task_path}instructions_main.json\"\n",
    "    copy(source, destination, \"General Instructions\")\n",
    "\n",
    "    source = f\"{folder_build_task_path}questionnaires.json\"\n",
    "    destination = f\"{folder_tasks_batch_task_path}questionnaires.json\"\n",
    "    copy(source, destination, \"Questionnaires\")\n",
    "\n",
    "    source = f\"{folder_build_task_path}search_engine.json\"\n",
    "    destination = f\"{folder_tasks_batch_task_path}search_engine.json\"\n",
    "    copy(source, destination, \"Search Engine\")\n",
    "\n",
    "    source = f\"{folder_build_task_path}task.json\"\n",
    "    destination = f\"{folder_tasks_batch_task_path}task.json\"\n",
    "    copy(source, destination, \"Task Settings\")\n",
    "\n",
    "    source = f\"{folder_build_task_path}workers.json\"\n",
    "    destination = f\"{folder_tasks_batch_task_path}workers.json\"\n",
    "    copy(source, destination, \"Workers Settings\")\n",
    "\n",
    "source = f\"{folder_build_config_path}admin.json\"\n",
    "destination = f\"{folder_tasks_batch_config_path}admin.json\"\n",
    "copy(source, destination, \"Admin Credentials\")\n",
    "\n",
    "console.print(f\"Copying files for [blue underline on white]{folder_tasks_batch_config_path}[/blue underline on white] folder\")"
   ]
  },
  {
   "cell_type": "markdown",
   "metadata": {},
   "source": [
    "## Section 14 - Deploy"
   ]
  },
  {
   "cell_type": "code",
   "execution_count": null,
   "metadata": {
    "pycharm": {
     "name": "#%%\n"
    }
   },
   "outputs": [],
   "source": [
    "\n",
    "s3_private_generator_path = f\"{task_name}/{batch_name}/Generator/\"\n",
    "s3_private_task_path = f\"{task_name}/{batch_name}/Task/\"\n",
    "s3_deploy_path = f\"{task_name}/{batch_name}/\"\n",
    "\n",
    "folder_tasks_batch_deploy_path = f\"{folder_tasks_batch_path}deploy/\"\n",
    "folder_tasks_batch_mturk_path = f\"{folder_tasks_batch_path}mturk/\"\n",
    "folder_tasks_batch_task_path = f\"{folder_tasks_batch_path}task/\"\n",
    "folder_tasks_batch_config_path = f\"{folder_tasks_batch_path}config/\"\n",
    "\n",
    "s3_client = botoSession.client('s3')\n",
    "\n",
    "\n",
    "def upload(path, bucket, key, title, content_type, acl=None):\n",
    "    panel = Panel(\n",
    "        f\"Region: [italic white on black]{aws_region}[/italic white on black]\\nBucket: [italic white on black]{bucket}[/italic white on black]\\nFile: [italic white on black]{path}[/italic white on black]\\nKey: [italic white on black]{key}[/italic white on black]\\nPath: [italic white on black] s3://{aws_region}/{bucket}/{key}[/italic white on black]\\nACL: {acl}\",\n",
    "        title=title)\n",
    "    console.print(panel)\n",
    "    if acl:\n",
    "        response = s3_client.put_object(Body=open(path, 'rb'), Bucket=bucket, Key=key, ContentType=content_type, ACL=acl)\n",
    "    else:\n",
    "        response = s3_client.put_object(Body=open(path, 'rb'), Bucket=bucket, Key=key, ContentType=content_type)\n",
    "    console.print(f\"HTTP Status Code: {response['ResponseMetadata']['HTTPStatusCode']}, ETag: {response['ETag']}\")\n",
    "\n",
    "\n",
    "console.rule(f\"Task [cyan underline]{task_name}[/cyan underline]/[yellow underline]{batch_name}[/yellow underline] deploy\")\n",
    "\n",
    "console.print(f\"[italic purple]deploy-config[/italic purple] variable: {bool(deploy_config)}\")\n",
    "\n",
    "console.print(f\"[white on blue bold]Generator configuration\")\n",
    "\n",
    "path = f\"{folder_tasks_batch_config_path}admin.json\"\n",
    "key = f\"{s3_private_generator_path}admin.json\"\n",
    "upload(path, aws_private_bucket, key, \"Admin Credentials\", \"application/json\")\n",
    "\n",
    "if bool(deploy_config):\n",
    "    console.print(f\"[white on green bold]Task configuration\")\n",
    "\n",
    "    path = f\"{folder_tasks_batch_task_path}hits.json\"\n",
    "    key = f\"{s3_private_task_path}hits.json\"\n",
    "    upload(path, aws_private_bucket, key, \"Hits\", \"application/json\")\n",
    "\n",
    "    path = f\"{folder_tasks_batch_task_path}instructions_dimensions.json\"\n",
    "    key = f\"{s3_private_task_path}instructions_dimensions.json\"\n",
    "    upload(path, aws_private_bucket, key, \"Assessment Instructions\", \"application/json\")\n",
    "\n",
    "    path = f\"{folder_tasks_batch_task_path}instructions_main.json\"\n",
    "    key = f\"{s3_private_task_path}instructions_main.json\"\n",
    "    upload(path, aws_private_bucket, key, \"General Instructions\", \"application/json\")\n",
    "\n",
    "    path = f\"{folder_tasks_batch_task_path}questionnaires.json\"\n",
    "    key = f\"{s3_private_task_path}questionnaires.json\"\n",
    "    upload(path, aws_private_bucket, key, \"Questionnaires\", \"application/json\")\n",
    "\n",
    "    path = f\"{folder_tasks_batch_task_path}dimensions.json\"\n",
    "    key = f\"{s3_private_task_path}dimensions.json\"\n",
    "    upload(path, aws_private_bucket, key, \"Dimensions\", \"application/json\")\n",
    "\n",
    "    path = f\"{folder_tasks_batch_task_path}search_engine.json\"\n",
    "    key = f\"{s3_private_task_path}search_engine.json\"\n",
    "    upload(path, aws_private_bucket, key, \"Search Engine\", \"application/json\")\n",
    "\n",
    "    path = f\"{folder_tasks_batch_task_path}task.json\"\n",
    "    key = f\"{s3_private_task_path}task.json\"\n",
    "    upload(path, aws_private_bucket, key, \"Task Settings\", \"application/json\")\n",
    "\n",
    "    path = f\"{folder_tasks_batch_task_path}workers.json\"\n",
    "    key = f\"{s3_private_task_path}workers.json\"\n",
    "    upload(path, aws_private_bucket, key, \"Workers Settings\", \"application/json\")\n",
    "\n",
    "console.print(f\"[white on purple bold]Angular Application\")\n",
    "\n",
    "path = f\"{folder_tasks_batch_deploy_path}scripts.js\"\n",
    "key = f\"{s3_deploy_path}scripts.js\"\n",
    "upload(path, aws_deploy_bucket, key, \"Javascript Assets\", \"text/javascript\", \"public-read\")\n",
    "\n",
    "path = f\"{folder_tasks_batch_deploy_path}styles.css\"\n",
    "key = f\"{s3_deploy_path}styles.css\"\n",
    "upload(path, aws_deploy_bucket, key, \"CSS Styles\", \"text/css\", \"public-read\")\n",
    "\n",
    "path = f\"{folder_tasks_batch_deploy_path}index.html\"\n",
    "key = f\"{s3_deploy_path}index.html\"\n",
    "upload(path, aws_deploy_bucket, key, \"Task Homepage\", \"text/html\", \"public-read\")\n",
    "\n",
    "console.rule(\"Link\")\n",
    "\n",
    "console.print(f\"[bold white on black]https://{aws_deploy_bucket}.s3.{aws_region}.amazonaws.com/{task_name}/{batch_name}/index.html\")\n"
   ]
  }
 ],
 "metadata": {
  "kernelspec": {
   "display_name": "Python 3",
   "language": "python",
   "name": "python3"
  },
  "language_info": {
   "codemirror_mode": {
    "name": "ipython",
    "version": 3
   },
   "file_extension": ".py",
   "mimetype": "text/x-python",
   "name": "python",
   "nbconvert_exporter": "python",
   "pygments_lexer": "ipython3",
   "version": "3.7.9"
  }
 },
 "nbformat": 4,
 "nbformat_minor": 1
}

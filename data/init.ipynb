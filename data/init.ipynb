{
 "cells": [
  {
   "cell_type": "code",
   "execution_count": 1,
   "metadata": {
    "collapsed": true
   },
   "outputs": [],
   "source": [
    "import json\n",
    "import pprint as pp\n",
    "import os\n",
    "from pathlib import Path\n",
    "from dotenv import load_dotenv\n",
    "import boto3\n",
    "from botocore.exceptions import ClientError"
   ]
  },
  {
   "cell_type": "markdown",
   "source": [
    "# Section 1 - Environment variables loading"
   ],
   "metadata": {
    "collapsed": false,
    "pycharm": {
     "name": "#%% md\n"
    }
   }
  },
  {
   "cell_type": "code",
   "execution_count": 2,
   "outputs": [],
   "source": [
    "env_path = Path('.') / '.env'\n",
    "load_dotenv(dotenv_path=env_path)\n",
    "\n",
    "aws_account_id = os.getenv('aws_account_id')\n",
    "aws_sdk_access_id = os.getenv('aws_sdk_access_id')\n",
    "aws_sdk_access_secret = os.getenv('aws_sdk_access_secret')\n",
    "aws_worker_access_id = os.getenv('aws_worker_access_id')\n",
    "aws_worker_access_secret = os.getenv('aws_worker_access_secret')\n",
    "\n",
    "aws_region = os.getenv('aws_region')\n",
    "aws_private_bucket = os.getenv('aws_private_bucket')\n",
    "aws_deploy_bucket = os.getenv('aws_deploy_bucket')\n",
    "\n",
    "bing_api_key = os.getenv('bing_api_key')\n",
    "\n",
    "task_name = os.getenv('task_name')\n",
    "batch_name = os.getenv('batch_name')\n",
    "\n",
    "# print(\"Printing env vars values:\")\n",
    "# print(f\"AWS ACCOUNT ID: {aws_account_id}\")\n",
    "# print(f\"AWS SDK ACCESS ID: {aws_sdk_access_id}\")\n",
    "# print(f\"AWS SDK ACCESS SECRET: {aws_sdk_access_secret}\")\n",
    "# print(f\"AWS WORKER ACCESS ID: {aws_worker_access_id}\")\n",
    "# print(f\"AWS WORKER ACCESS SECRET: {aws_worker_access_secret}\")\n",
    "# print(f\"AWS REGION: {aws_region}\")\n",
    "# print(f\"AWS PRIVATE BUCKET: {aws_private_bucket}\")\n",
    "# print(f\"AWS DEPLOY BUCKET: {aws_deploy_bucket}\")\n",
    "# print(f\"BING API KEY: {bing_api_key}\")\n",
    "# print(f\"TASK NAME: {task_name}\")\n",
    "# print(f\"BATCH NAME: {batch_name}\")"
   ],
   "metadata": {
    "collapsed": false,
    "pycharm": {
     "name": "#%%\n"
    }
   }
  },
  {
   "cell_type": "markdown",
   "source": [
    "# Section 2 - Private and deploy bucket creation"
   ],
   "metadata": {
    "collapsed": false,
    "pycharm": {
     "name": "#%% md\n"
    }
   }
  },
  {
   "cell_type": "code",
   "execution_count": 46,
   "outputs": [
    {
     "name": "stdout",
     "output_type": "stream",
     "text": [
      "---------- INITIALIZING PRIVATE BUCKET private-bucket-test-fdssfsdfdssdds ----------\n",
      "Your previous request to create the named bucket succeeded and you already own it., HTTP STATUS CODE: 409.\n",
      "Public access blocked, HTTP STATUS CODE: 200.\n",
      "Bucket policy successfully set up, HTTP STATUS CODE: 204.\n",
      "CORS Configuration successfully set up, HTTP STATUS CODE: 200.\n",
      "---------- INITIALIZATION COMPLETED ----------\n"
     ]
    }
   ],
   "source": [
    "s3_client = boto3.client('s3', aws_access_key_id=aws_sdk_access_id, aws_secret_access_key=aws_sdk_access_secret)\n",
    "s3_resource = boto3.resource('s3')\n",
    "\n",
    "buckets = []\n",
    "for bucket in s3_resource.buckets.all():\n",
    "    buckets.append(bucket.name)\n",
    "\n",
    "print(f\"---------- INITIALIZING PRIVATE BUCKET {aws_private_bucket} ----------\")\n",
    "\n",
    "try:\n",
    "    response = s3_client.create_bucket(Bucket=aws_private_bucket, CreateBucketConfiguration={'LocationConstraint': aws_region})\n",
    "    print(f\"Bucket creation successfully completed, HTTP STATUS CODE: {response['ResponseMetadata']['HTTPStatusCode']}.\")\n",
    "    pp.pprint(response)\n",
    "except ClientError as error:\n",
    "    print(f\"{error.response['Error']['Message']}, HTTP STATUS CODE: {error.response['ResponseMetadata']['HTTPStatusCode']}.\")\n",
    "\n",
    "response = s3_client.put_public_access_block(\n",
    "    Bucket=aws_private_bucket,\n",
    "    PublicAccessBlockConfiguration={\n",
    "        'BlockPublicAcls': True,\n",
    "        'IgnorePublicAcls': True,\n",
    "        'BlockPublicPolicy': True,\n",
    "        'RestrictPublicBuckets': True\n",
    "    },\n",
    ")\n",
    "print(f\"Public access blocked, HTTP STATUS CODE: {response['ResponseMetadata']['HTTPStatusCode']}.\")\n",
    "\n",
    "private_bucket_policy = {\n",
    "    \"Version\": \"2012-10-17\",\n",
    "    \"Id\": \"private-bucket-policy\",\n",
    "    \"Statement\": [\n",
    "        {\n",
    "            \"Sid\": \"allow-bucket-interaction\",\n",
    "            \"Effect\": \"Allow\",\n",
    "            \"Principal\": {\n",
    "                \"AWS\": f\"arn:aws:iam::{aws_account_id}:user/worker\"\n",
    "            },\n",
    "            \"Action\": [\n",
    "                \"s3:GetObject\",\n",
    "                \"s3:PutObject\",\n",
    "                \"s3:ListBucket\"\n",
    "            ],\n",
    "            \"Resource\": [\n",
    "                f\"arn:aws:s3:::{aws_private_bucket}\",\n",
    "                f\"arn:aws:s3:::{aws_private_bucket}/*\"\n",
    "            ]\n",
    "        }\n",
    "    ]\n",
    "}\n",
    "\n",
    "response = s3_client.put_bucket_policy(Bucket=aws_private_bucket, Policy=json.dumps(private_bucket_policy))\n",
    "print(f\"Bucket policy successfully set up, HTTP STATUS CODE: {response['ResponseMetadata']['HTTPStatusCode']}.\")\n",
    "\n",
    "cors_configuration = {\n",
    "    'CORSRules': [{\n",
    "        'AllowedHeaders': ['*'],\n",
    "        'AllowedMethods': ['GET', 'HEAD', 'PUT'],\n",
    "        'AllowedOrigins': ['*'],\n",
    "        'ExposeHeaders': [],\n",
    "        'MaxAgeSeconds': 3000\n",
    "    }]\n",
    "}\n",
    "\n",
    "response = s3_client.get_bucket_cors(Bucket=aws_private_bucket)\n",
    "s3_client.put_bucket_cors(Bucket=aws_private_bucket, CORSConfiguration=cors_configuration)\n",
    "print(f\"CORS Configuration successfully set up, HTTP STATUS CODE: {response['ResponseMetadata']['HTTPStatusCode']}.\")\n",
    "\n",
    "print(f\"---------- INITIALIZATION COMPLETED ----------\")\n",
    "\n",
    "\n",
    "# if aws_deploy_bucket not in buckets:\n",
    "#     print(f\"---------- INITIALIZING DEPLOY BUCKET {aws_deploy_bucket} ----------\")\n",
    "#     deploy_bucket_check = create_bucket(aws_deploy_bucket, aws_region)\n",
    "#     if deploy_bucket_check:\n",
    "#         print(f\"Creation successfully completed\")\n",
    "#     print(f\"---------- INITIALIZATION COMPLETED ----------\")\n",
    "# else:\n",
    "#     print(f\"Deploy bucket {aws_deploy_bucket} already initialized\")"
   ],
   "metadata": {
    "collapsed": false,
    "pycharm": {
     "name": "#%%\n"
    }
   }
  },
  {
   "cell_type": "code",
   "execution_count": null,
   "outputs": [],
   "source": [],
   "metadata": {
    "collapsed": false,
    "pycharm": {
     "name": "#%%\n"
    }
   }
  }
 ],
 "metadata": {
  "kernelspec": {
   "name": "python3",
   "language": "python",
   "display_name": "Python 3"
  },
  "language_info": {
   "codemirror_mode": {
    "name": "ipython",
    "version": 2
   },
   "file_extension": ".py",
   "mimetype": "text/x-python",
   "name": "python",
   "nbconvert_exporter": "python",
   "pygments_lexer": "ipython2",
   "version": "2.7.6"
  }
 },
 "nbformat": 4,
 "nbformat_minor": 0
}
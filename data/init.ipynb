{
 "cells": [
  {
   "cell_type": "code",
   "execution_count": 5,
   "source": [
    "import os\r\n",
    "import json\r\n",
    "import random\r\n",
    "import pandas as pd\r\n",
    "from pathlib import Path\r\n",
    "from rich.console import Console\r\n",
    "from rich.panel import Panel\r\n",
    "from rich import inspect\r\n",
    "from rich.text import Text\r\n",
    "from rich.progress import Progress\r\n",
    "import json\r\n",
    "\r\n",
    "console = Console()\r\n",
    "\r\n",
    "folder_aws_path = \"aws/\"\r\n",
    "folder_build_path = \"build/\"\r\n",
    "folder_build_config_path = \"build/config/\"\r\n",
    "folder_build_task_path = \"build/task/\"\r\n",
    "folder_build_mturk_path = \"build/mturk/\"\r\n",
    "folder_build_env_path = \"build/environments/\"\r\n",
    "folder_build_deploy_path = \"build/deploy/\"\r\n",
    "folder_build_skeleton_path = \"build/skeleton/\"\r\n",
    "folder_tasks_path = \"tasks/\"\r\n",
    "\r\n",
    "\r\n",
    "def serialize_json(folder, filename, data):\r\n",
    "    if not os.path.exists(folder):\r\n",
    "        os.makedirs(folder, exist_ok=True)\r\n",
    "    with open(f\"{folder}/{filename}\", 'w', encoding='utf-8') as f:\r\n",
    "        json.dump(data, f, ensure_ascii=False, indent=4, default=str)\r\n",
    "        f.close()\r\n",
    "\r\n",
    "\r\n",
    "def remove_json(folder, filename):\r\n",
    "    os.remove(f\"{folder}/{filename}\")\r\n",
    "\r\n",
    "\r\n",
    "def read_json(path):\r\n",
    "    if os.path.exists(path):\r\n",
    "        with open(path, \"r\", encoding=\"utf8\") as file:\r\n",
    "            data = json.load(file)\r\n",
    "        return data\r\n",
    "    else:\r\n",
    "        return {}"
   ],
   "outputs": [],
   "metadata": {
    "collapsed": true
   }
  },
  {
   "cell_type": "markdown",
   "source": [
    "## Section 1 - Environment variables loading\n",
    "\n",
    "Remember to restart Jupyter if you edit environment variables values"
   ],
   "metadata": {
    "pycharm": {
     "name": "#%% md\n"
    }
   }
  },
  {
   "cell_type": "code",
   "execution_count": 6,
   "source": [
    "from dotenv import load_dotenv\r\n",
    "from distutils.util import strtobool\r\n",
    "\r\n",
    "env_path = Path('.') / '.env'\r\n",
    "load_dotenv(dotenv_path=env_path)\r\n",
    "\r\n",
    "task_name = os.getenv('task_name')\r\n",
    "batch_name = os.getenv('batch_name')\r\n",
    "admin_user = os.getenv('admin_user')\r\n",
    "admin_password = os.getenv('admin_password')\r\n",
    "deploy_config = strtobool(os.getenv('deploy_config'))\r\n",
    "\r\n",
    "aws_region = os.getenv('aws_region')\r\n",
    "aws_private_bucket = os.getenv('aws_private_bucket')\r\n",
    "aws_deploy_bucket = os.getenv('aws_deploy_bucket')\r\n",
    "\r\n",
    "bing_api_key = os.getenv('bing_api_key')\r\n"
   ],
   "outputs": [],
   "metadata": {
    "pycharm": {
     "name": "#%%\n"
    }
   }
  },
  {
   "cell_type": "markdown",
   "source": [
    "## Section 2 - Setting up IAM policies and identity\n",
    "### build/aws"
   ],
   "metadata": {
    "pycharm": {
     "name": "#%% md\n"
    }
   }
  },
  {
   "cell_type": "code",
   "execution_count": 7,
   "source": [
    "import boto3\r\n",
    "from botocore.exceptions import ClientError\r\n",
    "\r\n",
    "iam = boto3.client('iam')\r\n",
    "iam_resource = boto3.resource('iam')\r\n",
    "\r\n",
    "console.rule(\"Root user identity\")\r\n",
    "\r\n",
    "root_user = iam_resource.CurrentUser()\r\n",
    "aws_account_id = root_user.arn.split(':')[4]\r\n",
    "\r\n",
    "console.print(f\"ID: [bold cyan on white]{root_user.user_id}\")\r\n",
    "console.print(f\"Username: [bold cyan on white]{root_user.user_name}\")\r\n",
    "console.print(f\"ARN: [bold cyan on white]{root_user.arn}\")\r\n",
    "console.print(f\"AWS Account ID: [bold cyan on white]{aws_account_id}\")\r\n",
    "\r\n",
    "console.rule(\"IAM policy [cyan underline]crowd-workers-dev[/cyan underline]\")\r\n",
    "\r\n",
    "crowd_workers_policy = {\r\n",
    "    \"Version\": \"2012-10-17\",\r\n",
    "    \"Statement\": [\r\n",
    "        {\r\n",
    "            \"Sid\": \"allowBucketInteraction\",\r\n",
    "            \"Effect\": \"Allow\",\r\n",
    "            \"Action\": [\r\n",
    "                \"s3:PutObject\",\r\n",
    "                \"s3:GetObject\",\r\n",
    "                \"s3:ListBucket\"\r\n",
    "            ],\r\n",
    "            \"Resource\": [\r\n",
    "                f\"arn:aws:s3:::{aws_private_bucket}\",\r\n",
    "                f\"arn:aws:s3:::{aws_private_bucket}/*\",\r\n",
    "                f\"arn:aws:s3:::{aws_deploy_bucket}\",\r\n",
    "                f\"arn:aws:s3:::{aws_deploy_bucket}/*\"\r\n",
    "            ]\r\n",
    "        },\r\n",
    "        {\r\n",
    "            \"Sid\": \"allowDatabaseInteraction\",\r\n",
    "            \"Effect\": \"Allow\",\r\n",
    "            \"Action\": [\r\n",
    "                \"dynamodb:DescribeTable\",\r\n",
    "                \"dynamodb:DeleteItem\",\r\n",
    "                \"dynamodb:PutItem\",\r\n",
    "                \"dynamodb:GetItem\",\r\n",
    "            ],\r\n",
    "            \"Resource\": f\"arn:aws:dynamodb:{aws_region}:{aws_account_id}:table/users\"\r\n",
    "        }\r\n",
    "    ]\r\n",
    "}\r\n",
    "\r\n",
    "{\r\n",
    "    \"Version\": \"2012-10-17\",\r\n",
    "    \"Statement\": [\r\n",
    "\r\n",
    "    ]\r\n",
    "}\r\n",
    "\r\n",
    "policy = None\r\n",
    "try:\r\n",
    "    policy = iam.create_policy(\r\n",
    "        PolicyName='crowd-workers-dev',\r\n",
    "        PolicyDocument=json.dumps(crowd_workers_policy)\r\n",
    "    )\r\n",
    "    console.print(\r\n",
    "        f\"[green]Policy creation completed[/green], HTTP STATUS CODE: {policy['ResponseMetadata']['HTTPStatusCode']}.\")\r\n",
    "except (iam.exceptions.EntityAlreadyExistsException) as exception:\r\n",
    "    console.print(f\"[yellow]Policy already present[/yellow]\")\r\n",
    "    policy = iam.get_policy(PolicyArn=f\"arn:aws:iam::{aws_account_id}:policy/crowd-workers-dev\")\r\n",
    "    console.print(\r\n",
    "        f\"[green]Policy retrieved[/green], HTTP STATUS CODE: {policy['ResponseMetadata']['HTTPStatusCode']}.\")\r\n",
    "serialize_json(folder_aws_path, f\"policy_{policy['Policy']['PolicyName']}.json\", policy)\r\n",
    "\r\n",
    "console.print(f\"Policy ARN: [cyan underline]{policy['Policy']['Arn']}[/cyan underline]\")\r\n",
    "\r\n",
    "console.rule(\"IAM user [cyan underline]worker-dev[/cyan underline]\")\r\n",
    "\r\n",
    "user = None\r\n",
    "try:\r\n",
    "    user = iam.create_user(UserName=\"worker-dev\")\r\n",
    "    console.print(\r\n",
    "        f\"[green]user created[/green], HTTP STATUS CODE: {user['ResponseMetadata']['HTTPStatusCode']}.\")\r\n",
    "except (iam.exceptions.EntityAlreadyExistsException) as exception:\r\n",
    "    console.print(f\"[yellow]User already present[/yellow]\")\r\n",
    "    user = iam.get_user(UserName=\"worker-dev\")\r\n",
    "    console.print(\r\n",
    "        f\"[green]User retrieved[green], HTTP STATUS CODE: {user['ResponseMetadata']['HTTPStatusCode']}.\")\r\n",
    "serialize_json(folder_aws_path, f\"user_{user['User']['UserName']}_data.json\", user)\r\n",
    "\r\n",
    "response = iam.attach_user_policy(UserName=user['User']['UserName'], PolicyArn=policy['Policy']['Arn'])\r\n",
    "policy = iam.get_policy(PolicyArn=f\"{policy['Policy']['Arn']}\")\r\n",
    "console.print(\r\n",
    "    f\"[green]Policy with ARN [cyan underline]{policy['Policy']['Arn']}[/cyan underline] attached to user, HTTP STATUS CODE: {user['ResponseMetadata']['HTTPStatusCode']}\")\r\n",
    "\r\n",
    "keys = []\r\n",
    "paginator = iam.get_paginator('list_access_keys')\r\n",
    "for found_keys in paginator.paginate(UserName=user['User']['UserName']):\r\n",
    "    for (index, key) in enumerate(found_keys['AccessKeyMetadata']):\r\n",
    "        keyData = read_json(f\"{folder_aws_path}user_{user['User']['UserName']}_access_key_{key['AccessKeyId']}.json\")\r\n",
    "        if keyData:\r\n",
    "            keys.append(keyData)\r\n",
    "        else:\r\n",
    "            response = iam.delete_access_key(UserName=user['User']['UserName'], AccessKeyId=key['AccessKeyId'])\r\n",
    "            console.print(\r\n",
    "                f\"[red]Key {index} data not found on disk[/red]; deleting it on AWS, HTTP STATUS CODE: {response['ResponseMetadata']['HTTPStatusCode']}\")\r\n",
    "\r\n",
    "if len(keys) < 2:\r\n",
    "    key = iam.create_access_key(UserName=user['User']['UserName'])\r\n",
    "    serialize_json(folder_aws_path, f\"user_{user['User']['UserName']}_access_key_{key['AccessKey']['AccessKeyId']}.json\", key)\r\n",
    "    console.print(f\"[green]Access key created[/green], HTTP STATUS CODE: {key['ResponseMetadata']['HTTPStatusCode']}.\")\r\n",
    "    keys.append(key)\r\n",
    "    if not os.path.exists(f\"{folder_aws_path}user_{user['User']['UserName']}_access_key_{key['AccessKey']['AccessKeyId']}.json\"):\r\n",
    "        serialize_json(folder_aws_path, f\"user_{user['User']['UserName']}_access_key_{key['AccessKey']['AccessKeyId']}.json\", key)\r\n",
    "        console.print(f\"[green]Access key created[/green], HTTP STATUS CODE: {key['ResponseMetadata']['HTTPStatusCode']}.\")\r\n",
    "\r\n",
    "key_selected = random.choice(keys)\r\n",
    "key_data = read_json(f\"{folder_aws_path}user_{user['User']['UserName']}_access_key_{key_selected['AccessKey']['AccessKeyId']}.json\")\r\n",
    "\r\n",
    "console.print(\"Key data found on disk and loaded\")\r\n",
    "\r\n",
    "aws_worker_access_id = key_data['AccessKey']['AccessKeyId']\r\n",
    "aws_worker_access_secret = key_data['AccessKey']['SecretAccessKey']\r\n"
   ],
   "outputs": [
    {
     "output_type": "display_data",
     "data": {
      "text/html": [
       "<pre style=\"white-space:pre;overflow-x:auto;line-height:normal;font-family:Menlo,'DejaVu Sans Mono',consolas,'Courier New',monospace\"><span style=\"color: #00ff00; text-decoration-color: #00ff00\">──────────────────────────────────── </span>Root user identity<span style=\"color: #00ff00; text-decoration-color: #00ff00\"> ─────────────────────────────────────</span>\n",
       "</pre>\n"
      ],
      "text/plain": [
       "\u001b[92m──────────────────────────────────── \u001b[0mRoot user identity\u001b[92m ─────────────────────────────────────\u001b[0m\n"
      ]
     },
     "metadata": {}
    },
    {
     "output_type": "display_data",
     "data": {
      "text/html": [
       "<pre style=\"white-space:pre;overflow-x:auto;line-height:normal;font-family:Menlo,'DejaVu Sans Mono',consolas,'Courier New',monospace\">ID: <span style=\"color: #008080; text-decoration-color: #008080; background-color: #c0c0c0; font-weight: bold\">714630022097</span>\n",
       "</pre>\n"
      ],
      "text/plain": [
       "ID: \u001b[1;36;47m714630022097\u001b[0m\n"
      ]
     },
     "metadata": {}
    },
    {
     "output_type": "display_data",
     "data": {
      "text/html": [
       "<pre style=\"white-space:pre;overflow-x:auto;line-height:normal;font-family:Menlo,'DejaVu Sans Mono',consolas,'Courier New',monospace\">Username: <span style=\"color: #008080; text-decoration-color: #008080; background-color: #c0c0c0; font-weight: bold; font-style: italic\">None</span>\n",
       "</pre>\n"
      ],
      "text/plain": [
       "Username: \u001b[1;3;36;47mNone\u001b[0m\n"
      ]
     },
     "metadata": {}
    },
    {
     "output_type": "display_data",
     "data": {
      "text/html": [
       "<pre style=\"white-space:pre;overflow-x:auto;line-height:normal;font-family:Menlo,'DejaVu Sans Mono',consolas,'Courier New',monospace\">ARN: <span style=\"color: #008080; text-decoration-color: #008080; background-color: #c0c0c0; font-weight: bold\">arn:aws:iam::</span><span style=\"color: #008080; text-decoration-color: #008080; background-color: #c0c0c0; font-weight: bold\">714630022097</span><span style=\"color: #008080; text-decoration-color: #008080; background-color: #c0c0c0; font-weight: bold\">:root</span>\n",
       "</pre>\n"
      ],
      "text/plain": [
       "ARN: \u001b[1;36;47marn:aws:iam::\u001b[0m\u001b[1;36;47m714630022097\u001b[0m\u001b[1;36;47m:root\u001b[0m\n"
      ]
     },
     "metadata": {}
    },
    {
     "output_type": "display_data",
     "data": {
      "text/html": [
       "<pre style=\"white-space:pre;overflow-x:auto;line-height:normal;font-family:Menlo,'DejaVu Sans Mono',consolas,'Courier New',monospace\">AWS Account ID: <span style=\"color: #008080; text-decoration-color: #008080; background-color: #c0c0c0; font-weight: bold\">714630022097</span>\n",
       "</pre>\n"
      ],
      "text/plain": [
       "AWS Account ID: \u001b[1;36;47m714630022097\u001b[0m\n"
      ]
     },
     "metadata": {}
    },
    {
     "output_type": "display_data",
     "data": {
      "text/html": [
       "<pre style=\"white-space:pre;overflow-x:auto;line-height:normal;font-family:Menlo,'DejaVu Sans Mono',consolas,'Courier New',monospace\"><span style=\"color: #00ff00; text-decoration-color: #00ff00\">─────────────────────────────── </span>IAM policy <span style=\"color: #008080; text-decoration-color: #008080; text-decoration: underline\">crowd-workers-dev</span><span style=\"color: #00ff00; text-decoration-color: #00ff00\"> ────────────────────────────────</span>\n",
       "</pre>\n"
      ],
      "text/plain": [
       "\u001b[92m─────────────────────────────── \u001b[0mIAM policy \u001b[4;36mcrowd-workers-dev\u001b[0m\u001b[92m ────────────────────────────────\u001b[0m\n"
      ]
     },
     "metadata": {}
    },
    {
     "output_type": "display_data",
     "data": {
      "text/html": [
       "<pre style=\"white-space:pre;overflow-x:auto;line-height:normal;font-family:Menlo,'DejaVu Sans Mono',consolas,'Courier New',monospace\"><span style=\"color: #808000; text-decoration-color: #808000\">Policy already present</span>\n",
       "</pre>\n"
      ],
      "text/plain": [
       "\u001b[33mPolicy already present\u001b[0m\n"
      ]
     },
     "metadata": {}
    },
    {
     "output_type": "display_data",
     "data": {
      "text/html": [
       "<pre style=\"white-space:pre;overflow-x:auto;line-height:normal;font-family:Menlo,'DejaVu Sans Mono',consolas,'Courier New',monospace\"><span style=\"color: #008000; text-decoration-color: #008000\">Policy retrieved</span>, HTTP STATUS CODE: <span style=\"color: #008080; text-decoration-color: #008080; font-weight: bold\">200</span>.\n",
       "</pre>\n"
      ],
      "text/plain": [
       "\u001b[32mPolicy retrieved\u001b[0m, HTTP STATUS CODE: \u001b[1;36m200\u001b[0m.\n"
      ]
     },
     "metadata": {}
    },
    {
     "output_type": "display_data",
     "data": {
      "text/html": [
       "<pre style=\"white-space:pre;overflow-x:auto;line-height:normal;font-family:Menlo,'DejaVu Sans Mono',consolas,'Courier New',monospace\">Policy ARN: <span style=\"color: #008080; text-decoration-color: #008080; text-decoration: underline\">arn:aws:iam::</span><span style=\"color: #008080; text-decoration-color: #008080; font-weight: bold; text-decoration: underline\">714630022097</span><span style=\"color: #008080; text-decoration-color: #008080; text-decoration: underline\">:policy/crowd-workers-dev</span>\n",
       "</pre>\n"
      ],
      "text/plain": [
       "Policy ARN: \u001b[4;36marn:aws:iam::\u001b[0m\u001b[1;4;36m714630022097\u001b[0m\u001b[4;36m:policy/crowd-workers-dev\u001b[0m\n"
      ]
     },
     "metadata": {}
    },
    {
     "output_type": "display_data",
     "data": {
      "text/html": [
       "<pre style=\"white-space:pre;overflow-x:auto;line-height:normal;font-family:Menlo,'DejaVu Sans Mono',consolas,'Courier New',monospace\"><span style=\"color: #00ff00; text-decoration-color: #00ff00\">──────────────────────────────────── </span>IAM user <span style=\"color: #008080; text-decoration-color: #008080; text-decoration: underline\">worker-dev</span><span style=\"color: #00ff00; text-decoration-color: #00ff00\"> ────────────────────────────────────</span>\n",
       "</pre>\n"
      ],
      "text/plain": [
       "\u001b[92m──────────────────────────────────── \u001b[0mIAM user \u001b[4;36mworker-dev\u001b[0m\u001b[92m ────────────────────────────────────\u001b[0m\n"
      ]
     },
     "metadata": {}
    },
    {
     "output_type": "display_data",
     "data": {
      "text/html": [
       "<pre style=\"white-space:pre;overflow-x:auto;line-height:normal;font-family:Menlo,'DejaVu Sans Mono',consolas,'Courier New',monospace\"><span style=\"color: #808000; text-decoration-color: #808000\">User already present</span>\n",
       "</pre>\n"
      ],
      "text/plain": [
       "\u001b[33mUser already present\u001b[0m\n"
      ]
     },
     "metadata": {}
    },
    {
     "output_type": "display_data",
     "data": {
      "text/html": [
       "<pre style=\"white-space:pre;overflow-x:auto;line-height:normal;font-family:Menlo,'DejaVu Sans Mono',consolas,'Courier New',monospace\"><span style=\"color: #008000; text-decoration-color: #008000\">User retrieved, HTTP STATUS CODE: </span><span style=\"color: #008000; text-decoration-color: #008000; font-weight: bold\">200</span><span style=\"color: #008000; text-decoration-color: #008000\">.</span>\n",
       "</pre>\n"
      ],
      "text/plain": [
       "\u001b[32mUser retrieved\u001b[0m\u001b[32m, HTTP STATUS CODE: \u001b[0m\u001b[1;32m200\u001b[0m\u001b[32m.\u001b[0m\n"
      ]
     },
     "metadata": {}
    },
    {
     "output_type": "display_data",
     "data": {
      "text/html": [
       "<pre style=\"white-space:pre;overflow-x:auto;line-height:normal;font-family:Menlo,'DejaVu Sans Mono',consolas,'Courier New',monospace\"><span style=\"color: #008000; text-decoration-color: #008000\">Policy with ARN </span><span style=\"color: #008080; text-decoration-color: #008080; text-decoration: underline\">arn:aws:iam::</span><span style=\"color: #008080; text-decoration-color: #008080; font-weight: bold; text-decoration: underline\">714630022097</span><span style=\"color: #008080; text-decoration-color: #008080; text-decoration: underline\">:policy/crowd-workers-dev</span><span style=\"color: #008000; text-decoration-color: #008000\"> attached to user, HTTP </span>\n",
       "<span style=\"color: #008000; text-decoration-color: #008000\">STATUS CODE: </span><span style=\"color: #008000; text-decoration-color: #008000; font-weight: bold\">200</span>\n",
       "</pre>\n"
      ],
      "text/plain": [
       "\u001b[32mPolicy with ARN \u001b[0m\u001b[4;36marn:aws:iam::\u001b[0m\u001b[1;4;36m714630022097\u001b[0m\u001b[4;36m:policy/crowd-workers-dev\u001b[0m\u001b[32m attached to user, HTTP \u001b[0m\n",
       "\u001b[32mSTATUS CODE: \u001b[0m\u001b[1;32m200\u001b[0m\n"
      ]
     },
     "metadata": {}
    },
    {
     "output_type": "display_data",
     "data": {
      "text/html": [
       "<pre style=\"white-space:pre;overflow-x:auto;line-height:normal;font-family:Menlo,'DejaVu Sans Mono',consolas,'Courier New',monospace\">Key data found on disk and loaded\n",
       "</pre>\n"
      ],
      "text/plain": [
       "Key data found on disk and loaded\n"
      ]
     },
     "metadata": {}
    }
   ],
   "metadata": {
    "pycharm": {
     "name": "#%%\n"
    }
   }
  },
  {
   "cell_type": "markdown",
   "source": [
    "## Section 3 - Private and deploy bucket creation\n",
    "### build/aws"
   ],
   "metadata": {
    "pycharm": {
     "name": "#%% md\n"
    }
   }
  },
  {
   "cell_type": "code",
   "execution_count": 8,
   "source": [
    "s3_client = boto3.client('s3')\r\n",
    "s3_resource = boto3.resource('s3')\r\n",
    "\r\n",
    "buckets = []\r\n",
    "for bucket in s3_resource.buckets.all():\r\n",
    "    buckets.append(bucket.name)\r\n",
    "\r\n",
    "console.rule(f\"bucket [cyan underline]{aws_private_bucket}[/cyan underline]\")\r\n",
    "\r\n",
    "try:\r\n",
    "    private_bucket = s3_client.create_bucket(\r\n",
    "        Bucket=aws_private_bucket,\r\n",
    "        CreateBucketConfiguration={\r\n",
    "            'LocationConstraint': aws_region\r\n",
    "        }\r\n",
    "    )\r\n",
    "    console.print(f\"[green]Bucket creation completed[/green], HTTP STATUS CODE: {private_bucket['ResponseMetadata']['HTTPStatusCode']}.\")\r\n",
    "except s3_client.exceptions.BucketAlreadyOwnedByYou as error:\r\n",
    "    private_bucket = s3_resource.Bucket(aws_private_bucket)\r\n",
    "    console.print(f\"[yellow]Bucket already present[/yellow], HTTP STATUS CODE: {error.response['ResponseMetadata']['HTTPStatusCode']}.\")\r\n",
    "serialize_json(folder_aws_path, f\"bucket_{aws_private_bucket}.json\", private_bucket)\r\n",
    "\r\n",
    "response = s3_client.put_public_access_block(\r\n",
    "    Bucket=aws_private_bucket,\r\n",
    "    PublicAccessBlockConfiguration={\r\n",
    "        'BlockPublicAcls': True,\r\n",
    "        'IgnorePublicAcls': True,\r\n",
    "        'BlockPublicPolicy': True,\r\n",
    "        'RestrictPublicBuckets': True\r\n",
    "    },\r\n",
    ")\r\n",
    "console.print(f\"[green]Public access blocked[/green], HTTP STATUS CODE: {response['ResponseMetadata']['HTTPStatusCode']}.\")\r\n",
    "\r\n",
    "private_bucket_policy = {\r\n",
    "    \"Version\": \"2012-10-17\",\r\n",
    "    \"Id\": \"private-bucket-policy\",\r\n",
    "    \"Statement\": [\r\n",
    "        {\r\n",
    "            \"Sid\": \"allow-bucket-interaction\",\r\n",
    "            \"Effect\": \"Allow\",\r\n",
    "            \"Principal\": {\r\n",
    "                \"AWS\": f\"arn:aws:iam::{aws_account_id}:user/{user['User']['UserName']}\",\r\n",
    "            },\r\n",
    "            \"Action\": [\r\n",
    "                \"s3:PutObject\",\r\n",
    "                \"s3:GetObject\",\r\n",
    "                \"s3:ListBucket\"\r\n",
    "            ],\r\n",
    "            \"Resource\": [\r\n",
    "                f\"arn:aws:s3:::{aws_private_bucket}\",\r\n",
    "                f\"arn:aws:s3:::{aws_private_bucket}/*\"\r\n",
    "            ]\r\n",
    "        }\r\n",
    "    ]\r\n",
    "}\r\n",
    "\r\n",
    "try:\r\n",
    "    policy = s3_client.get_bucket_policy(Bucket=aws_private_bucket)\r\n",
    "    policy['Policy'] = json.loads(policy['Policy'])\r\n",
    "    console.print(f\"[yellow]Policy already present[/yellow], HTTP STATUS CODE: {response['ResponseMetadata']['HTTPStatusCode']}.\")\r\n",
    "except ClientError as e:\r\n",
    "    if e.response['Error']['Code'] == 'NoSuchBucketPolicy':\r\n",
    "        response = s3_client.put_bucket_policy(Bucket=aws_private_bucket, Policy=json.dumps(private_bucket_policy))\r\n",
    "        console.print(f\"[green]Policy configuration completed[/green], HTTP STATUS CODE: {response['ResponseMetadata']['HTTPStatusCode']}.\")\r\n",
    "    policy = s3_client.get_bucket_policy(Bucket=aws_private_bucket)\r\n",
    "    policy['Policy'] = json.loads(policy['Policy'])\r\n",
    "serialize_json(folder_aws_path, f\"bucket_{aws_private_bucket}_policy.json\", policy)\r\n",
    "\r\n",
    "cors_configuration = {\r\n",
    "    'CORSRules': [{\r\n",
    "        'AllowedHeaders': ['*'],\r\n",
    "        'AllowedMethods': ['GET', 'HEAD', 'PUT'],\r\n",
    "        'AllowedOrigins': ['*'],\r\n",
    "        'ExposeHeaders': [],\r\n",
    "        'MaxAgeSeconds': 3000\r\n",
    "    }]\r\n",
    "}\r\n",
    "\r\n",
    "try:\r\n",
    "    cors_configuration = s3_client.get_bucket_cors(Bucket=aws_private_bucket)\r\n",
    "    console.print(f\"[yellow]CORS Configuration already present[/yellow], HTTP STATUS CODE: {response['ResponseMetadata']['HTTPStatusCode']}.\")\r\n",
    "except ClientError as e:\r\n",
    "    if e.response['Error']['Code'] == 'NoSuchCORSConfiguration':\r\n",
    "        response = s3_client.put_bucket_cors(Bucket=aws_private_bucket, CORSConfiguration=cors_configuration)\r\n",
    "        console.print(f\"[green]CORS configuration completed[green], HTTP STATUS CODE: {response['ResponseMetadata']['HTTPStatusCode']}.\")\r\n",
    "cors_configuration = s3_client.get_bucket_cors(Bucket=aws_private_bucket)\r\n",
    "serialize_json(folder_aws_path, f\"bucket_{aws_private_bucket}_cors.json\", cors_configuration)\r\n",
    "\r\n",
    "console.rule(f\"bucket [cyan underline]{aws_deploy_bucket}[/cyan underline]\")\r\n",
    "\r\n",
    "try:\r\n",
    "    deploy_bucket = s3_client.create_bucket(\r\n",
    "        Bucket=aws_deploy_bucket,\r\n",
    "        CreateBucketConfiguration={\r\n",
    "            'LocationConstraint': aws_region\r\n",
    "        }\r\n",
    "    )\r\n",
    "    console.print(f\"[green]Bucket creation completed[/green], HTTP STATUS CODE: {deploy_bucket['ResponseMetadata']['HTTPStatusCode']}.\")\r\n",
    "except s3_client.exceptions.BucketAlreadyOwnedByYou as error:\r\n",
    "    deploy_bucket = s3_resource.Bucket(aws_deploy_bucket)\r\n",
    "    console.print(f\"[yellow]Bucket already present[/yellow], HTTP STATUS CODE: {error.response['ResponseMetadata']['HTTPStatusCode']}.\")\r\n",
    "serialize_json(folder_aws_path, f\"bucket_{aws_deploy_bucket}.json\", deploy_bucket)\r\n",
    "\r\n",
    "deploy_bucket_policy = {\r\n",
    "    \"Version\": \"2012-10-17\",\r\n",
    "    \"Id\": \"deploy-bucket-policy\",\r\n",
    "    \"Statement\": [\r\n",
    "        {\r\n",
    "            \"Sid\": \"allow-bucket-interaction\",\r\n",
    "            \"Effect\": \"Allow\",\r\n",
    "            \"Principal\": {\r\n",
    "                \"AWS\": f\"arn:aws:iam::{aws_account_id}:user/{user['User']['UserName']}\"\r\n",
    "            },\r\n",
    "            \"Action\": [\r\n",
    "                \"s3:PutObject\",\r\n",
    "                \"s3:GetObject\",\r\n",
    "                \"s3:ListBucket\"\r\n",
    "            ],\r\n",
    "            \"Resource\": [\r\n",
    "                f\"arn:aws:s3:::{aws_deploy_bucket}\",\r\n",
    "                f\"arn:aws:s3:::{aws_deploy_bucket}/*\"\r\n",
    "            ]\r\n",
    "        },\r\n",
    "        {\r\n",
    "            \"Sid\": \"allow-bucket-administration\",\r\n",
    "            \"Effect\": \"Allow\",\r\n",
    "            \"Principal\": {\r\n",
    "                \"AWS\": root_user.arn\r\n",
    "            },\r\n",
    "            \"Action\": [\r\n",
    "                \"s3:*\",\r\n",
    "            ],\r\n",
    "            \"Resource\": [\r\n",
    "                f\"arn:aws:s3:::{aws_deploy_bucket}\",\r\n",
    "                f\"arn:aws:s3:::{aws_deploy_bucket}/*\"\r\n",
    "            ]\r\n",
    "        }\r\n",
    "    ]\r\n",
    "}\r\n",
    "\r\n",
    "try:\r\n",
    "    policy = s3_client.get_bucket_policy(Bucket=aws_deploy_bucket)\r\n",
    "    policy['Policy'] = json.loads(policy['Policy'])\r\n",
    "    console.print(f\"[yellow]Policy already present[/yellow], HTTP STATUS CODE: {response['ResponseMetadata']['HTTPStatusCode']}.\")\r\n",
    "except ClientError as e:\r\n",
    "    if e.response['Error']['Code'] == 'NoSuchBucketPolicy':\r\n",
    "        response = s3_client.put_bucket_policy(Bucket=aws_deploy_bucket, Policy=json.dumps(deploy_bucket_policy))\r\n",
    "        console.print(f\"[green]Policy configuration completed[/green], HTTP STATUS CODE: {response['ResponseMetadata']['HTTPStatusCode']}.\")\r\n",
    "    policy = s3_client.get_bucket_policy(Bucket=aws_deploy_bucket)\r\n",
    "    policy['Policy'] = json.loads(policy['Policy'])\r\n",
    "serialize_json(folder_aws_path, f\"bucket_{aws_private_bucket}_policy.json\", policy)\r\n"
   ],
   "outputs": [
    {
     "output_type": "display_data",
     "data": {
      "text/html": [
       "<pre style=\"white-space:pre;overflow-x:auto;line-height:normal;font-family:Menlo,'DejaVu Sans Mono',consolas,'Courier New',monospace\"><span style=\"color: #00ff00; text-decoration-color: #00ff00\">─────────────────────────────────── </span>bucket <span style=\"color: #008080; text-decoration-color: #008080; text-decoration: underline\">pairwise-tasks</span><span style=\"color: #00ff00; text-decoration-color: #00ff00\"> ───────────────────────────────────</span>\n",
       "</pre>\n"
      ],
      "text/plain": [
       "\u001b[92m─────────────────────────────────── \u001b[0mbucket \u001b[4;36mpairwise-tasks\u001b[0m\u001b[92m ───────────────────────────────────\u001b[0m\n"
      ]
     },
     "metadata": {}
    },
    {
     "output_type": "display_data",
     "data": {
      "text/html": [
       "<pre style=\"white-space:pre;overflow-x:auto;line-height:normal;font-family:Menlo,'DejaVu Sans Mono',consolas,'Courier New',monospace\"><span style=\"color: #808000; text-decoration-color: #808000\">Bucket already present</span>, HTTP STATUS CODE: <span style=\"color: #008080; text-decoration-color: #008080; font-weight: bold\">409</span>.\n",
       "</pre>\n"
      ],
      "text/plain": [
       "\u001b[33mBucket already present\u001b[0m, HTTP STATUS CODE: \u001b[1;36m409\u001b[0m.\n"
      ]
     },
     "metadata": {}
    },
    {
     "output_type": "display_data",
     "data": {
      "text/html": [
       "<pre style=\"white-space:pre;overflow-x:auto;line-height:normal;font-family:Menlo,'DejaVu Sans Mono',consolas,'Courier New',monospace\"><span style=\"color: #008000; text-decoration-color: #008000\">Public access blocked</span>, HTTP STATUS CODE: <span style=\"color: #008080; text-decoration-color: #008080; font-weight: bold\">200</span>.\n",
       "</pre>\n"
      ],
      "text/plain": [
       "\u001b[32mPublic access blocked\u001b[0m, HTTP STATUS CODE: \u001b[1;36m200\u001b[0m.\n"
      ]
     },
     "metadata": {}
    },
    {
     "output_type": "display_data",
     "data": {
      "text/html": [
       "<pre style=\"white-space:pre;overflow-x:auto;line-height:normal;font-family:Menlo,'DejaVu Sans Mono',consolas,'Courier New',monospace\"><span style=\"color: #808000; text-decoration-color: #808000\">Policy already present</span>, HTTP STATUS CODE: <span style=\"color: #008080; text-decoration-color: #008080; font-weight: bold\">200</span>.\n",
       "</pre>\n"
      ],
      "text/plain": [
       "\u001b[33mPolicy already present\u001b[0m, HTTP STATUS CODE: \u001b[1;36m200\u001b[0m.\n"
      ]
     },
     "metadata": {}
    },
    {
     "output_type": "display_data",
     "data": {
      "text/html": [
       "<pre style=\"white-space:pre;overflow-x:auto;line-height:normal;font-family:Menlo,'DejaVu Sans Mono',consolas,'Courier New',monospace\"><span style=\"color: #808000; text-decoration-color: #808000\">CORS Configuration already present</span>, HTTP STATUS CODE: <span style=\"color: #008080; text-decoration-color: #008080; font-weight: bold\">200</span>.\n",
       "</pre>\n"
      ],
      "text/plain": [
       "\u001b[33mCORS Configuration already present\u001b[0m, HTTP STATUS CODE: \u001b[1;36m200\u001b[0m.\n"
      ]
     },
     "metadata": {}
    },
    {
     "output_type": "display_data",
     "data": {
      "text/html": [
       "<pre style=\"white-space:pre;overflow-x:auto;line-height:normal;font-family:Menlo,'DejaVu Sans Mono',consolas,'Courier New',monospace\"><span style=\"color: #00ff00; text-decoration-color: #00ff00\">────────────────────────────────── </span>bucket <span style=\"color: #008080; text-decoration-color: #008080; text-decoration: underline\">pairwise-deploy</span><span style=\"color: #00ff00; text-decoration-color: #00ff00\"> ───────────────────────────────────</span>\n",
       "</pre>\n"
      ],
      "text/plain": [
       "\u001b[92m────────────────────────────────── \u001b[0mbucket \u001b[4;36mpairwise-deploy\u001b[0m\u001b[92m ───────────────────────────────────\u001b[0m\n"
      ]
     },
     "metadata": {}
    },
    {
     "output_type": "display_data",
     "data": {
      "text/html": [
       "<pre style=\"white-space:pre;overflow-x:auto;line-height:normal;font-family:Menlo,'DejaVu Sans Mono',consolas,'Courier New',monospace\"><span style=\"color: #808000; text-decoration-color: #808000\">Bucket already present</span>, HTTP STATUS CODE: <span style=\"color: #008080; text-decoration-color: #008080; font-weight: bold\">409</span>.\n",
       "</pre>\n"
      ],
      "text/plain": [
       "\u001b[33mBucket already present\u001b[0m, HTTP STATUS CODE: \u001b[1;36m409\u001b[0m.\n"
      ]
     },
     "metadata": {}
    },
    {
     "output_type": "display_data",
     "data": {
      "text/html": [
       "<pre style=\"white-space:pre;overflow-x:auto;line-height:normal;font-family:Menlo,'DejaVu Sans Mono',consolas,'Courier New',monospace\"><span style=\"color: #808000; text-decoration-color: #808000\">Policy already present</span>, HTTP STATUS CODE: <span style=\"color: #008080; text-decoration-color: #008080; font-weight: bold\">200</span>.\n",
       "</pre>\n"
      ],
      "text/plain": [
       "\u001b[33mPolicy already present\u001b[0m, HTTP STATUS CODE: \u001b[1;36m200\u001b[0m.\n"
      ]
     },
     "metadata": {}
    }
   ],
   "metadata": {
    "pycharm": {
     "name": "#%%\n"
    }
   }
  },
  {
   "cell_type": "markdown",
   "source": [
    "# Section 4 - Environment file generation\n",
    "### build/environments"
   ],
   "metadata": {
    "pycharm": {
     "name": "#%% md\n"
    }
   }
  },
  {
   "cell_type": "code",
   "execution_count": 9,
   "source": [
    "environment_development = f\"{folder_build_env_path}environment.ts\"\r\n",
    "environment_production = f\"{folder_build_env_path}environment.prod.ts\"\r\n",
    "\r\n",
    "console.rule(\"Environment: [cyan underline]PRODUCTION[/cyan underline]\")\r\n",
    "\r\n",
    "environment_dict = {\r\n",
    "    \"production\": 'true',\r\n",
    "    \"configuration_local\": 'false',\r\n",
    "    \"taskName\": task_name,\r\n",
    "    \"batchName\": batch_name,\r\n",
    "    \"region\": aws_region,\r\n",
    "    \"bucket\": aws_private_bucket,\r\n",
    "    \"aws_id_key\": aws_worker_access_id,\r\n",
    "    \"aws_secret_key\": aws_worker_access_secret,\r\n",
    "    \"bing_api_key\": bing_api_key\r\n",
    "}\r\n",
    "\r\n",
    "os.makedirs(folder_build_env_path, exist_ok=True)\r\n",
    "\r\n",
    "with open(environment_production, 'w') as file:\r\n",
    "    print(\"export const environment = {\", file=file)\r\n",
    "    for (env_var, value) in environment_dict.items():\r\n",
    "        if env_var == 'production' or env_var == 'configuration_local':\r\n",
    "            print(f\"\\t{env_var}: {value},\", file=file)\r\n",
    "        else:\r\n",
    "            print(f\"\\t{env_var}: \\\"{value}\\\",\", file=file)\r\n",
    "    print(\"};\", file=file)\r\n",
    "\r\n",
    "console.print(\"File [cyan underline]environment.prod.ts[/cyan underline] generated\")\r\n",
    "console.print(f\"Path: [italic]{environment_production}[/italic]\")\r\n",
    "\r\n",
    "console.rule(\"Environment: [cyan underline]DEVELOPMENT[/cyan underline]\")\r\n",
    "\r\n",
    "environment_dict = {\r\n",
    "    \"production\": 'false',\r\n",
    "    \"configuration_local\": 'false',\r\n",
    "    \"taskName\": task_name,\r\n",
    "    \"batchName\": batch_name,\r\n",
    "    \"region\": aws_region,\r\n",
    "    \"bucket\": aws_private_bucket,\r\n",
    "    \"aws_id_key\": aws_worker_access_id,\r\n",
    "    \"aws_secret_key\": aws_worker_access_secret,\r\n",
    "    \"bing_api_key\": bing_api_key\r\n",
    "}\r\n",
    "\r\n",
    "with open(environment_development, 'w') as file:\r\n",
    "    print(\"export const environment = {\", file=file)\r\n",
    "    for (env_var, value) in environment_dict.items():\r\n",
    "        if env_var == 'production' or env_var == 'configuration_local':\r\n",
    "            print(f\"\\t{env_var}: {value},\", file=file)\r\n",
    "        else:\r\n",
    "            print(f\"\\t{env_var}: \\\"{value}\\\",\", file=file)\r\n",
    "    print(\"};\", file=file)\r\n",
    "\r\n",
    "console.print(\"File [cyan underline]environment.ts[/cyan underline] generated\")\r\n",
    "console.print(f\"Path: [italic]{environment_development}[/italic]\")"
   ],
   "outputs": [
    {
     "output_type": "display_data",
     "data": {
      "text/html": [
       "<pre style=\"white-space:pre;overflow-x:auto;line-height:normal;font-family:Menlo,'DejaVu Sans Mono',consolas,'Courier New',monospace\"><span style=\"color: #00ff00; text-decoration-color: #00ff00\">────────────────────────────────── </span>Environment: <span style=\"color: #008080; text-decoration-color: #008080; text-decoration: underline\">PRODUCTION</span><span style=\"color: #00ff00; text-decoration-color: #00ff00\"> ──────────────────────────────────</span>\n",
       "</pre>\n"
      ],
      "text/plain": [
       "\u001b[92m────────────────────────────────── \u001b[0mEnvironment: \u001b[4;36mPRODUCTION\u001b[0m\u001b[92m ──────────────────────────────────\u001b[0m\n"
      ]
     },
     "metadata": {}
    },
    {
     "output_type": "display_data",
     "data": {
      "text/html": [
       "<pre style=\"white-space:pre;overflow-x:auto;line-height:normal;font-family:Menlo,'DejaVu Sans Mono',consolas,'Courier New',monospace\">File <span style=\"color: #008080; text-decoration-color: #008080; text-decoration: underline\">environment.prod.ts</span> generated\n",
       "</pre>\n"
      ],
      "text/plain": [
       "File \u001b[4;36menvironment.prod.ts\u001b[0m generated\n"
      ]
     },
     "metadata": {}
    },
    {
     "output_type": "display_data",
     "data": {
      "text/html": [
       "<pre style=\"white-space:pre;overflow-x:auto;line-height:normal;font-family:Menlo,'DejaVu Sans Mono',consolas,'Courier New',monospace\">Path: <span style=\"font-style: italic\">build/environments/environment.prod.ts</span>\n",
       "</pre>\n"
      ],
      "text/plain": [
       "Path: \u001b[3mbuild/environments/environment.prod.ts\u001b[0m\n"
      ]
     },
     "metadata": {}
    },
    {
     "output_type": "display_data",
     "data": {
      "text/html": [
       "<pre style=\"white-space:pre;overflow-x:auto;line-height:normal;font-family:Menlo,'DejaVu Sans Mono',consolas,'Courier New',monospace\"><span style=\"color: #00ff00; text-decoration-color: #00ff00\">───────────────────────────────── </span>Environment: <span style=\"color: #008080; text-decoration-color: #008080; text-decoration: underline\">DEVELOPMENT</span><span style=\"color: #00ff00; text-decoration-color: #00ff00\"> ──────────────────────────────────</span>\n",
       "</pre>\n"
      ],
      "text/plain": [
       "\u001b[92m───────────────────────────────── \u001b[0mEnvironment: \u001b[4;36mDEVELOPMENT\u001b[0m\u001b[92m ──────────────────────────────────\u001b[0m\n"
      ]
     },
     "metadata": {}
    },
    {
     "output_type": "display_data",
     "data": {
      "text/html": [
       "<pre style=\"white-space:pre;overflow-x:auto;line-height:normal;font-family:Menlo,'DejaVu Sans Mono',consolas,'Courier New',monospace\">File <span style=\"color: #008080; text-decoration-color: #008080; text-decoration: underline\">environment.ts</span> generated\n",
       "</pre>\n"
      ],
      "text/plain": [
       "File \u001b[4;36menvironment.ts\u001b[0m generated\n"
      ]
     },
     "metadata": {}
    },
    {
     "output_type": "display_data",
     "data": {
      "text/html": [
       "<pre style=\"white-space:pre;overflow-x:auto;line-height:normal;font-family:Menlo,'DejaVu Sans Mono',consolas,'Courier New',monospace\">Path: <span style=\"font-style: italic\">build/environments/environment.ts</span>\n",
       "</pre>\n"
      ],
      "text/plain": [
       "Path: \u001b[3mbuild/environments/environment.ts\u001b[0m\n"
      ]
     },
     "metadata": {}
    }
   ],
   "metadata": {
    "pycharm": {
     "name": "#%%\n"
    }
   }
  },
  {
   "cell_type": "markdown",
   "source": [
    "## Section 5 - admin.json file generation\n",
    "### build/config"
   ],
   "metadata": {
    "pycharm": {
     "name": "#%% md\n"
    }
   }
  },
  {
   "cell_type": "code",
   "execution_count": 10,
   "source": [
    "import hmac\r\n",
    "import hashlib\r\n",
    "\r\n",
    "console.rule(\"File [cyan underline]admin.json\")\r\n",
    "\r\n",
    "if not os.path.exists(folder_build_config_path):\r\n",
    "    os.makedirs(folder_build_config_path, exist_ok=True)\r\n",
    "\r\n",
    "admin_file = f\"{folder_build_config_path}admin.json\"\r\n",
    "\r\n",
    "console.print(\"Creating hash with [cyan underline]hmac[/cyan underline] and [cyan underline]sha256[/cyan underline]\")\r\n",
    "console.print(f\"Processing user with username: [white on purple]{admin_user}[white on purple]\")\r\n",
    "\r\n",
    "admins = []\r\n",
    "body = f\"username:{admin_user}\"\r\n",
    "digest_maker = hmac.new(admin_password.encode(), body.encode(), hashlib.sha256)\r\n",
    "admins.append(digest_maker.hexdigest())\r\n",
    "with open(admin_file, 'w') as file:\r\n",
    "    json.dump(admins, file, indent=4)\r\n",
    "\r\n",
    "console.print(f\"Path: [italic]{admin_file}\")"
   ],
   "outputs": [
    {
     "output_type": "display_data",
     "data": {
      "text/html": [
       "<pre style=\"white-space:pre;overflow-x:auto;line-height:normal;font-family:Menlo,'DejaVu Sans Mono',consolas,'Courier New',monospace\"><span style=\"color: #00ff00; text-decoration-color: #00ff00\">────────────────────────────────────── </span>File <span style=\"color: #008080; text-decoration-color: #008080; text-decoration: underline\">admin.json</span><span style=\"color: #00ff00; text-decoration-color: #00ff00\"> ──────────────────────────────────────</span>\n",
       "</pre>\n"
      ],
      "text/plain": [
       "\u001b[92m────────────────────────────────────── \u001b[0mFile \u001b[4;36madmin.json\u001b[0m\u001b[92m ──────────────────────────────────────\u001b[0m\n"
      ]
     },
     "metadata": {}
    },
    {
     "output_type": "display_data",
     "data": {
      "text/html": [
       "<pre style=\"white-space:pre;overflow-x:auto;line-height:normal;font-family:Menlo,'DejaVu Sans Mono',consolas,'Courier New',monospace\">Creating hash with <span style=\"color: #008080; text-decoration-color: #008080; text-decoration: underline\">hmac</span> and <span style=\"color: #008080; text-decoration-color: #008080; text-decoration: underline\">sha256</span>\n",
       "</pre>\n"
      ],
      "text/plain": [
       "Creating hash with \u001b[4;36mhmac\u001b[0m and \u001b[4;36msha256\u001b[0m\n"
      ]
     },
     "metadata": {}
    },
    {
     "output_type": "display_data",
     "data": {
      "text/html": [
       "<pre style=\"white-space:pre;overflow-x:auto;line-height:normal;font-family:Menlo,'DejaVu Sans Mono',consolas,'Courier New',monospace\">Processing user with username: <span style=\"color: #c0c0c0; text-decoration-color: #c0c0c0; background-color: #af00ff\">arn:aws:iam::</span><span style=\"color: #c0c0c0; text-decoration-color: #c0c0c0; background-color: #af00ff; font-weight: bold\">714630022097</span><span style=\"color: #c0c0c0; text-decoration-color: #c0c0c0; background-color: #af00ff\">:user/userTess</span>\n",
       "</pre>\n"
      ],
      "text/plain": [
       "Processing user with username: \u001b[37;48;5;129marn:aws:iam::\u001b[0m\u001b[1;37;48;5;129m714630022097\u001b[0m\u001b[37;48;5;129m:user/userTess\u001b[0m\n"
      ]
     },
     "metadata": {}
    },
    {
     "output_type": "display_data",
     "data": {
      "text/html": [
       "<pre style=\"white-space:pre;overflow-x:auto;line-height:normal;font-family:Menlo,'DejaVu Sans Mono',consolas,'Courier New',monospace\">Path: <span style=\"font-style: italic\">build/config/admin.json</span>\n",
       "</pre>\n"
      ],
      "text/plain": [
       "Path: \u001b[3mbuild/config/admin.json\u001b[0m\n"
      ]
     },
     "metadata": {}
    }
   ],
   "metadata": {
    "pycharm": {
     "name": "#%%\n"
    }
   }
  },
  {
   "cell_type": "markdown",
   "source": [
    "## Section 6 - Sample configuration generation\n",
    "### build/task"
   ],
   "metadata": {
    "collapsed": false
   }
  },
  {
   "cell_type": "code",
   "execution_count": 11,
   "source": [
    "console.rule(\"Sample task configuration\")\r\n",
    "\r\n",
    "filename = \"hits.json\"\r\n",
    "if os.path.exists(f\"{folder_build_task_path}{filename}\"):\r\n",
    "    console.print(f\"Config. file [italic white on green]{filename}[/italic white on green] detected, skipping generation\")\r\n",
    "else:\r\n",
    "    console.print(f\"Config. file [italic white on yellow]{filename}[/italic white on yellow] not detected, generating a sample\")\r\n",
    "    with open(f\"{folder_build_task_path}{filename}\", 'w') as file:\r\n",
    "        sample_units = [{\r\n",
    "            \"unit_id\": \"unit_0\",\r\n",
    "            \"token_input\": \"ABCDEFGHILM\",\r\n",
    "            \"token_output\": \"MNOPQRSTUVZ\",\r\n",
    "            \"documents_number\": 1,\r\n",
    "            \"documents\": [\r\n",
    "                {\r\n",
    "                    \"id\": \"identifier_1\",\r\n",
    "                    \"text\": \"Lorem ipsum dolor sit amet\"\r\n",
    "                }\r\n",
    "            ]\r\n",
    "        }]\r\n",
    "        print(json.dumps(sample_units, indent=4), file=file)\r\n",
    "\r\n",
    "filename = \"questionnaires.json\"\r\n",
    "if os.path.exists(f\"{folder_build_task_path}{filename}\"):\r\n",
    "    console.print(f\"Config. file [italic white on green]{filename}[/italic white on green] detected, skipping generation\")\r\n",
    "else:\r\n",
    "    console.print(f\"Config. file [italic white on yellow]{filename}[/italic white on yellow] not detected, generating a sample\")\r\n",
    "    with open(f\"{folder_build_task_path}{filename}\", 'w') as file:\r\n",
    "        sample_questionnaires = [\r\n",
    "            {\r\n",
    "                \"type\": \"standard\",\r\n",
    "                \"position\": \"start\",\r\n",
    "                \"questions\": [\r\n",
    "                    {\r\n",
    "                        \"name\": \"age\",\r\n",
    "                        \"text\": \"What is your age range?\",\r\n",
    "                        \"answers\": [\r\n",
    "                            \"0-18\",\r\n",
    "                            \"19-25\",\r\n",
    "                            \"26-35\",\r\n",
    "                            \"36-50\",\r\n",
    "                            \"50-80\",\r\n",
    "                            \"80\"\r\n",
    "                        ]\r\n",
    "                    }\r\n",
    "                ]\r\n",
    "            },\r\n",
    "            {\r\n",
    "                \"type\": \"crt\",\r\n",
    "                \"position\": \"start\",\r\n",
    "                \"questions\": [\r\n",
    "                    {\r\n",
    "                        \"name\": \"farmers\",\r\n",
    "                        \"text\": \"If three farmers can plant three trees in three hours, how long would it take nine farmers to plant nine trees?\"\r\n",
    "                    }\r\n",
    "                ]\r\n",
    "            },\r\n",
    "        ]\r\n",
    "        print(json.dumps(sample_questionnaires, indent=4), file=file)\r\n",
    "\r\n",
    "filename = \"dimensions.json\"\r\n",
    "if os.path.exists(f\"{folder_build_task_path}{filename}\"):\r\n",
    "    console.print(f\"Config. file [italic white on green]{filename}[/italic white on green] detected, skipping generation\")\r\n",
    "else:\r\n",
    "    console.print(f\"Config. file [italic white on yellow]{filename}[/italic white on yellow] not detected, generating a sample\")\r\n",
    "    with open(f\"{folder_build_task_path}{filename}\", 'w') as file:\r\n",
    "        sample_dimensions = [{\r\n",
    "            \"name\": \"sample-dimension\",\r\n",
    "            \"name_pretty\": \"Sample Dimension\",\r\n",
    "            \"description\": \"Lorem ipsum dolor sit amet\",\r\n",
    "            \"url\": False,\r\n",
    "            \"justification\": False,\r\n",
    "            \"scale\": {\r\n",
    "                \"type\": \"categorical\",\r\n",
    "                \"mapping\": [\r\n",
    "                    {\r\n",
    "                        \"label\": \"False\",\r\n",
    "                        \"description\": \"...\",\r\n",
    "                        \"value\": \"1\"\r\n",
    "                    },\r\n",
    "                    {\r\n",
    "                        \"label\": \"True\",\r\n",
    "                        \"description\": \"...\",\r\n",
    "                        \"value\": \"1\"\r\n",
    "                    }\r\n",
    "                ]\r\n",
    "            },\r\n",
    "            \"gold_question_check\": False,\r\n",
    "            \"style\": False\r\n",
    "        }]\r\n",
    "        print(json.dumps(sample_dimensions, indent=4), file=file)\r\n",
    "\r\n",
    "filename = \"instructions_main.json\"\r\n",
    "if os.path.exists(f\"{folder_build_task_path}{filename}\"):\r\n",
    "    console.print(f\"Config. file [italic white on green]{filename}[/italic white on green] detected, skipping generation\")\r\n",
    "else:\r\n",
    "    console.print(f\"Config. file [italic white on yellow]{filename}[/italic white on yellow] not detected, generating a sample\")\r\n",
    "    with open(f\"{folder_build_task_path}{filename}\", 'w') as file:\r\n",
    "        sample_instructions = [\r\n",
    "            {\r\n",
    "                \"caption\": \"Task Instructions\",\r\n",
    "                \"text\": \"<p>Lorem ipsum <strong>dolor</strong> sit amet.</p>\"\r\n",
    "            }\r\n",
    "        ]\r\n",
    "        print(json.dumps(sample_instructions, indent=4), file=file)\r\n",
    "\r\n",
    "filename = \"instructions_dimensions.json\"\r\n",
    "if os.path.exists(f\"{folder_build_task_path}{filename}\"):\r\n",
    "    console.print(f\"Config. file [italic white on green]{filename}[/italic white on green] detected, skipping generation\")\r\n",
    "else:\r\n",
    "    console.print(f\"Config. file [italic white on yellow]{filename}[/italic white on yellow] not detected, generating a sample\")\r\n",
    "    with open(f\"{folder_build_task_path}{filename}\", 'w') as file:\r\n",
    "        sample_instructions = [\r\n",
    "            {\r\n",
    "                \"caption\": \"Evaluation Instructions\",\r\n",
    "                \"text\": \"<p>Lorem ipsum <strong>dolor</strong> sit amet.</p>\"\r\n",
    "            }\r\n",
    "        ]\r\n",
    "        print(json.dumps(sample_instructions, indent=4), file=file)\r\n",
    "\r\n",
    "filename = \"search_engine.json\"\r\n",
    "if os.path.exists(f\"{folder_build_task_path}{filename}\"):\r\n",
    "    console.print(f\"Config. file [italic white on green]{filename}[/italic white on green] detected, skipping generation\")\r\n",
    "else:\r\n",
    "    console.print(f\"Config. file [italic white on yellow]{filename}[/italic white on yellow] not detected, generating a sample\")\r\n",
    "    with open(f\"{folder_build_task_path}{filename}\", 'w') as file:\r\n",
    "        sample_search_engine = {\r\n",
    "            \"source\": \"FakerWebSearch\",\r\n",
    "            \"domains_filter\": []\r\n",
    "        }\r\n",
    "\r\n",
    "        print(json.dumps(sample_search_engine, indent=4), file=file)\r\n",
    "\r\n",
    "filename = \"task.json\"\r\n",
    "if os.path.exists(f\"{folder_build_task_path}{filename}\"):\r\n",
    "    console.print(f\"Config. file [italic white on green]{filename}[/italic white on green] detected, skipping generation\")\r\n",
    "else:\r\n",
    "    console.print(f\"Config. file [italic white on yellow]{filename}[/italic white on yellow] not detected, generating a sample\")\r\n",
    "    with open(f\"{folder_build_task_path}{filename}\", 'w') as file:\r\n",
    "        sample_settings = {\r\n",
    "            \"task_name\": f\"{task_name}\",\r\n",
    "            \"batch_name\": f\"{batch_name}\",\r\n",
    "            \"allowed_tries\": 10,\r\n",
    "            \"time_check_amount\": 3,\r\n",
    "            \"annotator\": False,\r\n",
    "            \"countdown_time\": False,\r\n",
    "            \"blacklist_batches\": [],\r\n",
    "            \"whitelist_batches\": [],\r\n",
    "            \"messages\": [\"You have already started this task without finishing it\"]\r\n",
    "        }\r\n",
    "        print(json.dumps(sample_settings, indent=4), file=file)\r\n",
    "\r\n",
    "filename = \"workers.json\"\r\n",
    "if os.path.exists(f\"{folder_build_task_path}{filename}\"):\r\n",
    "    console.print(f\"Config. file [italic white on green]{filename}[/italic white on green] detected, skipping generation\")\r\n",
    "else:\r\n",
    "    console.print(f\"Config. file [italic white on yellow]{filename}[/italic white on yellow] not detected, generating a sample\")\r\n",
    "    with open(f\"{folder_build_task_path}{filename}\", 'w') as file:\r\n",
    "        sample_worker_checks = {\r\n",
    "            \"blacklist\": [],\r\n",
    "            \"whitelist\": []\r\n",
    "        }\r\n",
    "        print(json.dumps(sample_worker_checks, indent=4), file=file)\r\n",
    "\r\n",
    "console.print(f\"Path: [italic white on black]{folder_build_task_path}[/italic white on black]\")"
   ],
   "outputs": [
    {
     "output_type": "display_data",
     "data": {
      "text/html": [
       "<pre style=\"white-space:pre;overflow-x:auto;line-height:normal;font-family:Menlo,'DejaVu Sans Mono',consolas,'Courier New',monospace\"><span style=\"color: #00ff00; text-decoration-color: #00ff00\">───────────────────────────────── </span>Sample task configuration<span style=\"color: #00ff00; text-decoration-color: #00ff00\"> ─────────────────────────────────</span>\n",
       "</pre>\n"
      ],
      "text/plain": [
       "\u001b[92m───────────────────────────────── \u001b[0mSample task configuration\u001b[92m ─────────────────────────────────\u001b[0m\n"
      ]
     },
     "metadata": {}
    },
    {
     "output_type": "display_data",
     "data": {
      "text/html": [
       "<pre style=\"white-space:pre;overflow-x:auto;line-height:normal;font-family:Menlo,'DejaVu Sans Mono',consolas,'Courier New',monospace\">Config. file <span style=\"color: #c0c0c0; text-decoration-color: #c0c0c0; background-color: #008000; font-style: italic\">hits.json</span> detected, skipping generation\n",
       "</pre>\n"
      ],
      "text/plain": [
       "Config. file \u001b[3;37;42mhits.json\u001b[0m detected, skipping generation\n"
      ]
     },
     "metadata": {}
    },
    {
     "output_type": "display_data",
     "data": {
      "text/html": [
       "<pre style=\"white-space:pre;overflow-x:auto;line-height:normal;font-family:Menlo,'DejaVu Sans Mono',consolas,'Courier New',monospace\">Config. file <span style=\"color: #c0c0c0; text-decoration-color: #c0c0c0; background-color: #008000; font-style: italic\">questionnaires.json</span> detected, skipping generation\n",
       "</pre>\n"
      ],
      "text/plain": [
       "Config. file \u001b[3;37;42mquestionnaires.json\u001b[0m detected, skipping generation\n"
      ]
     },
     "metadata": {}
    },
    {
     "output_type": "display_data",
     "data": {
      "text/html": [
       "<pre style=\"white-space:pre;overflow-x:auto;line-height:normal;font-family:Menlo,'DejaVu Sans Mono',consolas,'Courier New',monospace\">Config. file <span style=\"color: #c0c0c0; text-decoration-color: #c0c0c0; background-color: #008000; font-style: italic\">dimensions.json</span> detected, skipping generation\n",
       "</pre>\n"
      ],
      "text/plain": [
       "Config. file \u001b[3;37;42mdimensions.json\u001b[0m detected, skipping generation\n"
      ]
     },
     "metadata": {}
    },
    {
     "output_type": "display_data",
     "data": {
      "text/html": [
       "<pre style=\"white-space:pre;overflow-x:auto;line-height:normal;font-family:Menlo,'DejaVu Sans Mono',consolas,'Courier New',monospace\">Config. file <span style=\"color: #c0c0c0; text-decoration-color: #c0c0c0; background-color: #008000; font-style: italic\">instructions_main.json</span> detected, skipping generation\n",
       "</pre>\n"
      ],
      "text/plain": [
       "Config. file \u001b[3;37;42minstructions_main.json\u001b[0m detected, skipping generation\n"
      ]
     },
     "metadata": {}
    },
    {
     "output_type": "display_data",
     "data": {
      "text/html": [
       "<pre style=\"white-space:pre;overflow-x:auto;line-height:normal;font-family:Menlo,'DejaVu Sans Mono',consolas,'Courier New',monospace\">Config. file <span style=\"color: #c0c0c0; text-decoration-color: #c0c0c0; background-color: #008000; font-style: italic\">instructions_dimensions.json</span> detected, skipping generation\n",
       "</pre>\n"
      ],
      "text/plain": [
       "Config. file \u001b[3;37;42minstructions_dimensions.json\u001b[0m detected, skipping generation\n"
      ]
     },
     "metadata": {}
    },
    {
     "output_type": "display_data",
     "data": {
      "text/html": [
       "<pre style=\"white-space:pre;overflow-x:auto;line-height:normal;font-family:Menlo,'DejaVu Sans Mono',consolas,'Courier New',monospace\">Config. file <span style=\"color: #c0c0c0; text-decoration-color: #c0c0c0; background-color: #008000; font-style: italic\">search_engine.json</span> detected, skipping generation\n",
       "</pre>\n"
      ],
      "text/plain": [
       "Config. file \u001b[3;37;42msearch_engine.json\u001b[0m detected, skipping generation\n"
      ]
     },
     "metadata": {}
    },
    {
     "output_type": "display_data",
     "data": {
      "text/html": [
       "<pre style=\"white-space:pre;overflow-x:auto;line-height:normal;font-family:Menlo,'DejaVu Sans Mono',consolas,'Courier New',monospace\">Config. file <span style=\"color: #c0c0c0; text-decoration-color: #c0c0c0; background-color: #008000; font-style: italic\">task.json</span> detected, skipping generation\n",
       "</pre>\n"
      ],
      "text/plain": [
       "Config. file \u001b[3;37;42mtask.json\u001b[0m detected, skipping generation\n"
      ]
     },
     "metadata": {}
    },
    {
     "output_type": "display_data",
     "data": {
      "text/html": [
       "<pre style=\"white-space:pre;overflow-x:auto;line-height:normal;font-family:Menlo,'DejaVu Sans Mono',consolas,'Courier New',monospace\">Config. file <span style=\"color: #c0c0c0; text-decoration-color: #c0c0c0; background-color: #008000; font-style: italic\">workers.json</span> detected, skipping generation\n",
       "</pre>\n"
      ],
      "text/plain": [
       "Config. file \u001b[3;37;42mworkers.json\u001b[0m detected, skipping generation\n"
      ]
     },
     "metadata": {}
    },
    {
     "output_type": "display_data",
     "data": {
      "text/html": [
       "<pre style=\"white-space:pre;overflow-x:auto;line-height:normal;font-family:Menlo,'DejaVu Sans Mono',consolas,'Courier New',monospace\">Path: <span style=\"color: #c0c0c0; text-decoration-color: #c0c0c0; background-color: #000000; font-style: italic\">build/task/</span>\n",
       "</pre>\n"
      ],
      "text/plain": [
       "Path: \u001b[3;37;40mbuild/task/\u001b[0m\n"
      ]
     },
     "metadata": {}
    }
   ],
   "metadata": {
    "collapsed": false,
    "pycharm": {
     "name": "#%%\n"
    }
   }
  },
  {
   "cell_type": "markdown",
   "source": [
    "## Section 7 - document.ts file generation\n",
    "### build/skeleton"
   ],
   "metadata": {
    "collapsed": false
   }
  },
  {
   "cell_type": "code",
   "execution_count": 12,
   "source": [
    "import textwrap\r\n",
    "\r\n",
    "console.rule(\"Interface [cyan underline]document.ts\")\r\n",
    "\r\n",
    "hits_file = f\"{folder_build_task_path}hits.json\"\r\n",
    "document_interface = f\"{folder_build_skeleton_path}document.ts\"\r\n",
    "if not os.path.exists(folder_build_skeleton_path):\r\n",
    "    os.makedirs(folder_build_skeleton_path, exist_ok=True)\r\n",
    "\r\n",
    "console.print(f\"Reading hits file\")\r\n",
    "console.print(f\"Path: [italic]{hits_file}[/italic]\")\r\n",
    "hits = read_json(hits_file)\r\n",
    "sample_element = hits.pop()['documents'].pop()\r\n",
    "\r\n",
    "if not 'id' in sample_element.keys():\r\n",
    "    raise Exception(\"[red]Your [underline]hits.json[/underline] file contains an attributed called [underline]\\\"id\\\"[/underline]?\")\r\n",
    "\r\n",
    "# This class provides a representation of a single document stored in single hit stored in the Amazon S3 bucket.\r\n",
    "# The attribute <document_index> is additional and should not be touched and passed in the constructor.\r\n",
    "# Each field of such Document must be mapped to an attribute of this class and set up in the constructor as it is shown.\r\n",
    "\r\n",
    "with open(document_interface, 'w') as file:\r\n",
    "    print(\"export class Document {\", file=file)\r\n",
    "    print(\"\", file=file)\r\n",
    "    wrapper = textwrap.TextWrapper(initial_indent='\\t\\t', subsequent_indent='\\t\\t')\r\n",
    "    print(wrapper.fill(\"index: number;\"), file=file)\r\n",
    "    print(wrapper.fill(\"countdownExpired: boolean;\"), file=file)\r\n",
    "    for attribute, value in sample_element.items():\r\n",
    "        try:\r\n",
    "            element = json.loads(value)\r\n",
    "            if isinstance(element, dict):\r\n",
    "                print(wrapper.fill(f\"{attribute}: Array<JSON>;\"), file=file)\r\n",
    "            elif isinstance(element, int) or isinstance(element, float):\r\n",
    "                if (attribute == \"id\"):\r\n",
    "                    print(wrapper.fill(f\"{attribute}: string;\"), file=file)\r\n",
    "                else:\r\n",
    "                    print(wrapper.fill(f\"{attribute}: number;\"), file=file)\r\n",
    "            elif isinstance(element, list):\r\n",
    "                print(wrapper.fill(f\"{attribute}: Array<String>;\"), file=file)\r\n",
    "            else:\r\n",
    "                print(wrapper.fill(f\"{attribute}: string;\"), file=file)\r\n",
    "            console.print(f\"Attribute with name: [cyan underline]{attribute}[/cyan underline] and type: {type(element)} found\")\r\n",
    "        except (TypeError, ValueError) as e:\r\n",
    "            if isinstance(value, list):\r\n",
    "                print(wrapper.fill(f\"{attribute}: Array<String>;\"), file=file)\r\n",
    "            elif isinstance(value, int) or isinstance(value, float):\r\n",
    "                print(wrapper.fill(f\"{attribute}: number;\"), file=file)\r\n",
    "            else:\r\n",
    "                print(wrapper.fill(f\"{attribute}: string;\"), file=file)\r\n",
    "            console.print(f\"Attribute with name: [cyan underline]{attribute}[/cyan underline] and type: {type(value)} found\")\r\n",
    "    print(\"\", file=file)\r\n",
    "    print(wrapper.fill(f\"constructor (\"), file=file)\r\n",
    "    wrapper = textwrap.TextWrapper(initial_indent='\\t\\t\\t', subsequent_indent='\\t\\t\\t')\r\n",
    "    print(wrapper.fill(\"index: number,\"), file=file)\r\n",
    "    print(wrapper.fill(\"data: JSON\"), file=file)\r\n",
    "    wrapper = textwrap.TextWrapper(initial_indent='\\t\\t', subsequent_indent='\\t\\t')\r\n",
    "    print(wrapper.fill(\") {\"), file=file)\r\n",
    "    print(\"\", file=file)\r\n",
    "    wrapper = textwrap.TextWrapper(initial_indent='\\t\\t\\t', subsequent_indent='\\t\\t\\t')\r\n",
    "    print(wrapper.fill(\"this.index = index\"), file=file)\r\n",
    "    for attribute, value in sample_element.items():\r\n",
    "        try:\r\n",
    "            element = json.loads(value)\r\n",
    "            if isinstance(element, dict):\r\n",
    "                print(wrapper.fill(f\"this.{attribute} = new Array<JSON>()\"), file=file)\r\n",
    "                print(wrapper.fill(\r\n",
    "                    f\"for (let index = 0; index < data[\\\"{attribute}\\\"].length; index++) this.{attribute}.push(data[\\\"{attribute}\\\"][index])\"),\r\n",
    "                    file=file)\r\n",
    "            elif isinstance(element, list):\r\n",
    "                print(wrapper.fill(f\"this.{attribute} = new Array<String>()\"), file=file)\r\n",
    "                print(wrapper.fill(f\"for (let index = 0; index < data[\\\"{attribute}\\\"].length; index++) this.{attribute}.push(data[\\\"{attribute}\\\"])\"),\r\n",
    "                      file=file)\r\n",
    "            else:\r\n",
    "                wrapper = textwrap.TextWrapper(initial_indent='\\t\\t\\t', subsequent_indent='\\t\\t\\t')\r\n",
    "                print(wrapper.fill(f\"this.{attribute} = data[\\\"{attribute}\\\"]\"), file=file)\r\n",
    "        except (TypeError, ValueError) as e:\r\n",
    "            if isinstance(value, list):\r\n",
    "                print(wrapper.fill(f\"this.{attribute} = new Array<String>()\"), file=file)\r\n",
    "                print(wrapper.fill(f\"for (let index = 0; index < data[\\\"{attribute}\\\"].length; index++) this.{attribute}.push(data[\\\"{attribute}\\\"])\"),\r\n",
    "                      file=file)\r\n",
    "            else:\r\n",
    "                wrapper = textwrap.TextWrapper(initial_indent='\\t\\t\\t', subsequent_indent='\\t\\t\\t')\r\n",
    "                print(wrapper.fill(f\"this.{attribute} = data[\\\"{attribute}\\\"]\"), file=file)\r\n",
    "    wrapper = textwrap.TextWrapper(initial_indent='\\t\\t', subsequent_indent='\\t\\t')\r\n",
    "    print(\"\", file=file)\r\n",
    "    print(wrapper.fill(\"}\"), file=file)\r\n",
    "    print(\"\", file=file)\r\n",
    "    print(\"}\", file=file)\r\n",
    "\r\n",
    "console.print(\"Interface built\")\r\n",
    "console.print(f\"Path: [italic]{document_interface}[/italic]\")"
   ],
   "outputs": [
    {
     "output_type": "display_data",
     "data": {
      "text/html": [
       "<pre style=\"white-space:pre;overflow-x:auto;line-height:normal;font-family:Menlo,'DejaVu Sans Mono',consolas,'Courier New',monospace\"><span style=\"color: #00ff00; text-decoration-color: #00ff00\">─────────────────────────────────── </span>Interface <span style=\"color: #008080; text-decoration-color: #008080; text-decoration: underline\">document.ts</span><span style=\"color: #00ff00; text-decoration-color: #00ff00\"> ───────────────────────────────────</span>\n",
       "</pre>\n"
      ],
      "text/plain": [
       "\u001b[92m─────────────────────────────────── \u001b[0mInterface \u001b[4;36mdocument.ts\u001b[0m\u001b[92m ───────────────────────────────────\u001b[0m\n"
      ]
     },
     "metadata": {}
    },
    {
     "output_type": "display_data",
     "data": {
      "text/html": [
       "<pre style=\"white-space:pre;overflow-x:auto;line-height:normal;font-family:Menlo,'DejaVu Sans Mono',consolas,'Courier New',monospace\">Reading hits file\n",
       "</pre>\n"
      ],
      "text/plain": [
       "Reading hits file\n"
      ]
     },
     "metadata": {}
    },
    {
     "output_type": "display_data",
     "data": {
      "text/html": [
       "<pre style=\"white-space:pre;overflow-x:auto;line-height:normal;font-family:Menlo,'DejaVu Sans Mono',consolas,'Courier New',monospace\">Path: <span style=\"font-style: italic\">build/task/hits.json</span>\n",
       "</pre>\n"
      ],
      "text/plain": [
       "Path: \u001b[3mbuild/task/hits.json\u001b[0m\n"
      ]
     },
     "metadata": {}
    },
    {
     "output_type": "display_data",
     "data": {
      "text/html": [
       "<pre style=\"white-space:pre;overflow-x:auto;line-height:normal;font-family:Menlo,'DejaVu Sans Mono',consolas,'Courier New',monospace\">Attribute with name: <span style=\"color: #008080; text-decoration-color: #008080; text-decoration: underline\">id</span> and type: <span style=\"font-weight: bold\">&lt;</span><span style=\"color: #ff00ff; text-decoration-color: #ff00ff; font-weight: bold\">class</span><span style=\"color: #000000; text-decoration-color: #000000\"> </span><span style=\"color: #008000; text-decoration-color: #008000\">'str'</span><span style=\"font-weight: bold\">&gt;</span> found\n",
       "</pre>\n"
      ],
      "text/plain": [
       "Attribute with name: \u001b[4;36mid\u001b[0m and type: \u001b[1m<\u001b[0m\u001b[1;95mclass\u001b[0m\u001b[39m \u001b[0m\u001b[32m'str'\u001b[0m\u001b[1m>\u001b[0m found\n"
      ]
     },
     "metadata": {}
    },
    {
     "output_type": "display_data",
     "data": {
      "text/html": [
       "<pre style=\"white-space:pre;overflow-x:auto;line-height:normal;font-family:Menlo,'DejaVu Sans Mono',consolas,'Courier New',monospace\">Attribute with name: <span style=\"color: #008080; text-decoration-color: #008080; text-decoration: underline\">text</span> and type: <span style=\"font-weight: bold\">&lt;</span><span style=\"color: #ff00ff; text-decoration-color: #ff00ff; font-weight: bold\">class</span><span style=\"color: #000000; text-decoration-color: #000000\"> </span><span style=\"color: #008000; text-decoration-color: #008000\">'str'</span><span style=\"font-weight: bold\">&gt;</span> found\n",
       "</pre>\n"
      ],
      "text/plain": [
       "Attribute with name: \u001b[4;36mtext\u001b[0m and type: \u001b[1m<\u001b[0m\u001b[1;95mclass\u001b[0m\u001b[39m \u001b[0m\u001b[32m'str'\u001b[0m\u001b[1m>\u001b[0m found\n"
      ]
     },
     "metadata": {}
    },
    {
     "output_type": "display_data",
     "data": {
      "text/html": [
       "<pre style=\"white-space:pre;overflow-x:auto;line-height:normal;font-family:Menlo,'DejaVu Sans Mono',consolas,'Courier New',monospace\">Attribute with name: <span style=\"color: #008080; text-decoration-color: #008080; text-decoration: underline\">pairwise_selection</span> and type: <span style=\"font-weight: bold\">&lt;</span><span style=\"color: #ff00ff; text-decoration-color: #ff00ff; font-weight: bold\">class</span><span style=\"color: #000000; text-decoration-color: #000000\"> </span><span style=\"color: #008000; text-decoration-color: #008000\">'bool'</span><span style=\"font-weight: bold\">&gt;</span> found\n",
       "</pre>\n"
      ],
      "text/plain": [
       "Attribute with name: \u001b[4;36mpairwise_selection\u001b[0m and type: \u001b[1m<\u001b[0m\u001b[1;95mclass\u001b[0m\u001b[39m \u001b[0m\u001b[32m'bool'\u001b[0m\u001b[1m>\u001b[0m found\n"
      ]
     },
     "metadata": {}
    },
    {
     "output_type": "display_data",
     "data": {
      "text/html": [
       "<pre style=\"white-space:pre;overflow-x:auto;line-height:normal;font-family:Menlo,'DejaVu Sans Mono',consolas,'Courier New',monospace\">Attribute with name: <span style=\"color: #008080; text-decoration-color: #008080; text-decoration: underline\">pairwise_split</span> and type: <span style=\"font-weight: bold\">&lt;</span><span style=\"color: #ff00ff; text-decoration-color: #ff00ff; font-weight: bold\">class</span><span style=\"color: #000000; text-decoration-color: #000000\"> </span><span style=\"color: #008000; text-decoration-color: #008000\">'bool'</span><span style=\"font-weight: bold\">&gt;</span> found\n",
       "</pre>\n"
      ],
      "text/plain": [
       "Attribute with name: \u001b[4;36mpairwise_split\u001b[0m and type: \u001b[1m<\u001b[0m\u001b[1;95mclass\u001b[0m\u001b[39m \u001b[0m\u001b[32m'bool'\u001b[0m\u001b[1m>\u001b[0m found\n"
      ]
     },
     "metadata": {}
    },
    {
     "output_type": "display_data",
     "data": {
      "text/html": [
       "<pre style=\"white-space:pre;overflow-x:auto;line-height:normal;font-family:Menlo,'DejaVu Sans Mono',consolas,'Courier New',monospace\">Attribute with name: <span style=\"color: #008080; text-decoration-color: #008080; text-decoration: underline\">statements</span> and type: <span style=\"font-weight: bold\">&lt;</span><span style=\"color: #ff00ff; text-decoration-color: #ff00ff; font-weight: bold\">class</span><span style=\"color: #000000; text-decoration-color: #000000\"> </span><span style=\"color: #008000; text-decoration-color: #008000\">'list'</span><span style=\"font-weight: bold\">&gt;</span> found\n",
       "</pre>\n"
      ],
      "text/plain": [
       "Attribute with name: \u001b[4;36mstatements\u001b[0m and type: \u001b[1m<\u001b[0m\u001b[1;95mclass\u001b[0m\u001b[39m \u001b[0m\u001b[32m'list'\u001b[0m\u001b[1m>\u001b[0m found\n"
      ]
     },
     "metadata": {}
    },
    {
     "output_type": "display_data",
     "data": {
      "text/html": [
       "<pre style=\"white-space:pre;overflow-x:auto;line-height:normal;font-family:Menlo,'DejaVu Sans Mono',consolas,'Courier New',monospace\">Interface built\n",
       "</pre>\n"
      ],
      "text/plain": [
       "Interface built\n"
      ]
     },
     "metadata": {}
    },
    {
     "output_type": "display_data",
     "data": {
      "text/html": [
       "<pre style=\"white-space:pre;overflow-x:auto;line-height:normal;font-family:Menlo,'DejaVu Sans Mono',consolas,'Courier New',monospace\">Path: <span style=\"font-style: italic\">build/skeleton/document.ts</span>\n",
       "</pre>\n"
      ],
      "text/plain": [
       "Path: \u001b[3mbuild/skeleton/document.ts\u001b[0m\n"
      ]
     },
     "metadata": {}
    }
   ],
   "metadata": {
    "collapsed": false,
    "pycharm": {
     "name": "#%%\n"
    }
   }
  },
  {
   "cell_type": "markdown",
   "source": [
    "## Section 8 - Amazon Mechanical Turk assets generation\n",
    "### build/mturk"
   ],
   "metadata": {}
  },
  {
   "cell_type": "code",
   "execution_count": 13,
   "source": [
    "from mako.template import Template\r\n",
    "\r\n",
    "console.rule(\"Amazon Mechanical Turk landing page\")\r\n",
    "\r\n",
    "model = Template(filename=f\"{folder_build_mturk_path}model.html\")\r\n",
    "mturk_page = model.render(\r\n",
    "    aws_region=aws_region,\r\n",
    "    aws_deploy_bucket=aws_deploy_bucket,\r\n",
    "    task_name=task_name,\r\n",
    "    batch_name=batch_name\r\n",
    ")\r\n",
    "mturk_page_file = f\"{folder_build_mturk_path}index.html\"\r\n",
    "with open(mturk_page_file, 'w') as file:\r\n",
    "    print(mturk_page, file=file)\r\n",
    "\r\n",
    "console.print(f\"Model istantiated\")\r\n",
    "console.print(f\"Path: {mturk_page_file}\")\r\n",
    "\r\n",
    "hits_file = f\"{folder_build_task_path}hits.json\"\r\n",
    "mturk_tokens_file = f\"{folder_build_mturk_path}tokens.csv\"\r\n",
    "console.print(f\"Loading [cyan underline]hits.json[/cyan underline] file\")\r\n",
    "console.print(f\"Path: [ital]{hits_file}\")\r\n",
    "hits = read_json(hits_file)\r\n",
    "token_df = pd.DataFrame(columns=[\"token_input\", \"token_output\"])\r\n",
    "for hit in hits:\r\n",
    "    token_df = token_df.append({\r\n",
    "        \"token_input\": hit['token_input'],\r\n",
    "        \"token_output\": hit['token_output']\r\n",
    "    }, ignore_index=True)\r\n",
    "token_df.to_csv(mturk_tokens_file, index=False)\r\n",
    "console.print(f\"Tokens for {len(hits)} generated\")\r\n",
    "console.print(f\"Path: [italic]{mturk_tokens_file}\")"
   ],
   "outputs": [
    {
     "output_type": "display_data",
     "data": {
      "text/html": [
       "<pre style=\"white-space:pre;overflow-x:auto;line-height:normal;font-family:Menlo,'DejaVu Sans Mono',consolas,'Courier New',monospace\"><span style=\"color: #00ff00; text-decoration-color: #00ff00\">──────────────────────────── </span>Amazon Mechanical Turk landing page<span style=\"color: #00ff00; text-decoration-color: #00ff00\"> ────────────────────────────</span>\n",
       "</pre>\n"
      ],
      "text/plain": [
       "\u001b[92m──────────────────────────── \u001b[0mAmazon Mechanical Turk landing page\u001b[92m ────────────────────────────\u001b[0m\n"
      ]
     },
     "metadata": {}
    },
    {
     "output_type": "display_data",
     "data": {
      "text/html": [
       "<pre style=\"white-space:pre;overflow-x:auto;line-height:normal;font-family:Menlo,'DejaVu Sans Mono',consolas,'Courier New',monospace\">Model istantiated\n",
       "</pre>\n"
      ],
      "text/plain": [
       "Model istantiated\n"
      ]
     },
     "metadata": {}
    },
    {
     "output_type": "display_data",
     "data": {
      "text/html": [
       "<pre style=\"white-space:pre;overflow-x:auto;line-height:normal;font-family:Menlo,'DejaVu Sans Mono',consolas,'Courier New',monospace\">Path: build/mturk/index.html\n",
       "</pre>\n"
      ],
      "text/plain": [
       "Path: build/mturk/index.html\n"
      ]
     },
     "metadata": {}
    },
    {
     "output_type": "display_data",
     "data": {
      "text/html": [
       "<pre style=\"white-space:pre;overflow-x:auto;line-height:normal;font-family:Menlo,'DejaVu Sans Mono',consolas,'Courier New',monospace\">Loading <span style=\"color: #008080; text-decoration-color: #008080; text-decoration: underline\">hits.json</span> file\n",
       "</pre>\n"
      ],
      "text/plain": [
       "Loading \u001b[4;36mhits.json\u001b[0m file\n"
      ]
     },
     "metadata": {}
    },
    {
     "output_type": "display_data",
     "data": {
      "text/html": [
       "<pre style=\"white-space:pre;overflow-x:auto;line-height:normal;font-family:Menlo,'DejaVu Sans Mono',consolas,'Courier New',monospace\">Path: build/task/hits.json\n",
       "</pre>\n"
      ],
      "text/plain": [
       "Path: build/task/hits.json\n"
      ]
     },
     "metadata": {}
    },
    {
     "output_type": "display_data",
     "data": {
      "text/html": [
       "<pre style=\"white-space:pre;overflow-x:auto;line-height:normal;font-family:Menlo,'DejaVu Sans Mono',consolas,'Courier New',monospace\">Tokens for <span style=\"color: #008080; text-decoration-color: #008080; font-weight: bold\">1</span> generated\n",
       "</pre>\n"
      ],
      "text/plain": [
       "Tokens for \u001b[1;36m1\u001b[0m generated\n"
      ]
     },
     "metadata": {}
    },
    {
     "output_type": "display_data",
     "data": {
      "text/html": [
       "<pre style=\"white-space:pre;overflow-x:auto;line-height:normal;font-family:Menlo,'DejaVu Sans Mono',consolas,'Courier New',monospace\">Path: <span style=\"font-style: italic\">build/mturk/tokens.csv</span>\n",
       "</pre>\n"
      ],
      "text/plain": [
       "Path: \u001b[3mbuild/mturk/tokens.csv\u001b[0m\n"
      ]
     },
     "metadata": {}
    }
   ],
   "metadata": {
    "pycharm": {
     "name": "#%%\n"
    }
   }
  },
  {
   "cell_type": "markdown",
   "source": [
    "## Section 9 - Angular Application Build\n",
    "### build/deploy"
   ],
   "metadata": {}
  },
  {
   "cell_type": "code",
   "execution_count": 14,
   "source": [
    "import subprocess\r\n",
    "import shutil\r\n",
    "from mako.template import Template\r\n",
    "import time\r\n",
    "\r\n",
    "folder_build_result = f\"../dist/\"\r\n",
    "\r\n",
    "console.rule(f\"Task [cyan underline]{task_name}[/cyan underline]/[yellow underline]{batch_name}[/yellow underline] build\")\r\n",
    "\r\n",
    "console.print(\"Executing command\")\r\n",
    "command = \"ng build --configuration=\\\"production\\\" --output-hashing=none\"\r\n",
    "console.print(f\"[green on black]{command}\")\r\n",
    "console.print(f\"Please wait...\")\r\n",
    "process = subprocess.Popen(command, shell=True, stdout=subprocess.PIPE)\r\n",
    "for line in process.stdout:\r\n",
    "    line_clean = line.decode().strip()\r\n",
    "    if \"Initial Total\" in line_clean:\r\n",
    "        line_clean = line_clean[2:]\r\n",
    "    if line_clean != \"\":\r\n",
    "        console.print(line_clean)\r\n",
    "process.wait()\r\n",
    "\r\n",
    "console.print(\"Merging Javascript assets\")\r\n",
    "script_merged_file = f\"{folder_build_deploy_path}scripts.js\"\r\n",
    "if (os.path.exists(script_merged_file)):\r\n",
    "    os.remove(script_merged_file)\r\n",
    "es_scripts = [\r\n",
    "    'polyfills.js',\r\n",
    "    'runtime.js',\r\n",
    "    'main.js',\r\n",
    "]\r\n",
    "with open(script_merged_file, 'a') as outfile:\r\n",
    "    for file in es_scripts:\r\n",
    "        script_current_file = f\"{folder_build_result}Crowd_Frame/{file}\"\r\n",
    "        console.print(f\"Processing file: [italic purple on black]{script_current_file}\")\r\n",
    "        with open(script_current_file) as script:\r\n",
    "            for line in script:\r\n",
    "                outfile.write(line)\r\n",
    "console.print(f\"Path: [italic]{script_merged_file}\")\r\n",
    "\r\n",
    "console.print(\"Merging CSS assets\")\r\n",
    "styles_merged_file = f\"{folder_build_deploy_path}styles.css\"\r\n",
    "if (os.path.exists(styles_merged_file)):\r\n",
    "    os.remove(styles_merged_file)\r\n",
    "css_styles = ['styles.css']\r\n",
    "with open(styles_merged_file, 'a') as outfile:\r\n",
    "    for file in css_styles:\r\n",
    "        style_current_file = f\"{folder_build_result}Crowd_Frame/{file}\"\r\n",
    "        console.print(f\"Processing file: [italic cyan on black]{style_current_file}\")\r\n",
    "        with open(style_current_file) as style:\r\n",
    "            for line in style:\r\n",
    "                outfile.write(line)\r\n",
    "console.print(f\"Path: [italic underline]{styles_merged_file}\")\r\n",
    "\r\n",
    "console.print(\"Deleting build folder\")\r\n",
    "console.print(f\"Path: [italic underline]{folder_build_result}\")\r\n",
    "shutil.rmtree(folder_build_result)\r\n",
    "\r\n",
    "model = Template(filename=f\"{folder_build_deploy_path}model.html\")\r\n",
    "index_page = model.render(\r\n",
    "    task_name=task_name,\r\n",
    "    batch_name=batch_name\r\n",
    ")\r\n",
    "index_page_file = f\"{folder_build_deploy_path}index.html\"\r\n",
    "with open(index_page_file, 'w') as file:\r\n",
    "    print(index_page, file=file)\r\n",
    "\r\n",
    "console.print(\"Model istantiated\")\r\n",
    "console.print(f\"Path: [italic underline]{index_page_file}\")"
   ],
   "outputs": [
    {
     "output_type": "display_data",
     "data": {
      "text/html": [
       "<pre style=\"white-space:pre;overflow-x:auto;line-height:normal;font-family:Menlo,'DejaVu Sans Mono',consolas,'Courier New',monospace\"><span style=\"color: #00ff00; text-decoration-color: #00ff00\">───────────────────────────── </span>Task <span style=\"color: #008080; text-decoration-color: #008080; text-decoration: underline\">task-Pairwise</span>/<span style=\"color: #808000; text-decoration-color: #808000; text-decoration: underline\">Batch-</span><span style=\"color: #808000; text-decoration-color: #808000; font-weight: bold; text-decoration: underline\">1</span> build<span style=\"color: #00ff00; text-decoration-color: #00ff00\"> ──────────────────────────────</span>\n",
       "</pre>\n"
      ],
      "text/plain": [
       "\u001b[92m───────────────────────────── \u001b[0mTask \u001b[4;36mtask-Pairwise\u001b[0m/\u001b[4;33mBatch-\u001b[0m\u001b[1;4;33m1\u001b[0m build\u001b[92m ──────────────────────────────\u001b[0m\n"
      ]
     },
     "metadata": {}
    },
    {
     "output_type": "display_data",
     "data": {
      "text/html": [
       "<pre style=\"white-space:pre;overflow-x:auto;line-height:normal;font-family:Menlo,'DejaVu Sans Mono',consolas,'Courier New',monospace\">Executing command\n",
       "</pre>\n"
      ],
      "text/plain": [
       "Executing command\n"
      ]
     },
     "metadata": {}
    },
    {
     "output_type": "display_data",
     "data": {
      "text/html": [
       "<pre style=\"white-space:pre;overflow-x:auto;line-height:normal;font-family:Menlo,'DejaVu Sans Mono',consolas,'Courier New',monospace\"><span style=\"color: #008000; text-decoration-color: #008000; background-color: #000000\">ng build --</span><span style=\"color: #008000; text-decoration-color: #008000; background-color: #000000\">configuration</span><span style=\"color: #008000; text-decoration-color: #008000; background-color: #000000\">=</span><span style=\"color: #008000; text-decoration-color: #008000; background-color: #000000\">\"production\"</span><span style=\"color: #008000; text-decoration-color: #008000; background-color: #000000\"> --output-</span><span style=\"color: #008000; text-decoration-color: #008000; background-color: #000000\">hashing</span><span style=\"color: #008000; text-decoration-color: #008000; background-color: #000000\">=</span><span style=\"color: #008000; text-decoration-color: #008000; background-color: #000000\">none</span>\n",
       "</pre>\n"
      ],
      "text/plain": [
       "\u001b[32;40mng build --\u001b[0m\u001b[32;40mconfiguration\u001b[0m\u001b[32;40m=\u001b[0m\u001b[32;40m\"production\"\u001b[0m\u001b[32;40m --output-\u001b[0m\u001b[32;40mhashing\u001b[0m\u001b[32;40m=\u001b[0m\u001b[32;40mnone\u001b[0m\n"
      ]
     },
     "metadata": {}
    },
    {
     "output_type": "display_data",
     "data": {
      "text/html": [
       "<pre style=\"white-space:pre;overflow-x:auto;line-height:normal;font-family:Menlo,'DejaVu Sans Mono',consolas,'Courier New',monospace\">Please wait<span style=\"color: #808000; text-decoration-color: #808000\">...</span>\n",
       "</pre>\n"
      ],
      "text/plain": [
       "Please wait\u001b[33m...\u001b[0m\n"
      ]
     },
     "metadata": {}
    }
   ],
   "metadata": {
    "pycharm": {
     "name": "#%%\n"
    }
   }
  },
  {
   "cell_type": "markdown",
   "source": [
    "## Section 10 - Packaging\n",
    "### tasks/task_name/batch_name"
   ],
   "metadata": {
    "pycharm": {
     "name": "#%% md\n"
    }
   }
  },
  {
   "cell_type": "code",
   "execution_count": null,
   "source": [
    "from shutil import copy2\r\n",
    "\r\n",
    "console.rule(f\"Packaging task in [cyan underline]tasks/{task_name}/{batch_name}\")\r\n",
    "\r\n",
    "folder_tasks_batch_path = f\"{folder_tasks_path}{task_name}/{batch_name}/\"\r\n",
    "folder_tasks_batch_deploy_path = f\"{folder_tasks_batch_path}deploy/\"\r\n",
    "folder_tasks_batch_mturk_path = f\"{folder_tasks_batch_path}mturk/\"\r\n",
    "folder_tasks_batch_task_path = f\"{folder_tasks_batch_path}task/\"\r\n",
    "folder_tasks_batch_config_path = f\"{folder_tasks_batch_path}config/\"\r\n",
    "\r\n",
    "console.print(f\"[italic purple]deploy-config[/italic purple] variable: {bool(deploy_config)}\")\r\n",
    "\r\n",
    "if not os.path.exists(folder_tasks_batch_deploy_path):\r\n",
    "    console.print(\"[green]Deploy folder created\")\r\n",
    "    os.makedirs(folder_tasks_batch_deploy_path, exist_ok=True)\r\n",
    "else:\r\n",
    "    console.print(\"[yellow]Deploy folder already present\")\r\n",
    "console.print(f\"Path: [italic]{folder_tasks_batch_deploy_path}\")\r\n",
    "if not os.path.exists(folder_tasks_batch_mturk_path):\r\n",
    "    console.print(\"[green]Amazon Mechanical Turk assets folder created\")\r\n",
    "    os.makedirs(folder_tasks_batch_mturk_path, exist_ok=True)\r\n",
    "else:\r\n",
    "    console.print(\"[yellow]Amazon Mechanical Turk assets folder already present\")\r\n",
    "console.print(f\"Path: [italic]{folder_tasks_batch_mturk_path}\")\r\n",
    "if not os.path.exists(folder_tasks_batch_task_path) and deploy_config:\r\n",
    "    console.print(\"[green]Task configuration folder created\")\r\n",
    "    os.makedirs(folder_tasks_batch_task_path, exist_ok=True)\r\n",
    "else:\r\n",
    "    console.print(\"[yellow]Task configuration folder already present\")\r\n",
    "console.print(f\"Path: [italic]{folder_tasks_batch_task_path}\")\r\n",
    "if not os.path.exists(folder_tasks_batch_config_path) and deploy_config:\r\n",
    "    console.print(\"[green]Task configuration folder created\")\r\n",
    "    os.makedirs(folder_tasks_batch_config_path, exist_ok=True)\r\n",
    "else:\r\n",
    "    console.print(\"[yellow]General configuration folder already present\")\r\n",
    "console.print(f\"Path: [italic]{folder_tasks_batch_config_path}\")\r\n",
    "\r\n",
    "\r\n",
    "def copy(source, destination, title):\r\n",
    "    panel = Panel(\r\n",
    "        f\"Source: [italic white on black]{source}[/italic white on black]\\nDestination: [italic white on black]{destination}[/italic white on black]\",\r\n",
    "        title=title)\r\n",
    "    console.print(panel)\r\n",
    "    copy2(source, destination)\r\n",
    "\r\n",
    "\r\n",
    "console.print(f\"Copying files for [blue underline on white]{folder_build_deploy_path}[/blue underline on white] folder\")\r\n",
    "\r\n",
    "source = f\"{folder_build_deploy_path}scripts.js\"\r\n",
    "destination = f\"{folder_tasks_batch_deploy_path}scripts.js\"\r\n",
    "copy(source, destination, \"Javascript Assets\")\r\n",
    "\r\n",
    "source = f\"{folder_build_deploy_path}styles.css\"\r\n",
    "destination = f\"{folder_tasks_batch_deploy_path}styles.css\"\r\n",
    "copy(source, destination, \"CSS Styles\")\r\n",
    "\r\n",
    "source = f\"{folder_build_deploy_path}index.html\"\r\n",
    "destination = f\"{folder_tasks_batch_deploy_path}index.html\"\r\n",
    "copy(source, destination, \"Task Homepage\")\r\n",
    "\r\n",
    "console.print(f\"Copying files for [blue underline on white]{folder_build_mturk_path}[/blue underline on white] folder\")\r\n",
    "\r\n",
    "source = f\"{folder_build_mturk_path}index.html\"\r\n",
    "destination = f\"{folder_tasks_batch_mturk_path}index.html\"\r\n",
    "copy(source, destination, \"Amazon Mechanical Turk landing page\")\r\n",
    "\r\n",
    "source = f\"{folder_build_mturk_path}tokens.csv\"\r\n",
    "destination = f\"{folder_tasks_batch_mturk_path}tokens.csv\"\r\n",
    "copy(source, destination, \"Hits tokens\")\r\n",
    "\r\n",
    "if bool(deploy_config):\r\n",
    "    console.print(f\"Copying files for [blue underline on white]{folder_build_task_path}[/blue underline on white] folder\")\r\n",
    "\r\n",
    "    source = f\"{folder_build_task_path}hits.json\"\r\n",
    "    destination = f\"{folder_tasks_batch_task_path}hits.json\"\r\n",
    "    copy(source, destination, \"Hits\")\r\n",
    "\r\n",
    "    source = f\"{folder_build_task_path}dimensions.json\"\r\n",
    "    destination = f\"{folder_tasks_batch_task_path}dimensions.json\"\r\n",
    "    copy(source, destination, \"Dimensions\")\r\n",
    "\r\n",
    "    source = f\"{folder_build_task_path}instructions_dimensions.json\"\r\n",
    "    destination = f\"{folder_tasks_batch_task_path}instructions_dimensions.json\"\r\n",
    "    copy(source, destination, \"Assessment Instructions\")\r\n",
    "\r\n",
    "    source = f\"{folder_build_task_path}instructions_main.json\"\r\n",
    "    destination = f\"{folder_tasks_batch_task_path}instructions_main.json\"\r\n",
    "    copy(source, destination, \"General Instructions\")\r\n",
    "\r\n",
    "    source = f\"{folder_build_task_path}questionnaires.json\"\r\n",
    "    destination = f\"{folder_tasks_batch_task_path}questionnaires.json\"\r\n",
    "    copy(source, destination, \"Questionnaires\")\r\n",
    "\r\n",
    "    source = f\"{folder_build_task_path}search_engine.json\"\r\n",
    "    destination = f\"{folder_tasks_batch_task_path}search_engine.json\"\r\n",
    "    copy(source, destination, \"Search Engine\")\r\n",
    "\r\n",
    "    source = f\"{folder_build_task_path}task.json\"\r\n",
    "    destination = f\"{folder_tasks_batch_task_path}task.json\"\r\n",
    "    copy(source, destination, \"Task Settings\")\r\n",
    "\r\n",
    "    source = f\"{folder_build_task_path}workers.json\"\r\n",
    "    destination = f\"{folder_tasks_batch_task_path}workers.json\"\r\n",
    "    copy(source, destination, \"Workers Settings\")\r\n",
    "\r\n",
    "source = f\"{folder_build_config_path}admin.json\"\r\n",
    "destination = f\"{folder_tasks_batch_config_path}admin.json\"\r\n",
    "copy(source, destination, \"Admin Credentials\")\r\n",
    "\r\n",
    "console.print(f\"Copying files for [blue underline on white]{folder_tasks_batch_config_path}[/blue underline on white] folder\")"
   ],
   "outputs": [],
   "metadata": {
    "pycharm": {
     "name": "#%%\n"
    }
   }
  },
  {
   "cell_type": "markdown",
   "source": [
    "## Section 11 - Deploy"
   ],
   "metadata": {}
  },
  {
   "cell_type": "code",
   "execution_count": null,
   "source": [
    "\r\n",
    "s3_private_generator_path = f\"{task_name}/{batch_name}/Generator/\"\r\n",
    "s3_private_task_path = f\"{task_name}/{batch_name}/Task/\"\r\n",
    "s3_deploy_path = f\"{task_name}/{batch_name}/\"\r\n",
    "\r\n",
    "folder_tasks_batch_deploy_path = f\"{folder_tasks_batch_path}deploy/\"\r\n",
    "folder_tasks_batch_mturk_path = f\"{folder_tasks_batch_path}mturk/\"\r\n",
    "folder_tasks_batch_task_path = f\"{folder_tasks_batch_path}task/\"\r\n",
    "folder_tasks_batch_config_path = f\"{folder_tasks_batch_path}config/\"\r\n",
    "\r\n",
    "s3_client = boto3.client('s3')\r\n",
    "\r\n",
    "\r\n",
    "def upload(path, bucket, key, title, content_type, acl=None):\r\n",
    "    panel = Panel(\r\n",
    "        f\"Region: [italic white on black]{aws_region}[/italic white on black]\\nBucket: [italic white on black]{bucket}[/italic white on black]\\nFile: [italic white on black]{path}[/italic white on black]\\nKey: [italic white on black]{key}[/italic white on black]\\nPath: [italic white on black] s3://{aws_region}/{bucket}/{key}[/italic white on black]\\nACL: {acl}\",\r\n",
    "        title=title)\r\n",
    "    console.print(panel)\r\n",
    "    if acl:\r\n",
    "        response = s3_client.put_object(Body=open(path, 'rb'), Bucket=bucket, Key=key, ContentType=content_type, ACL=acl)\r\n",
    "    else:\r\n",
    "        response = s3_client.put_object(Body=open(path, 'rb'), Bucket=bucket, Key=key, ContentType=content_type)\r\n",
    "    console.print(f\"HTTP Status Code: {response['ResponseMetadata']['HTTPStatusCode']}, ETag: {response['ETag']}\")\r\n",
    "\r\n",
    "\r\n",
    "console.rule(f\"Task [cyan underline]{task_name}[/cyan underline]/[yellow underline]{batch_name}[/yellow underline] deploy\")\r\n",
    "\r\n",
    "console.print(f\"[italic purple]deploy-config[/italic purple] variable: {bool(deploy_config)}\")\r\n",
    "\r\n",
    "console.print(f\"[white on blue bold]Generator configuration\")\r\n",
    "\r\n",
    "path = f\"{folder_tasks_batch_config_path}admin.json\"\r\n",
    "key = f\"{s3_private_generator_path}admin.json\"\r\n",
    "upload(path, aws_private_bucket, key, \"Admin Credentials\", \"application/json\")\r\n",
    "\r\n",
    "if bool(deploy_config):\r\n",
    "    console.print(f\"[white on green bold]Task configuration\")\r\n",
    "\r\n",
    "    path = f\"{folder_tasks_batch_task_path}hits.json\"\r\n",
    "    key = f\"{s3_private_task_path}hits.json\"\r\n",
    "    upload(path, aws_private_bucket, key, \"Hits\", \"application/json\")\r\n",
    "\r\n",
    "    path = f\"{folder_tasks_batch_task_path}instructions_dimensions.json\"\r\n",
    "    key = f\"{s3_private_task_path}instructions_dimensions.json\"\r\n",
    "    upload(path, aws_private_bucket, key, \"Assessment Instructions\", \"application/json\")\r\n",
    "\r\n",
    "    path = f\"{folder_tasks_batch_task_path}instructions_main.json\"\r\n",
    "    key = f\"{s3_private_task_path}instructions_main.json\"\r\n",
    "    upload(path, aws_private_bucket, key, \"General Instructions\", \"application/json\")\r\n",
    "\r\n",
    "    path = f\"{folder_tasks_batch_task_path}questionnaires.json\"\r\n",
    "    key = f\"{s3_private_task_path}questionnaires.json\"\r\n",
    "    upload(path, aws_private_bucket, key, \"Questionnaires\", \"application/json\")\r\n",
    "\r\n",
    "    path = f\"{folder_tasks_batch_task_path}dimensions.json\"\r\n",
    "    key = f\"{s3_private_task_path}dimensions.json\"\r\n",
    "    upload(path, aws_private_bucket, key, \"Dimensions\", \"application/json\")\r\n",
    "\r\n",
    "    path = f\"{folder_tasks_batch_task_path}search_engine.json\"\r\n",
    "    key = f\"{s3_private_task_path}search_engine.json\"\r\n",
    "    upload(path, aws_private_bucket, key, \"Search Engine\", \"application/json\")\r\n",
    "\r\n",
    "    path = f\"{folder_tasks_batch_task_path}task.json\"\r\n",
    "    key = f\"{s3_private_task_path}task.json\"\r\n",
    "    upload(path, aws_private_bucket, key, \"Task Settings\", \"application/json\")\r\n",
    "\r\n",
    "    path = f\"{folder_tasks_batch_task_path}workers.json\"\r\n",
    "    key = f\"{s3_private_task_path}workers.json\"\r\n",
    "    upload(path, aws_private_bucket, key, \"Workers Settings\", \"application/json\")\r\n",
    "\r\n",
    "console.print(f\"[white on purple bold]Angular Application\")\r\n",
    "\r\n",
    "path = f\"{folder_tasks_batch_deploy_path}scripts.js\"\r\n",
    "key = f\"{s3_deploy_path}scripts.js\"\r\n",
    "upload(path, aws_deploy_bucket, key, \"Javascript Assets\", \"text/javascript\", \"public-read\")\r\n",
    "\r\n",
    "path = f\"{folder_tasks_batch_deploy_path}styles.css\"\r\n",
    "key = f\"{s3_deploy_path}styles.css\"\r\n",
    "upload(path, aws_deploy_bucket, key, \"CSS Styles\", \"text/css\", \"public-read\")\r\n",
    "\r\n",
    "path = f\"{folder_tasks_batch_deploy_path}index.html\"\r\n",
    "key = f\"{s3_deploy_path}index.html\"\r\n",
    "upload(path, aws_deploy_bucket, key, \"Task Homepage\", \"text/html\", \"public-read\")\r\n",
    "\r\n",
    "console.rule(\"Link\")\r\n",
    "\r\n",
    "console.print(f\"[bold white on black]https://{aws_deploy_bucket}.s3.{aws_region}.amazonaws.com/{task_name}/{batch_name}/index.html\")"
   ],
   "outputs": [],
   "metadata": {
    "pycharm": {
     "name": "#%%\n"
    }
   }
  },
  {
   "cell_type": "code",
   "execution_count": null,
   "source": [],
   "outputs": [],
   "metadata": {
    "collapsed": false,
    "pycharm": {
     "name": "#%%\n"
    }
   }
  }
 ],
 "metadata": {
  "kernelspec": {
   "name": "python3",
   "display_name": "Python 3.7.2 32-bit"
  },
  "language_info": {
   "codemirror_mode": {
    "name": "ipython",
    "version": 3
   },
   "file_extension": ".py",
   "mimetype": "text/x-python",
   "name": "python",
   "nbconvert_exporter": "python",
   "pygments_lexer": "ipython3",
   "version": "3.7.2"
  },
  "interpreter": {
   "hash": "dfa404eba654778fe9064c93deca16c40da486eb46c89e9dd26283e142c8d096"
  }
 },
 "nbformat": 4,
 "nbformat_minor": 1
}
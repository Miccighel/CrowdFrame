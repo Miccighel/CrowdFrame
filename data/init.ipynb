{
 "cells": [
  {
   "cell_type": "code",
   "execution_count": 38,
   "metadata": {
    "collapsed": true
   },
   "outputs": [],
   "source": [
    "import os\n",
    "import json\n",
    "import random\n",
    "import pandas as pd\n",
    "from pathlib import Path\n",
    "from rich.console import Console\n",
    "from rich.panel import Panel\n",
    "from rich import inspect\n",
    "from rich.text import Text\n",
    "from rich.progress import Progress\n",
    "import json\n",
    "\n",
    "console = Console()\n",
    "\n",
    "folder_aws_path = \"aws/\"\n",
    "folder_build_path = \"build/\"\n",
    "folder_build_config_path = \"build/config/\"\n",
    "folder_build_task_path = \"build/task/\"\n",
    "folder_build_mturk_path = \"build/mturk/\"\n",
    "folder_build_deploy_path = \"build/deploy/\"\n",
    "folder_build_skeleton_path = \"build/skeleton/\"\n",
    "folder_tasks_path = \"tasks/\"\n",
    "\n",
    "def serialize_json(folder, filename, data):\n",
    "    if not os.path.exists(folder):\n",
    "        os.makedirs(folder, exist_ok=True)\n",
    "    with open(f\"{folder}/{filename}\", 'w', encoding='utf-8') as f:\n",
    "        json.dump(data, f, ensure_ascii=False, indent=4, default=str)\n",
    "        f.close()\n",
    "\n",
    "def remove_json(folder, filename):\n",
    "    os.remove(f\"{folder}/{filename}\")\n",
    "\n",
    "def read_json(path):\n",
    "    if os.path.exists(path):\n",
    "        with open(path, \"r\", encoding=\"utf8\") as file:\n",
    "            data = json.load(file)\n",
    "        return data\n",
    "    else:\n",
    "        return {}"
   ]
  },
  {
   "cell_type": "markdown",
   "metadata": {
    "pycharm": {
     "name": "#%% md\n"
    }
   },
   "source": [
    "## Section 1 - Environment variables loading\n",
    "\n",
    "Remember to restart Jupyter if you edit environment variables values"
   ]
  },
  {
   "cell_type": "code",
   "execution_count": 2,
   "metadata": {
    "pycharm": {
     "name": "#%%\n"
    }
   },
   "outputs": [],
   "source": [
    "from dotenv import load_dotenv\n",
    "from distutils.util import strtobool\n",
    "\n",
    "env_path = Path('.') / '.env'\n",
    "load_dotenv(dotenv_path=env_path)\n",
    "\n",
    "task_name = os.getenv('task_name')\n",
    "batch_name = os.getenv('batch_name')\n",
    "admin_user = os.getenv('admin_user')\n",
    "admin_password = os.getenv('admin_password')\n",
    "deploy_config = strtobool(os.getenv('deploy_config').lower())\n",
    "\n",
    "aws_account_id = os.getenv('aws_account_id')\n",
    "aws_sdk_access_id = os.getenv('aws_sdk_access_id')\n",
    "aws_sdk_access_secret = os.getenv('aws_sdk_access_secret')\n",
    "\n",
    "aws_region = os.getenv('aws_region')\n",
    "aws_private_bucket = os.getenv('aws_private_bucket')\n",
    "aws_deploy_bucket = os.getenv('aws_deploy_bucket')\n",
    "\n",
    "bing_api_key = os.getenv('bing_api_key')\n",
    "\n",
    "# console.print(\"Printing env vars values:\")\n",
    "# console.print(f\"AWS ACCOUNT ID: {aws_account_id}\")\n",
    "# console.print(f\"AWS SDK ACCESS ID: {aws_sdk_access_id}\")\n",
    "# console.print(f\"AWS SDK ACCESS SECRET: {aws_sdk_access_secret}\")\n",
    "# console.print(f\"AWS REGION: {aws_region}\")\n",
    "# console.print(f\"AWS PRIVATE BUCKET: {aws_private_bucket}\")\n",
    "# console.print(f\"AWS DEPLOY BUCKET: {aws_deploy_bucket}\")\n",
    "# console.print(f\"BING API KEY: {bing_api_key}\")\n",
    "# console.print(f\"TASK NAME: {task_name}\")\n",
    "# console.print(f\"BATCH NAME: {batch_name}\")"
   ]
  },
  {
   "cell_type": "markdown",
   "metadata": {
    "pycharm": {
     "name": "#%% md\n"
    }
   },
   "source": [
    "## Section 2 - Setting up IAM policies and identity\n",
    "### build/aws"
   ]
  },
  {
   "cell_type": "code",
   "execution_count": 3,
   "metadata": {
    "pycharm": {
     "name": "#%%\n"
    }
   },
   "outputs": [
    {
     "output_type": "display_data",
     "data": {
      "text/plain": "\u001b[92m─────────────────────────────── \u001b[0mIAM policy \u001b[4;36mcrowd-workers-dev\u001b[0m\u001b[92m ────────────────────────────────\u001b[0m\n",
      "text/html": "<pre style=\"white-space:pre;overflow-x:auto;line-height:normal;font-family:Menlo,'DejaVu Sans Mono',consolas,'Courier New',monospace\"><span style=\"color: #00ff00; text-decoration-color: #00ff00\">─────────────────────────────── </span>IAM policy <span style=\"color: #008080; text-decoration-color: #008080; text-decoration: underline\">crowd-workers-dev</span><span style=\"color: #00ff00; text-decoration-color: #00ff00\"> ────────────────────────────────</span>\n</pre>\n"
     },
     "metadata": {}
    },
    {
     "output_type": "display_data",
     "data": {
      "text/plain": "\u001b[33mPolicy already present\u001b[0m\n",
      "text/html": "<pre style=\"white-space:pre;overflow-x:auto;line-height:normal;font-family:Menlo,'DejaVu Sans Mono',consolas,'Courier New',monospace\"><span style=\"color: #808000; text-decoration-color: #808000\">Policy already present</span>\n</pre>\n"
     },
     "metadata": {}
    },
    {
     "output_type": "display_data",
     "data": {
      "text/plain": "\u001b[32mPolicy retrieved\u001b[0m, HTTP STATUS CODE: \u001b[1;36m200\u001b[0m.\n",
      "text/html": "<pre style=\"white-space:pre;overflow-x:auto;line-height:normal;font-family:Menlo,'DejaVu Sans Mono',consolas,'Courier New',monospace\"><span style=\"color: #008000; text-decoration-color: #008000\">Policy retrieved</span>, HTTP STATUS CODE: <span style=\"color: #008080; text-decoration-color: #008080; font-weight: bold\">200</span>.\n</pre>\n"
     },
     "metadata": {}
    },
    {
     "output_type": "display_data",
     "data": {
      "text/plain": "Policy ARN: \u001b[4;36marn:aws:iam::\u001b[0m\u001b[1;4;36m269559900417\u001b[0m\u001b[4;36m:policy/crowd-workers-dev\u001b[0m\n",
      "text/html": "<pre style=\"white-space:pre;overflow-x:auto;line-height:normal;font-family:Menlo,'DejaVu Sans Mono',consolas,'Courier New',monospace\">Policy ARN: <span style=\"color: #008080; text-decoration-color: #008080; text-decoration: underline\">arn:aws:iam::</span><span style=\"color: #008080; text-decoration-color: #008080; font-weight: bold; text-decoration: underline\">269559900417</span><span style=\"color: #008080; text-decoration-color: #008080; text-decoration: underline\">:policy/crowd-workers-dev</span>\n</pre>\n"
     },
     "metadata": {}
    },
    {
     "output_type": "display_data",
     "data": {
      "text/plain": "\u001b[92m──────────────────────────────────── \u001b[0mIAM user \u001b[4;36mworker-dev\u001b[0m\u001b[92m ────────────────────────────────────\u001b[0m\n",
      "text/html": "<pre style=\"white-space:pre;overflow-x:auto;line-height:normal;font-family:Menlo,'DejaVu Sans Mono',consolas,'Courier New',monospace\"><span style=\"color: #00ff00; text-decoration-color: #00ff00\">──────────────────────────────────── </span>IAM user <span style=\"color: #008080; text-decoration-color: #008080; text-decoration: underline\">worker-dev</span><span style=\"color: #00ff00; text-decoration-color: #00ff00\"> ────────────────────────────────────</span>\n</pre>\n"
     },
     "metadata": {}
    },
    {
     "output_type": "display_data",
     "data": {
      "text/plain": "\u001b[33mUser already present\u001b[0m\n",
      "text/html": "<pre style=\"white-space:pre;overflow-x:auto;line-height:normal;font-family:Menlo,'DejaVu Sans Mono',consolas,'Courier New',monospace\"><span style=\"color: #808000; text-decoration-color: #808000\">User already present</span>\n</pre>\n"
     },
     "metadata": {}
    },
    {
     "output_type": "display_data",
     "data": {
      "text/plain": "\u001b[32mUser retrieved\u001b[0m\u001b[32m, HTTP STATUS CODE: \u001b[0m\u001b[1;32m200\u001b[0m\u001b[32m.\u001b[0m\n",
      "text/html": "<pre style=\"white-space:pre;overflow-x:auto;line-height:normal;font-family:Menlo,'DejaVu Sans Mono',consolas,'Courier New',monospace\"><span style=\"color: #008000; text-decoration-color: #008000\">User retrieved, HTTP STATUS CODE: </span><span style=\"color: #008000; text-decoration-color: #008000; font-weight: bold\">200</span><span style=\"color: #008000; text-decoration-color: #008000\">.</span>\n</pre>\n"
     },
     "metadata": {}
    },
    {
     "output_type": "display_data",
     "data": {
      "text/plain": "\u001b[32mPolicy with ARN \u001b[0m\u001b[4;36marn:aws:iam::\u001b[0m\u001b[1;4;36m269559900417\u001b[0m\u001b[4;36m:policy/crowd-workers-dev\u001b[0m\u001b[32m attached to user, HTTP \u001b[0m\n\u001b[32mSTATUS CODE: \u001b[0m\u001b[1;32m200\u001b[0m\n",
      "text/html": "<pre style=\"white-space:pre;overflow-x:auto;line-height:normal;font-family:Menlo,'DejaVu Sans Mono',consolas,'Courier New',monospace\"><span style=\"color: #008000; text-decoration-color: #008000\">Policy with ARN </span><span style=\"color: #008080; text-decoration-color: #008080; text-decoration: underline\">arn:aws:iam::</span><span style=\"color: #008080; text-decoration-color: #008080; font-weight: bold; text-decoration: underline\">269559900417</span><span style=\"color: #008080; text-decoration-color: #008080; text-decoration: underline\">:policy/crowd-workers-dev</span><span style=\"color: #008000; text-decoration-color: #008000\"> attached to user, HTTP </span>\n<span style=\"color: #008000; text-decoration-color: #008000\">STATUS CODE: </span><span style=\"color: #008000; text-decoration-color: #008000; font-weight: bold\">200</span>\n</pre>\n"
     },
     "metadata": {}
    },
    {
     "output_type": "display_data",
     "data": {
      "text/plain": "Key data found on disk and loaded\n",
      "text/html": "<pre style=\"white-space:pre;overflow-x:auto;line-height:normal;font-family:Menlo,'DejaVu Sans Mono',consolas,'Courier New',monospace\">Key data found on disk and loaded\n</pre>\n"
     },
     "metadata": {}
    }
   ],
   "source": [
    "import boto3\n",
    "from botocore.exceptions import ClientError\n",
    "\n",
    "iam = boto3.client('iam')\n",
    "\n",
    "crowd_workers_policy = {\n",
    "    \"Version\": \"2012-10-17\",\n",
    "    \"Statement\": [\n",
    "        {\n",
    "            \"Sid\": \"allowWorkerInteraction\",\n",
    "            \"Effect\": \"Allow\",\n",
    "            \"Action\": [\n",
    "                \"s3:PutObject\",\n",
    "                \"s3:GetObject\",\n",
    "                \"s3:ListBucket\"\n",
    "            ],\n",
    "            \"Resource\": [\n",
    "                f\"arn:aws:s3:::{aws_private_bucket}\",\n",
    "                f\"arn:aws:s3:::{aws_private_bucket}/*\",\n",
    "                f\"arn:aws:s3:::{aws_deploy_bucket}\",\n",
    "                f\"arn:aws:s3:::{aws_deploy_bucket}/*\"\n",
    "            ]\n",
    "        }\n",
    "    ]\n",
    "}\n",
    "\n",
    "console.rule(\"IAM policy [cyan underline]crowd-workers-dev[/cyan underline]\")\n",
    "\n",
    "policy = None\n",
    "try:\n",
    "    policy = iam.create_policy(\n",
    "        PolicyName='crowd-workers-dev',\n",
    "        PolicyDocument=json.dumps(crowd_workers_policy)\n",
    "    )\n",
    "    console.print(\n",
    "        f\"[green]Policy creation completed[/green], HTTP STATUS CODE: {policy['ResponseMetadata']['HTTPStatusCode']}.\")\n",
    "except (iam.exceptions.EntityAlreadyExistsException) as exception:\n",
    "    console.print(f\"[yellow]Policy already present[/yellow]\")\n",
    "    policy = iam.get_policy(PolicyArn=f\"arn:aws:iam::{aws_account_id}:policy/crowd-workers-dev\")\n",
    "    console.print(\n",
    "        f\"[green]Policy retrieved[/green], HTTP STATUS CODE: {policy['ResponseMetadata']['HTTPStatusCode']}.\")\n",
    "serialize_json(folder_aws_path, f\"policy_{policy['Policy']['PolicyName']}.json\", policy)\n",
    "\n",
    "console.print(f\"Policy ARN: [cyan underline]{policy['Policy']['Arn']}[/cyan underline]\")\n",
    "\n",
    "console.rule(\"IAM user [cyan underline]worker-dev[/cyan underline]\")\n",
    "\n",
    "user = None\n",
    "try:\n",
    "    user = iam.create_user(UserName=\"worker-dev\")\n",
    "    console.print(\n",
    "        f\"[green]user created[/green], HTTP STATUS CODE: {user['ResponseMetadata']['HTTPStatusCode']}.\")\n",
    "except (iam.exceptions.EntityAlreadyExistsException) as exception:\n",
    "    console.print(f\"[yellow]User already present[/yellow]\")\n",
    "    user = iam.get_user(UserName=\"worker-dev\")\n",
    "    console.print(\n",
    "        f\"[green]User retrieved[green], HTTP STATUS CODE: {user['ResponseMetadata']['HTTPStatusCode']}.\")\n",
    "serialize_json(folder_aws_path, f\"user_{user['User']['UserName']}_data.json\", user)\n",
    "\n",
    "response = iam.attach_user_policy(UserName=user['User']['UserName'], PolicyArn=policy['Policy']['Arn'])\n",
    "policy = iam.get_policy(PolicyArn=f\"{policy['Policy']['Arn']}\")\n",
    "console.print(\n",
    "    f\"[green]Policy with ARN [cyan underline]{policy['Policy']['Arn']}[/cyan underline] attached to user, HTTP STATUS CODE: {user['ResponseMetadata']['HTTPStatusCode']}\")\n",
    "\n",
    "keys = []\n",
    "paginator = iam.get_paginator('list_access_keys')\n",
    "for found_keys in paginator.paginate(UserName=user['User']['UserName']):\n",
    "    for (index, key) in enumerate(found_keys['AccessKeyMetadata']):\n",
    "        keyData = read_json(f\"{folder_aws_path}user_{user['User']['UserName']}_access_key_{key['AccessKeyId']}.json\")\n",
    "        if keyData:\n",
    "            keys.append(keyData)\n",
    "        else:\n",
    "            response = iam.delete_access_key(UserName=user['User']['UserName'], AccessKeyId=key['AccessKeyId'])\n",
    "            console.print(f\"[red]Key {index} data not found on disk[/red]; deleting it on AWS, HTTP STATUS CODE: {response['ResponseMetadata']['HTTPStatusCode']}\")\n",
    "\n",
    "if len(keys) < 2:\n",
    "    key = iam.create_access_key(UserName=user['User']['UserName'])\n",
    "    serialize_json(folder_aws_path, f\"user_{user['User']['UserName']}_access_key_{key['AccessKey']['AccessKeyId']}.json\", key)\n",
    "    console.print(f\"[green]Access key created[/green], HTTP STATUS CODE: {key['ResponseMetadata']['HTTPStatusCode']}.\")\n",
    "    keys.append(key)\n",
    "    if not os.path.exists(f\"{folder_aws_path}user_{user['User']['UserName']}_access_key_{key['AccessKey']['AccessKeyId']}.json\"):\n",
    "        serialize_json(folder_aws_path, f\"user_{user['User']['UserName']}_access_key_{key['AccessKey']['AccessKeyId']}.json\", key)\n",
    "        console.print(f\"[green]Access key created[/green], HTTP STATUS CODE: {key['ResponseMetadata']['HTTPStatusCode']}.\")\n",
    "\n",
    "key_selected = random.choice(keys)\n",
    "key_data = read_json(f\"{folder_aws_path}user_{user['User']['UserName']}_access_key_{key_selected['AccessKey']['AccessKeyId']}.json\")\n",
    "\n",
    "console.print(\"Key data found on disk and loaded\")\n",
    "\n",
    "aws_worker_access_id = key_data['AccessKey']['AccessKeyId']\n",
    "aws_worker_access_secret = key_data['AccessKey']['SecretAccessKey']\n"
   ]
  },
  {
   "cell_type": "markdown",
   "metadata": {
    "pycharm": {
     "name": "#%% md\n"
    }
   },
   "source": [
    "## Section 3 - Private and deploy bucket creation\n",
    "### build/aws"
   ]
  },
  {
   "cell_type": "code",
   "execution_count": 15,
   "metadata": {
    "pycharm": {
     "name": "#%%\n"
    }
   },
   "outputs": [
    {
     "output_type": "display_data",
     "data": {
      "text/plain": "\u001b[92m───────────────────────── \u001b[0mbucket \u001b[4;36mprivate-bucket-test-fdssfsdfdssdds\u001b[0m\u001b[92m ─────────────────────────\u001b[0m\n",
      "text/html": "<pre style=\"white-space:pre;overflow-x:auto;line-height:normal;font-family:Menlo,'DejaVu Sans Mono',consolas,'Courier New',monospace\"><span style=\"color: #00ff00; text-decoration-color: #00ff00\">───────────────────────── </span>bucket <span style=\"color: #008080; text-decoration-color: #008080; text-decoration: underline\">private-bucket-test-fdssfsdfdssdds</span><span style=\"color: #00ff00; text-decoration-color: #00ff00\"> ─────────────────────────</span>\n</pre>\n"
     },
     "metadata": {}
    },
    {
     "output_type": "display_data",
     "data": {
      "text/plain": "\u001b[33mBucket already present\u001b[0m, HTTP STATUS CODE: \u001b[1;36m409\u001b[0m.\n",
      "text/html": "<pre style=\"white-space:pre;overflow-x:auto;line-height:normal;font-family:Menlo,'DejaVu Sans Mono',consolas,'Courier New',monospace\"><span style=\"color: #808000; text-decoration-color: #808000\">Bucket already present</span>, HTTP STATUS CODE: <span style=\"color: #008080; text-decoration-color: #008080; font-weight: bold\">409</span>.\n</pre>\n"
     },
     "metadata": {}
    },
    {
     "output_type": "display_data",
     "data": {
      "text/plain": "\u001b[32mPublic access blocked\u001b[0m, HTTP STATUS CODE: \u001b[1;36m200\u001b[0m.\n",
      "text/html": "<pre style=\"white-space:pre;overflow-x:auto;line-height:normal;font-family:Menlo,'DejaVu Sans Mono',consolas,'Courier New',monospace\"><span style=\"color: #008000; text-decoration-color: #008000\">Public access blocked</span>, HTTP STATUS CODE: <span style=\"color: #008080; text-decoration-color: #008080; font-weight: bold\">200</span>.\n</pre>\n"
     },
     "metadata": {}
    },
    {
     "output_type": "display_data",
     "data": {
      "text/plain": "\u001b[33mPolicy already present\u001b[0m, HTTP STATUS CODE: \u001b[1;36m200\u001b[0m.\n",
      "text/html": "<pre style=\"white-space:pre;overflow-x:auto;line-height:normal;font-family:Menlo,'DejaVu Sans Mono',consolas,'Courier New',monospace\"><span style=\"color: #808000; text-decoration-color: #808000\">Policy already present</span>, HTTP STATUS CODE: <span style=\"color: #008080; text-decoration-color: #008080; font-weight: bold\">200</span>.\n</pre>\n"
     },
     "metadata": {}
    },
    {
     "output_type": "display_data",
     "data": {
      "text/plain": "\u001b[33mCORS Configuration already present\u001b[0m, HTTP STATUS CODE: \u001b[1;36m200\u001b[0m.\n",
      "text/html": "<pre style=\"white-space:pre;overflow-x:auto;line-height:normal;font-family:Menlo,'DejaVu Sans Mono',consolas,'Courier New',monospace\"><span style=\"color: #808000; text-decoration-color: #808000\">CORS Configuration already present</span>, HTTP STATUS CODE: <span style=\"color: #008080; text-decoration-color: #008080; font-weight: bold\">200</span>.\n</pre>\n"
     },
     "metadata": {}
    },
    {
     "output_type": "display_data",
     "data": {
      "text/plain": "\u001b[92m───────────────── \u001b[0mbucket \u001b[4;36mdeploy-bucket-test-fsfddfsfdsfsfsffssfdfsdfsfsdfsd\u001b[0m\u001b[92m ─────────────────\u001b[0m\n",
      "text/html": "<pre style=\"white-space:pre;overflow-x:auto;line-height:normal;font-family:Menlo,'DejaVu Sans Mono',consolas,'Courier New',monospace\"><span style=\"color: #00ff00; text-decoration-color: #00ff00\">───────────────── </span>bucket <span style=\"color: #008080; text-decoration-color: #008080; text-decoration: underline\">deploy-bucket-test-fsfddfsfdsfsfsffssfdfsdfsfsdfsd</span><span style=\"color: #00ff00; text-decoration-color: #00ff00\"> ─────────────────</span>\n</pre>\n"
     },
     "metadata": {}
    },
    {
     "output_type": "display_data",
     "data": {
      "text/plain": "\u001b[33mBucket already present\u001b[0m, HTTP STATUS CODE: \u001b[1;36m409\u001b[0m.\n",
      "text/html": "<pre style=\"white-space:pre;overflow-x:auto;line-height:normal;font-family:Menlo,'DejaVu Sans Mono',consolas,'Courier New',monospace\"><span style=\"color: #808000; text-decoration-color: #808000\">Bucket already present</span>, HTTP STATUS CODE: <span style=\"color: #008080; text-decoration-color: #008080; font-weight: bold\">409</span>.\n</pre>\n"
     },
     "metadata": {}
    },
    {
     "output_type": "display_data",
     "data": {
      "text/plain": "\u001b[33mPolicy already present\u001b[0m, HTTP STATUS CODE: \u001b[1;36m200\u001b[0m.\n",
      "text/html": "<pre style=\"white-space:pre;overflow-x:auto;line-height:normal;font-family:Menlo,'DejaVu Sans Mono',consolas,'Courier New',monospace\"><span style=\"color: #808000; text-decoration-color: #808000\">Policy already present</span>, HTTP STATUS CODE: <span style=\"color: #008080; text-decoration-color: #008080; font-weight: bold\">200</span>.\n</pre>\n"
     },
     "metadata": {}
    }
   ],
   "source": [
    "s3_client = boto3.client('s3', aws_access_key_id=aws_sdk_access_id, aws_secret_access_key=aws_sdk_access_secret)\n",
    "s3_resource = boto3.resource('s3')\n",
    "\n",
    "buckets = []\n",
    "for bucket in s3_resource.buckets.all():\n",
    "    buckets.append(bucket.name)\n",
    "\n",
    "console.rule(f\"bucket [cyan underline]{aws_private_bucket}[/cyan underline]\")\n",
    "\n",
    "try:\n",
    "    private_bucket = s3_client.create_bucket(\n",
    "        Bucket=aws_private_bucket,\n",
    "        CreateBucketConfiguration={\n",
    "            'LocationConstraint': aws_region\n",
    "        }\n",
    "    )\n",
    "    console.print(f\"[green]Bucket creation completed[/green], HTTP STATUS CODE: {private_bucket['ResponseMetadata']['HTTPStatusCode']}.\")\n",
    "except s3_client.exceptions.BucketAlreadyOwnedByYou as error:\n",
    "    private_bucket = s3_resource.Bucket(aws_private_bucket)\n",
    "    console.print(f\"[yellow]Bucket already present[/yellow], HTTP STATUS CODE: {error.response['ResponseMetadata']['HTTPStatusCode']}.\")\n",
    "serialize_json(folder_aws_path, f\"bucket_{aws_private_bucket}.json\", private_bucket)\n",
    "\n",
    "response = s3_client.put_public_access_block(\n",
    "    Bucket=aws_private_bucket,\n",
    "    PublicAccessBlockConfiguration={\n",
    "        'BlockPublicAcls': True,\n",
    "        'IgnorePublicAcls': True,\n",
    "        'BlockPublicPolicy': True,\n",
    "        'RestrictPublicBuckets': True\n",
    "    },\n",
    ")\n",
    "console.print(f\"[green]Public access blocked[/green], HTTP STATUS CODE: {response['ResponseMetadata']['HTTPStatusCode']}.\")\n",
    "\n",
    "private_bucket_policy = {\n",
    "    \"Version\": \"2012-10-17\",\n",
    "    \"Id\": \"private-bucket-policy\",\n",
    "    \"Statement\": [\n",
    "        {\n",
    "            \"Sid\": \"allow-bucket-interaction\",\n",
    "            \"Effect\": \"Allow\",\n",
    "            \"Principal\": {\n",
    "                \"AWS\": f\"arn:aws:iam::{aws_account_id}:user/{user['User']['UserName']}\"\n",
    "            },\n",
    "            \"Action\": [\n",
    "                \"s3:GetObject\",\n",
    "                \"s3:PutObject\",\n",
    "                \"s3:ListBucket\"\n",
    "            ],\n",
    "            \"Resource\": [\n",
    "                f\"arn:aws:s3:::{aws_private_bucket}\",\n",
    "                f\"arn:aws:s3:::{aws_private_bucket}/*\"\n",
    "            ]\n",
    "        }\n",
    "    ]\n",
    "}\n",
    "\n",
    "try:\n",
    "    policy = s3_client.get_bucket_policy(Bucket=aws_private_bucket)\n",
    "    policy['Policy'] = json.loads(policy['Policy'])\n",
    "    console.print(f\"[yellow]Policy already present[/yellow], HTTP STATUS CODE: {response['ResponseMetadata']['HTTPStatusCode']}.\")\n",
    "except ClientError as e:\n",
    "    if e.response['Error']['Code'] == 'NoSuchBucketPolicy':\n",
    "        response = s3_client.put_bucket_policy(Bucket=aws_private_bucket, Policy=json.dumps(private_bucket_policy))\n",
    "        console.print(f\"[green]Policy configuration completed[/green], HTTP STATUS CODE: {response['ResponseMetadata']['HTTPStatusCode']}.\")\n",
    "    policy = s3_client.get_bucket_policy(Bucket=aws_private_bucket)\n",
    "    policy['Policy'] = json.loads(policy['Policy'])\n",
    "serialize_json(folder_aws_path, f\"bucket_{aws_private_bucket}_policy.json\", policy)\n",
    "\n",
    "cors_configuration = {\n",
    "    'CORSRules': [{\n",
    "        'AllowedHeaders': ['*'],\n",
    "        'AllowedMethods': ['GET', 'HEAD', 'PUT'],\n",
    "        'AllowedOrigins': ['*'],\n",
    "        'ExposeHeaders': [],\n",
    "        'MaxAgeSeconds': 3000\n",
    "    }]\n",
    "}\n",
    "\n",
    "try:\n",
    "    cors_configuration = s3_client.get_bucket_cors(Bucket=aws_private_bucket)\n",
    "    console.print(f\"[yellow]CORS Configuration already present[/yellow], HTTP STATUS CODE: {response['ResponseMetadata']['HTTPStatusCode']}.\")\n",
    "except ClientError as e:\n",
    "    if e.response['Error']['Code'] == 'NoSuchCORSConfiguration':\n",
    "        response = s3_client.put_bucket_cors(Bucket=aws_private_bucket, CORSConfiguration=cors_configuration)\n",
    "        console.print(f\"[green]CORS configuration completed[green], HTTP STATUS CODE: {response['ResponseMetadata']['HTTPStatusCode']}.\")\n",
    "    cors_configuration = s3_client.get_bucket_cors(Bucket=aws_private_bucket)\n",
    "    cors_configuration['CORSRules'] = json.loads(cors_configuration['CORSRules'])\n",
    "    console.print(cors_configuration)\n",
    "serialize_json(folder_aws_path, f\"bucket_{aws_private_bucket}_cors.json\", cors_configuration)\n",
    "\n",
    "console.rule(f\"bucket [cyan underline]{aws_deploy_bucket}[/cyan underline]\")\n",
    "\n",
    "try:\n",
    "    deploy_bucket = s3_client.create_bucket(\n",
    "        Bucket=aws_deploy_bucket,\n",
    "        CreateBucketConfiguration={\n",
    "            'LocationConstraint': aws_region\n",
    "        }\n",
    "    )\n",
    "    console.print(f\"[green]Bucket creation completed[/green], HTTP STATUS CODE: {deploy_bucket['ResponseMetadata']['HTTPStatusCode']}.\")\n",
    "except s3_client.exceptions.BucketAlreadyOwnedByYou as error:\n",
    "    deploy_bucket = s3_resource.Bucket(aws_deploy_bucket)\n",
    "    console.print(f\"[yellow]Bucket already present[/yellow], HTTP STATUS CODE: {error.response['ResponseMetadata']['HTTPStatusCode']}.\")\n",
    "serialize_json(folder_aws_path, f\"bucket_{aws_deploy_bucket}.json\", deploy_bucket)\n",
    "\n",
    "deploy_bucket_policy = {\n",
    "    \"Version\": \"2012-10-17\",\n",
    "    \"Id\": \"deploy-bucket-policy\",\n",
    "    \"Statement\": [\n",
    "        {\n",
    "            \"Sid\": \"allow-bucket-interaction\",\n",
    "            \"Effect\": \"Allow\",\n",
    "            \"Principal\": {\n",
    "                \"AWS\": f\"arn:aws:iam::{aws_account_id}:user/{user['User']['UserName']}\"\n",
    "            },\n",
    "            \"Action\": [\n",
    "                \"s3:GetObject\",\n",
    "                \"s3:PutObject\",\n",
    "                \"s3:ListBucket\"\n",
    "            ],\n",
    "            \"Resource\": [\n",
    "                f\"arn:aws:s3:::{aws_deploy_bucket}\",\n",
    "                f\"arn:aws:s3:::{aws_deploy_bucket}/*\"\n",
    "            ]\n",
    "        }\n",
    "    ]\n",
    "}\n",
    "\n",
    "try:\n",
    "    policy = s3_client.get_bucket_policy(Bucket=aws_deploy_bucket)\n",
    "    policy['Policy'] = json.loads(policy['Policy'])\n",
    "    console.print(f\"[yellow]Policy already present[/yellow], HTTP STATUS CODE: {response['ResponseMetadata']['HTTPStatusCode']}.\")\n",
    "except ClientError as e:\n",
    "    if e.response['Error']['Code'] == 'NoSuchBucketPolicy':\n",
    "        response = s3_client.put_bucket_policy(Bucket=aws_deploy_bucket, Policy=json.dumps(deploy_bucket_policy))\n",
    "        console.print(f\"[green]Policy configuration completed[/green], HTTP STATUS CODE: {response['ResponseMetadata']['HTTPStatusCode']}.\")\n",
    "    policy = s3_client.get_bucket_policy(Bucket=aws_deploy_bucket)\n",
    "    policy['Policy'] = json.loads(policy['Policy'])\n",
    "serialize_json(folder_aws_path, f\"bucket_{aws_private_bucket}_policy.json\", policy)\n"
   ]
  },
  {
   "cell_type": "markdown",
   "metadata": {
    "pycharm": {
     "name": "#%% md\n"
    }
   },
   "source": [
    "# Section 4 - Environment file generation\n",
    "### build/environments"
   ]
  },
  {
   "cell_type": "code",
   "execution_count": 16,
   "metadata": {
    "pycharm": {
     "name": "#%%\n"
    }
   },
   "outputs": [
    {
     "output_type": "display_data",
     "data": {
      "text/plain": "\u001b[92m────────────────────────────────── \u001b[0mEnvironment: \u001b[4;36mPRODUCTION\u001b[0m\u001b[92m ──────────────────────────────────\u001b[0m\n",
      "text/html": "<pre style=\"white-space:pre;overflow-x:auto;line-height:normal;font-family:Menlo,'DejaVu Sans Mono',consolas,'Courier New',monospace\"><span style=\"color: #00ff00; text-decoration-color: #00ff00\">────────────────────────────────── </span>Environment: <span style=\"color: #008080; text-decoration-color: #008080; text-decoration: underline\">PRODUCTION</span><span style=\"color: #00ff00; text-decoration-color: #00ff00\"> ──────────────────────────────────</span>\n</pre>\n"
     },
     "metadata": {}
    },
    {
     "output_type": "display_data",
     "data": {
      "text/plain": "File \u001b[4;36menvironment.prod.ts\u001b[0m generated\n",
      "text/html": "<pre style=\"white-space:pre;overflow-x:auto;line-height:normal;font-family:Menlo,'DejaVu Sans Mono',consolas,'Courier New',monospace\">File <span style=\"color: #008080; text-decoration-color: #008080; text-decoration: underline\">environment.prod.ts</span> generated\n</pre>\n"
     },
     "metadata": {}
    },
    {
     "output_type": "display_data",
     "data": {
      "text/plain": "Path: \u001b[3mbuild/environments/environment.prod.ts\u001b[0m\n",
      "text/html": "<pre style=\"white-space:pre;overflow-x:auto;line-height:normal;font-family:Menlo,'DejaVu Sans Mono',consolas,'Courier New',monospace\">Path: <span style=\"font-style: italic\">build/environments/environment.prod.ts</span>\n</pre>\n"
     },
     "metadata": {}
    },
    {
     "output_type": "display_data",
     "data": {
      "text/plain": "\u001b[92m───────────────────────────────── \u001b[0mEnvironment: \u001b[4;36mDEVELOPMENT\u001b[0m\u001b[92m ──────────────────────────────────\u001b[0m\n",
      "text/html": "<pre style=\"white-space:pre;overflow-x:auto;line-height:normal;font-family:Menlo,'DejaVu Sans Mono',consolas,'Courier New',monospace\"><span style=\"color: #00ff00; text-decoration-color: #00ff00\">───────────────────────────────── </span>Environment: <span style=\"color: #008080; text-decoration-color: #008080; text-decoration: underline\">DEVELOPMENT</span><span style=\"color: #00ff00; text-decoration-color: #00ff00\"> ──────────────────────────────────</span>\n</pre>\n"
     },
     "metadata": {}
    },
    {
     "output_type": "display_data",
     "data": {
      "text/plain": "File \u001b[4;36menvironment.ts\u001b[0m generated\n",
      "text/html": "<pre style=\"white-space:pre;overflow-x:auto;line-height:normal;font-family:Menlo,'DejaVu Sans Mono',consolas,'Courier New',monospace\">File <span style=\"color: #008080; text-decoration-color: #008080; text-decoration: underline\">environment.ts</span> generated\n</pre>\n"
     },
     "metadata": {}
    },
    {
     "output_type": "display_data",
     "data": {
      "text/plain": "Path: \u001b[3mbuild/environments/environment.ts\u001b[0m\n",
      "text/html": "<pre style=\"white-space:pre;overflow-x:auto;line-height:normal;font-family:Menlo,'DejaVu Sans Mono',consolas,'Courier New',monospace\">Path: <span style=\"font-style: italic\">build/environments/environment.ts</span>\n</pre>\n"
     },
     "metadata": {}
    }
   ],
   "source": [
    "environment_development = f\"{folder_build_path}environments/environment.ts\"\n",
    "environment_production = f\"{folder_build_path}environments/environment.prod.ts\"\n",
    "\n",
    "console.rule(\"Environment: [cyan underline]PRODUCTION[/cyan underline]\")\n",
    "\n",
    "environment_dict = {\n",
    "    \"production\": 'true',\n",
    "    \"configuration_local\": 'false',\n",
    "    \"taskName\": task_name,\n",
    "    \"batchName\": batch_name,\n",
    "    \"region\": aws_region,\n",
    "    \"bucket\": aws_private_bucket,\n",
    "    \"aws_id_key\": aws_worker_access_id,\n",
    "    \"aws_secret_key\": aws_worker_access_secret,\n",
    "    \"bing_api_key\": bing_api_key\n",
    "}\n",
    "\n",
    "with open(environment_production, 'w') as file:\n",
    "    print(\"export const environment = {\", file=file)\n",
    "    for (env_var, value) in environment_dict.items():\n",
    "        if env_var == 'production' or env_var == 'configuration_local':\n",
    "            print(f\"\\t{env_var}: {value},\", file=file)\n",
    "        else:\n",
    "            print(f\"\\t{env_var}: \\\"{value}\\\",\", file=file)\n",
    "    print(\"};\", file=file)\n",
    "\n",
    "console.print(\"File [cyan underline]environment.prod.ts[/cyan underline] generated\")\n",
    "console.print(f\"Path: [italic]{environment_production}[/italic]\")\n",
    "\n",
    "console.rule(\"Environment: [cyan underline]DEVELOPMENT[/cyan underline]\")\n",
    "\n",
    "environment_dict = {\n",
    "    \"production\": 'false',\n",
    "    \"configuration_local\": 'true',\n",
    "    \"taskName\": task_name,\n",
    "    \"batchName\": batch_name,\n",
    "    \"region\": aws_region,\n",
    "    \"bucket\": aws_private_bucket,\n",
    "    \"aws_id_key\": aws_worker_access_id,\n",
    "    \"aws_secret_key\": aws_worker_access_secret,\n",
    "    \"bing_api_key\": bing_api_key\n",
    "}\n",
    "\n",
    "with open(environment_development, 'w') as file:\n",
    "    print(\"export const environment = {\", file=file)\n",
    "    for (env_var, value) in environment_dict.items():\n",
    "        if env_var == 'production' or env_var == 'configuration_local':\n",
    "            print(f\"\\t{env_var}: {value},\", file=file)\n",
    "        else:\n",
    "            print(f\"\\t{env_var}: \\\"{value}\\\",\", file=file)\n",
    "    print(\"};\", file=file)\n",
    "\n",
    "console.print(\"File [cyan underline]environment.ts[/cyan underline] generated\")\n",
    "console.print(f\"Path: [italic]{environment_development}[/italic]\")"
   ]
  },
  {
   "cell_type": "markdown",
   "metadata": {
    "pycharm": {
     "name": "#%% md\n"
    }
   },
   "source": [
    "## Section 5 - admin.json file generation\n",
    "### Reference: https://pycryptodome.readthedocs.io/en/latest/src/cipher/classic.html#cbc-mode\n",
    "### build/config"
   ]
  },
  {
   "cell_type": "code",
   "execution_count": 17,
   "metadata": {
    "pycharm": {
     "name": "#%%\n"
    }
   },
   "outputs": [
    {
     "output_type": "display_data",
     "data": {
      "text/plain": "\u001b[92m────────────────────────────────────── \u001b[0mFile \u001b[4;36madmin.json\u001b[0m\u001b[92m ──────────────────────────────────────\u001b[0m\n",
      "text/html": "<pre style=\"white-space:pre;overflow-x:auto;line-height:normal;font-family:Menlo,'DejaVu Sans Mono',consolas,'Courier New',monospace\"><span style=\"color: #00ff00; text-decoration-color: #00ff00\">────────────────────────────────────── </span>File <span style=\"color: #008080; text-decoration-color: #008080; text-decoration: underline\">admin.json</span><span style=\"color: #00ff00; text-decoration-color: #00ff00\"> ──────────────────────────────────────</span>\n</pre>\n"
     },
     "metadata": {}
    },
    {
     "output_type": "display_data",
     "data": {
      "text/plain": "File generated\n",
      "text/html": "<pre style=\"white-space:pre;overflow-x:auto;line-height:normal;font-family:Menlo,'DejaVu Sans Mono',consolas,'Courier New',monospace\">File generated\n</pre>\n"
     },
     "metadata": {}
    },
    {
     "output_type": "display_data",
     "data": {
      "text/plain": "Path: \u001b[3mbuild/config/admin.json\u001b[0m\n",
      "text/html": "<pre style=\"white-space:pre;overflow-x:auto;line-height:normal;font-family:Menlo,'DejaVu Sans Mono',consolas,'Courier New',monospace\">Path: <span style=\"font-style: italic\">build/config/admin.json</span>\n</pre>\n"
     },
     "metadata": {}
    }
   ],
   "source": [
    "from base64 import b64encode\n",
    "from Crypto.Cipher import AES\n",
    "from Crypto.Util.Padding import pad\n",
    "\n",
    "console.rule(\"File [cyan underline]admin.json\")\n",
    "\n",
    "if not os.path.exists(folder_build_config_path):\n",
    "    os.makedirs(folder_build_config_path, exist_ok=True)\n",
    "\n",
    "admin_file = f\"{folder_build_config_path}admin.json\"\n",
    "\n",
    "data = {\"username\": admin_user}\n",
    "key = admin_password.encode()\n",
    "cipher = AES.new(key, AES.MODE_CBC)\n",
    "ct_bytes = cipher.encrypt(pad(json.dumps(data).encode(), AES.block_size))\n",
    "init_vector = b64encode(cipher.iv).decode('utf-8')\n",
    "cypher_text = b64encode(ct_bytes).decode('utf-8')\n",
    "data = [{\"crypt\": cypher_text}]\n",
    "with open(admin_file, 'w') as f:\n",
    "    json.dump(data, f, indent=4)\n",
    "\n",
    "console.print(\"File generated\")\n",
    "console.print(f\"Path: [italic]{admin_file}\")"
   ]
  },
  {
   "cell_type": "markdown",
   "metadata": {
    "pycharm": {
     "name": "#%% md\n"
    }
   },
   "source": [
    "## Section 6 - document.ts file generation\n",
    "### build/skeleton"
   ]
  },
  {
   "cell_type": "code",
   "execution_count": 18,
   "metadata": {
    "pycharm": {
     "name": "#%%\n"
    }
   },
   "outputs": [
    {
     "output_type": "display_data",
     "data": {
      "text/plain": "\u001b[92m─────────────────────────────────── \u001b[0mInterface \u001b[4;36mdocument.ts\u001b[0m\u001b[92m ───────────────────────────────────\u001b[0m\n",
      "text/html": "<pre style=\"white-space:pre;overflow-x:auto;line-height:normal;font-family:Menlo,'DejaVu Sans Mono',consolas,'Courier New',monospace\"><span style=\"color: #00ff00; text-decoration-color: #00ff00\">─────────────────────────────────── </span>Interface <span style=\"color: #008080; text-decoration-color: #008080; text-decoration: underline\">document.ts</span><span style=\"color: #00ff00; text-decoration-color: #00ff00\"> ───────────────────────────────────</span>\n</pre>\n"
     },
     "metadata": {}
    },
    {
     "output_type": "display_data",
     "data": {
      "text/plain": "Reading hits file\n",
      "text/html": "<pre style=\"white-space:pre;overflow-x:auto;line-height:normal;font-family:Menlo,'DejaVu Sans Mono',consolas,'Courier New',monospace\">Reading hits file\n</pre>\n"
     },
     "metadata": {}
    },
    {
     "output_type": "display_data",
     "data": {
      "text/plain": "Path: \u001b[3mbuild/task/hits.json\u001b[0m\n",
      "text/html": "<pre style=\"white-space:pre;overflow-x:auto;line-height:normal;font-family:Menlo,'DejaVu Sans Mono',consolas,'Courier New',monospace\">Path: <span style=\"font-style: italic\">build/task/hits.json</span>\n</pre>\n"
     },
     "metadata": {}
    },
    {
     "output_type": "display_data",
     "data": {
      "text/plain": "Attribute with name: \u001b[4;36mfilename\u001b[0m and type: \u001b[1m<\u001b[0m\u001b[1;95mclass\u001b[0m\u001b[39m \u001b[0m\u001b[32m'str'\u001b[0m\u001b[1m>\u001b[0m found\n",
      "text/html": "<pre style=\"white-space:pre;overflow-x:auto;line-height:normal;font-family:Menlo,'DejaVu Sans Mono',consolas,'Courier New',monospace\">Attribute with name: <span style=\"color: #008080; text-decoration-color: #008080; text-decoration: underline\">filename</span> and type: <span style=\"font-weight: bold\">&lt;</span><span style=\"color: #ff00ff; text-decoration-color: #ff00ff; font-weight: bold\">class</span><span style=\"color: #000000; text-decoration-color: #000000\"> </span><span style=\"color: #008000; text-decoration-color: #008000\">'str'</span><span style=\"font-weight: bold\">&gt;</span> found\n</pre>\n"
     },
     "metadata": {}
    },
    {
     "output_type": "display_data",
     "data": {
      "text/plain": "Attribute with name: \u001b[4;36mtitle\u001b[0m and type: \u001b[1m<\u001b[0m\u001b[1;95mclass\u001b[0m\u001b[39m \u001b[0m\u001b[32m'str'\u001b[0m\u001b[1m>\u001b[0m found\n",
      "text/html": "<pre style=\"white-space:pre;overflow-x:auto;line-height:normal;font-family:Menlo,'DejaVu Sans Mono',consolas,'Courier New',monospace\">Attribute with name: <span style=\"color: #008080; text-decoration-color: #008080; text-decoration: underline\">title</span> and type: <span style=\"font-weight: bold\">&lt;</span><span style=\"color: #ff00ff; text-decoration-color: #ff00ff; font-weight: bold\">class</span><span style=\"color: #000000; text-decoration-color: #000000\"> </span><span style=\"color: #008000; text-decoration-color: #008000\">'str'</span><span style=\"font-weight: bold\">&gt;</span> found\n</pre>\n"
     },
     "metadata": {}
    },
    {
     "output_type": "display_data",
     "data": {
      "text/plain": "Attribute with name: \u001b[4;36msubject\u001b[0m and type: \u001b[1m<\u001b[0m\u001b[1;95mclass\u001b[0m\u001b[39m \u001b[0m\u001b[32m'str'\u001b[0m\u001b[1m>\u001b[0m found\n",
      "text/html": "<pre style=\"white-space:pre;overflow-x:auto;line-height:normal;font-family:Menlo,'DejaVu Sans Mono',consolas,'Courier New',monospace\">Attribute with name: <span style=\"color: #008080; text-decoration-color: #008080; text-decoration: underline\">subject</span> and type: <span style=\"font-weight: bold\">&lt;</span><span style=\"color: #ff00ff; text-decoration-color: #ff00ff; font-weight: bold\">class</span><span style=\"color: #000000; text-decoration-color: #000000\"> </span><span style=\"color: #008000; text-decoration-color: #008000\">'str'</span><span style=\"font-weight: bold\">&gt;</span> found\n</pre>\n"
     },
     "metadata": {}
    },
    {
     "output_type": "display_data",
     "data": {
      "text/plain": "Attribute with name: \u001b[4;36mtype\u001b[0m and type: \u001b[1m<\u001b[0m\u001b[1;95mclass\u001b[0m\u001b[39m \u001b[0m\u001b[32m'str'\u001b[0m\u001b[1m>\u001b[0m found\n",
      "text/html": "<pre style=\"white-space:pre;overflow-x:auto;line-height:normal;font-family:Menlo,'DejaVu Sans Mono',consolas,'Courier New',monospace\">Attribute with name: <span style=\"color: #008080; text-decoration-color: #008080; text-decoration: underline\">type</span> and type: <span style=\"font-weight: bold\">&lt;</span><span style=\"color: #ff00ff; text-decoration-color: #ff00ff; font-weight: bold\">class</span><span style=\"color: #000000; text-decoration-color: #000000\"> </span><span style=\"color: #008000; text-decoration-color: #008000\">'str'</span><span style=\"font-weight: bold\">&gt;</span> found\n</pre>\n"
     },
     "metadata": {}
    },
    {
     "output_type": "display_data",
     "data": {
      "text/plain": "Attribute with name: \u001b[4;36mnumber\u001b[0m and type: \u001b[1m<\u001b[0m\u001b[1;95mclass\u001b[0m\u001b[39m \u001b[0m\u001b[32m'int'\u001b[0m\u001b[1m>\u001b[0m found\n",
      "text/html": "<pre style=\"white-space:pre;overflow-x:auto;line-height:normal;font-family:Menlo,'DejaVu Sans Mono',consolas,'Courier New',monospace\">Attribute with name: <span style=\"color: #008080; text-decoration-color: #008080; text-decoration: underline\">number</span> and type: <span style=\"font-weight: bold\">&lt;</span><span style=\"color: #ff00ff; text-decoration-color: #ff00ff; font-weight: bold\">class</span><span style=\"color: #000000; text-decoration-color: #000000\"> </span><span style=\"color: #008000; text-decoration-color: #008000\">'int'</span><span style=\"font-weight: bold\">&gt;</span> found\n</pre>\n"
     },
     "metadata": {}
    },
    {
     "output_type": "display_data",
     "data": {
      "text/plain": "Attribute with name: \u001b[4;36myear\u001b[0m and type: \u001b[1m<\u001b[0m\u001b[1;95mclass\u001b[0m\u001b[39m \u001b[0m\u001b[32m'int'\u001b[0m\u001b[1m>\u001b[0m found\n",
      "text/html": "<pre style=\"white-space:pre;overflow-x:auto;line-height:normal;font-family:Menlo,'DejaVu Sans Mono',consolas,'Courier New',monospace\">Attribute with name: <span style=\"color: #008080; text-decoration-color: #008080; text-decoration: underline\">year</span> and type: <span style=\"font-weight: bold\">&lt;</span><span style=\"color: #ff00ff; text-decoration-color: #ff00ff; font-weight: bold\">class</span><span style=\"color: #000000; text-decoration-color: #000000\"> </span><span style=\"color: #008000; text-decoration-color: #008000\">'int'</span><span style=\"font-weight: bold\">&gt;</span> found\n</pre>\n"
     },
     "metadata": {}
    },
    {
     "output_type": "display_data",
     "data": {
      "text/plain": "Attribute with name: \u001b[4;36meditorial_code\u001b[0m and type: \u001b[1m<\u001b[0m\u001b[1;95mclass\u001b[0m\u001b[39m \u001b[0m\u001b[32m'str'\u001b[0m\u001b[1m>\u001b[0m found\n",
      "text/html": "<pre style=\"white-space:pre;overflow-x:auto;line-height:normal;font-family:Menlo,'DejaVu Sans Mono',consolas,'Courier New',monospace\">Attribute with name: <span style=\"color: #008080; text-decoration-color: #008080; text-decoration: underline\">editorial_code</span> and type: <span style=\"font-weight: bold\">&lt;</span><span style=\"color: #ff00ff; text-decoration-color: #ff00ff; font-weight: bold\">class</span><span style=\"color: #000000; text-decoration-color: #000000\"> </span><span style=\"color: #008000; text-decoration-color: #008000\">'str'</span><span style=\"font-weight: bold\">&gt;</span> found\n</pre>\n"
     },
     "metadata": {}
    },
    {
     "output_type": "display_data",
     "data": {
      "text/plain": "Attribute with name: \u001b[4;36mgazette_reference\u001b[0m and type: \u001b[1m<\u001b[0m\u001b[1;95mclass\u001b[0m\u001b[39m \u001b[0m\u001b[32m'str'\u001b[0m\u001b[1m>\u001b[0m found\n",
      "text/html": "<pre style=\"white-space:pre;overflow-x:auto;line-height:normal;font-family:Menlo,'DejaVu Sans Mono',consolas,'Courier New',monospace\">Attribute with name: <span style=\"color: #008080; text-decoration-color: #008080; text-decoration: underline\">gazette_reference</span> and type: <span style=\"font-weight: bold\">&lt;</span><span style=\"color: #ff00ff; text-decoration-color: #ff00ff; font-weight: bold\">class</span><span style=\"color: #000000; text-decoration-color: #000000\"> </span><span style=\"color: #008000; text-decoration-color: #008000\">'str'</span><span style=\"font-weight: bold\">&gt;</span> found\n</pre>\n"
     },
     "metadata": {}
    },
    {
     "output_type": "display_data",
     "data": {
      "text/plain": "Attribute with name: \u001b[4;36mpublication_date\u001b[0m and type: \u001b[1m<\u001b[0m\u001b[1;95mclass\u001b[0m\u001b[39m \u001b[0m\u001b[32m'str'\u001b[0m\u001b[1m>\u001b[0m found\n",
      "text/html": "<pre style=\"white-space:pre;overflow-x:auto;line-height:normal;font-family:Menlo,'DejaVu Sans Mono',consolas,'Courier New',monospace\">Attribute with name: <span style=\"color: #008080; text-decoration-color: #008080; text-decoration: underline\">publication_date</span> and type: <span style=\"font-weight: bold\">&lt;</span><span style=\"color: #ff00ff; text-decoration-color: #ff00ff; font-weight: bold\">class</span><span style=\"color: #000000; text-decoration-color: #000000\"> </span><span style=\"color: #008000; text-decoration-color: #008000\">'str'</span><span style=\"font-weight: bold\">&gt;</span> found\n</pre>\n"
     },
     "metadata": {}
    },
    {
     "output_type": "display_data",
     "data": {
      "text/plain": "Attribute with name: \u001b[4;36mgazette_date\u001b[0m and type: \u001b[1m<\u001b[0m\u001b[1;95mclass\u001b[0m\u001b[39m \u001b[0m\u001b[32m'str'\u001b[0m\u001b[1m>\u001b[0m found\n",
      "text/html": "<pre style=\"white-space:pre;overflow-x:auto;line-height:normal;font-family:Menlo,'DejaVu Sans Mono',consolas,'Courier New',monospace\">Attribute with name: <span style=\"color: #008080; text-decoration-color: #008080; text-decoration: underline\">gazette_date</span> and type: <span style=\"font-weight: bold\">&lt;</span><span style=\"color: #ff00ff; text-decoration-color: #ff00ff; font-weight: bold\">class</span><span style=\"color: #000000; text-decoration-color: #000000\"> </span><span style=\"color: #008000; text-decoration-color: #008000\">'str'</span><span style=\"font-weight: bold\">&gt;</span> found\n</pre>\n"
     },
     "metadata": {}
    },
    {
     "output_type": "display_data",
     "data": {
      "text/plain": "Attribute with name: \u001b[4;36mvalid_from\u001b[0m and type: \u001b[1m<\u001b[0m\u001b[1;95mclass\u001b[0m\u001b[39m \u001b[0m\u001b[32m'str'\u001b[0m\u001b[1m>\u001b[0m found\n",
      "text/html": "<pre style=\"white-space:pre;overflow-x:auto;line-height:normal;font-family:Menlo,'DejaVu Sans Mono',consolas,'Courier New',monospace\">Attribute with name: <span style=\"color: #008080; text-decoration-color: #008080; text-decoration: underline\">valid_from</span> and type: <span style=\"font-weight: bold\">&lt;</span><span style=\"color: #ff00ff; text-decoration-color: #ff00ff; font-weight: bold\">class</span><span style=\"color: #000000; text-decoration-color: #000000\"> </span><span style=\"color: #008000; text-decoration-color: #008000\">'str'</span><span style=\"font-weight: bold\">&gt;</span> found\n</pre>\n"
     },
     "metadata": {}
    },
    {
     "output_type": "display_data",
     "data": {
      "text/plain": "Attribute with name: \u001b[4;36mlast_updated\u001b[0m and type: \u001b[1m<\u001b[0m\u001b[1;95mclass\u001b[0m\u001b[39m \u001b[0m\u001b[32m'str'\u001b[0m\u001b[1m>\u001b[0m found\n",
      "text/html": "<pre style=\"white-space:pre;overflow-x:auto;line-height:normal;font-family:Menlo,'DejaVu Sans Mono',consolas,'Courier New',monospace\">Attribute with name: <span style=\"color: #008080; text-decoration-color: #008080; text-decoration: underline\">last_updated</span> and type: <span style=\"font-weight: bold\">&lt;</span><span style=\"color: #ff00ff; text-decoration-color: #ff00ff; font-weight: bold\">class</span><span style=\"color: #000000; text-decoration-color: #000000\"> </span><span style=\"color: #008000; text-decoration-color: #008000\">'str'</span><span style=\"font-weight: bold\">&gt;</span> found\n</pre>\n"
     },
     "metadata": {}
    },
    {
     "output_type": "display_data",
     "data": {
      "text/plain": "Attribute with name: \u001b[4;36mlink_gazette\u001b[0m and type: \u001b[1m<\u001b[0m\u001b[1;95mclass\u001b[0m\u001b[39m \u001b[0m\u001b[32m'str'\u001b[0m\u001b[1m>\u001b[0m found\n",
      "text/html": "<pre style=\"white-space:pre;overflow-x:auto;line-height:normal;font-family:Menlo,'DejaVu Sans Mono',consolas,'Courier New',monospace\">Attribute with name: <span style=\"color: #008080; text-decoration-color: #008080; text-decoration: underline\">link_gazette</span> and type: <span style=\"font-weight: bold\">&lt;</span><span style=\"color: #ff00ff; text-decoration-color: #ff00ff; font-weight: bold\">class</span><span style=\"color: #000000; text-decoration-color: #000000\"> </span><span style=\"color: #008000; text-decoration-color: #008000\">'str'</span><span style=\"font-weight: bold\">&gt;</span> found\n</pre>\n"
     },
     "metadata": {}
    },
    {
     "output_type": "display_data",
     "data": {
      "text/plain": "Attribute with name: \u001b[4;36mlink_urn_nir\u001b[0m and type: \u001b[1m<\u001b[0m\u001b[1;95mclass\u001b[0m\u001b[39m \u001b[0m\u001b[32m'str'\u001b[0m\u001b[1m>\u001b[0m found\n",
      "text/html": "<pre style=\"white-space:pre;overflow-x:auto;line-height:normal;font-family:Menlo,'DejaVu Sans Mono',consolas,'Courier New',monospace\">Attribute with name: <span style=\"color: #008080; text-decoration-color: #008080; text-decoration: underline\">link_urn_nir</span> and type: <span style=\"font-weight: bold\">&lt;</span><span style=\"color: #ff00ff; text-decoration-color: #ff00ff; font-weight: bold\">class</span><span style=\"color: #000000; text-decoration-color: #000000\"> </span><span style=\"color: #008000; text-decoration-color: #008000\">'str'</span><span style=\"font-weight: bold\">&gt;</span> found\n</pre>\n"
     },
     "metadata": {}
    },
    {
     "output_type": "display_data",
     "data": {
      "text/plain": "Attribute with name: \u001b[4;36mlink_eli_id\u001b[0m and type: \u001b[1m<\u001b[0m\u001b[1;95mclass\u001b[0m\u001b[39m \u001b[0m\u001b[32m'str'\u001b[0m\u001b[1m>\u001b[0m found\n",
      "text/html": "<pre style=\"white-space:pre;overflow-x:auto;line-height:normal;font-family:Menlo,'DejaVu Sans Mono',consolas,'Courier New',monospace\">Attribute with name: <span style=\"color: #008080; text-decoration-color: #008080; text-decoration: underline\">link_eli_id</span> and type: <span style=\"font-weight: bold\">&lt;</span><span style=\"color: #ff00ff; text-decoration-color: #ff00ff; font-weight: bold\">class</span><span style=\"color: #000000; text-decoration-color: #000000\"> </span><span style=\"color: #008000; text-decoration-color: #008000\">'str'</span><span style=\"font-weight: bold\">&gt;</span> found\n</pre>\n"
     },
     "metadata": {}
    },
    {
     "output_type": "display_data",
     "data": {
      "text/plain": "Attribute with name: \u001b[4;36mlink_eli_type\u001b[0m and type: \u001b[1m<\u001b[0m\u001b[1;95mclass\u001b[0m\u001b[39m \u001b[0m\u001b[32m'str'\u001b[0m\u001b[1m>\u001b[0m found\n",
      "text/html": "<pre style=\"white-space:pre;overflow-x:auto;line-height:normal;font-family:Menlo,'DejaVu Sans Mono',consolas,'Courier New',monospace\">Attribute with name: <span style=\"color: #008080; text-decoration-color: #008080; text-decoration: underline\">link_eli_type</span> and type: <span style=\"font-weight: bold\">&lt;</span><span style=\"color: #ff00ff; text-decoration-color: #ff00ff; font-weight: bold\">class</span><span style=\"color: #000000; text-decoration-color: #000000\"> </span><span style=\"color: #008000; text-decoration-color: #008000\">'str'</span><span style=\"font-weight: bold\">&gt;</span> found\n</pre>\n"
     },
     "metadata": {}
    },
    {
     "output_type": "display_data",
     "data": {
      "text/plain": "Attribute with name: \u001b[4;36mid\u001b[0m and type: \u001b[1m<\u001b[0m\u001b[1;95mclass\u001b[0m\u001b[39m \u001b[0m\u001b[32m'str'\u001b[0m\u001b[1m>\u001b[0m found\n",
      "text/html": "<pre style=\"white-space:pre;overflow-x:auto;line-height:normal;font-family:Menlo,'DejaVu Sans Mono',consolas,'Courier New',monospace\">Attribute with name: <span style=\"color: #008080; text-decoration-color: #008080; text-decoration: underline\">id</span> and type: <span style=\"font-weight: bold\">&lt;</span><span style=\"color: #ff00ff; text-decoration-color: #ff00ff; font-weight: bold\">class</span><span style=\"color: #000000; text-decoration-color: #000000\"> </span><span style=\"color: #008000; text-decoration-color: #008000\">'str'</span><span style=\"font-weight: bold\">&gt;</span> found\n</pre>\n"
     },
     "metadata": {}
    },
    {
     "output_type": "display_data",
     "data": {
      "text/plain": "Attribute with name: \u001b[4;36marticle_number\u001b[0m and type: \u001b[1m<\u001b[0m\u001b[1;95mclass\u001b[0m\u001b[39m \u001b[0m\u001b[32m'int'\u001b[0m\u001b[1m>\u001b[0m found\n",
      "text/html": "<pre style=\"white-space:pre;overflow-x:auto;line-height:normal;font-family:Menlo,'DejaVu Sans Mono',consolas,'Courier New',monospace\">Attribute with name: <span style=\"color: #008080; text-decoration-color: #008080; text-decoration: underline\">article_number</span> and type: <span style=\"font-weight: bold\">&lt;</span><span style=\"color: #ff00ff; text-decoration-color: #ff00ff; font-weight: bold\">class</span><span style=\"color: #000000; text-decoration-color: #000000\"> </span><span style=\"color: #008000; text-decoration-color: #008000\">'int'</span><span style=\"font-weight: bold\">&gt;</span> found\n</pre>\n"
     },
     "metadata": {}
    },
    {
     "output_type": "display_data",
     "data": {
      "text/plain": "Attribute with name: \u001b[4;36marticle_text\u001b[0m and type: \u001b[1m<\u001b[0m\u001b[1;95mclass\u001b[0m\u001b[39m \u001b[0m\u001b[32m'str'\u001b[0m\u001b[1m>\u001b[0m found\n",
      "text/html": "<pre style=\"white-space:pre;overflow-x:auto;line-height:normal;font-family:Menlo,'DejaVu Sans Mono',consolas,'Courier New',monospace\">Attribute with name: <span style=\"color: #008080; text-decoration-color: #008080; text-decoration: underline\">article_text</span> and type: <span style=\"font-weight: bold\">&lt;</span><span style=\"color: #ff00ff; text-decoration-color: #ff00ff; font-weight: bold\">class</span><span style=\"color: #000000; text-decoration-color: #000000\"> </span><span style=\"color: #008000; text-decoration-color: #008000\">'str'</span><span style=\"font-weight: bold\">&gt;</span> found\n</pre>\n"
     },
     "metadata": {}
    },
    {
     "output_type": "display_data",
     "data": {
      "text/plain": "Interface built\n",
      "text/html": "<pre style=\"white-space:pre;overflow-x:auto;line-height:normal;font-family:Menlo,'DejaVu Sans Mono',consolas,'Courier New',monospace\">Interface built\n</pre>\n"
     },
     "metadata": {}
    },
    {
     "output_type": "display_data",
     "data": {
      "text/plain": "Path: \u001b[3mbuild/skeleton/document.ts\u001b[0m\n",
      "text/html": "<pre style=\"white-space:pre;overflow-x:auto;line-height:normal;font-family:Menlo,'DejaVu Sans Mono',consolas,'Courier New',monospace\">Path: <span style=\"font-style: italic\">build/skeleton/document.ts</span>\n</pre>\n"
     },
     "metadata": {}
    }
   ],
   "source": [
    "import textwrap\n",
    "\n",
    "console.rule(\"Interface [cyan underline]document.ts\")\n",
    "\n",
    "hits_file = f\"{folder_build_task_path}hits.json\"\n",
    "document_interface = f\"{folder_build_skeleton_path}document.ts\"\n",
    "if not os.path.exists(folder_build_skeleton_path):\n",
    "    os.makedirs(folder_build_skeleton_path, exist_ok=True)\n",
    "\n",
    "console.print(f\"Reading hits file\")\n",
    "console.print(f\"Path: [italic]{hits_file}[/italic]\")\n",
    "hits = read_json(hits_file)\n",
    "sample_element = hits.pop()['documents'].pop()\n",
    "\n",
    "if not 'id' in sample_element.keys():\n",
    "    raise Exception(\"[red]Your [underline]hits.json[/underline] file contains an attributed called [underline]\\\"id\\\"[/underline]?\")\n",
    "\n",
    "# This class provides a representation of a single document stored in single hit stored in the Amazon S3 bucket.\n",
    "# The attribute <document_index> is additional and should not be touched and passed in the constructor.\n",
    "# Each field of such Document must be mapped to an attribute of this class and set up in the constructor as it is shown.\n",
    "\n",
    "with open(document_interface, 'w') as file:\n",
    "    print(\"export class Document {\", file=file)\n",
    "    print(\"\", file=file)\n",
    "    wrapper = textwrap.TextWrapper(initial_indent='\\t\\t', subsequent_indent='\\t\\t')\n",
    "    print(wrapper.fill(\"index: number;\"), file=file)\n",
    "    print(wrapper.fill(\"countdownExpired: boolean;\"), file=file)\n",
    "    for attribute, value in sample_element.items():\n",
    "        try:\n",
    "            element = json.loads(value)\n",
    "            if isinstance(element, dict):\n",
    "                print(wrapper.fill(f\"{attribute}: Array<JSON>;\"), file=file)\n",
    "            elif isinstance(element, int) or isinstance(element, float):\n",
    "                print(wrapper.fill(f\"{attribute}: number;\"), file=file)\n",
    "            elif isinstance(element, list):\n",
    "                print(wrapper.fill(f\"{attribute}: Array<String>;\"), file=file)\n",
    "            else:\n",
    "                print(wrapper.fill(f\"{attribute}: string;\"), file=file)\n",
    "            console.print(f\"Attribute with name: [cyan underline]{attribute}[/cyan underline] and type: {type(element)} found\")\n",
    "        except (TypeError, ValueError) as e:\n",
    "            if isinstance(value, list):\n",
    "                print(wrapper.fill(f\"{attribute}: Array<String>;\"), file=file)\n",
    "            elif isinstance(value, int) or isinstance(value, float):\n",
    "                print(wrapper.fill(f\"{attribute}: number;\"), file=file)\n",
    "            else:\n",
    "                print(wrapper.fill(f\"{attribute}: string;\"), file=file)\n",
    "            console.print(f\"Attribute with name: [cyan underline]{attribute}[/cyan underline] and type: {type(value)} found\")\n",
    "    print(\"\", file=file)\n",
    "    print(wrapper.fill(f\"constructor (\"), file=file)\n",
    "    wrapper = textwrap.TextWrapper(initial_indent='\\t\\t\\t', subsequent_indent='\\t\\t\\t')\n",
    "    print(wrapper.fill(\"index: number,\"), file=file)\n",
    "    print(wrapper.fill(\"data: JSON\"), file=file)\n",
    "    wrapper = textwrap.TextWrapper(initial_indent='\\t\\t', subsequent_indent='\\t\\t')\n",
    "    print(wrapper.fill(\") {\"), file=file)\n",
    "    print(\"\", file=file)\n",
    "    wrapper = textwrap.TextWrapper(initial_indent='\\t\\t\\t', subsequent_indent='\\t\\t\\t')\n",
    "    print(wrapper.fill(\"this.index = index\"), file=file)\n",
    "    for attribute, value in sample_element.items():\n",
    "        try:\n",
    "            element = json.loads(value)\n",
    "            if isinstance(element, dict):\n",
    "                print(wrapper.fill(f\"this.{attribute} = new Array<JSON>()\"), file=file)\n",
    "                print(wrapper.fill(f\"for (let index = 0; index < data[\\\"{attribute}\\\"].length; index++) this.{attribute}.push(data[\\\"{attribute}\\\"][index])\"), file=file)\n",
    "            elif isinstance(element, list):\n",
    "                print(wrapper.fill(f\"this.{attribute} = new Array<String>()\"), file=file)\n",
    "                print(wrapper.fill(f\"for (let index = 0; index < data[\\\"{attribute}\\\"].length; index++) this.{attribute}.push(data[\\\"{attribute}\\\"])\"), file=file)\n",
    "            else:\n",
    "                wrapper = textwrap.TextWrapper(initial_indent='\\t\\t\\t', subsequent_indent='\\t\\t\\t')\n",
    "                print(wrapper.fill(f\"this.{attribute} = data[\\\"{attribute}\\\"]\"), file=file)\n",
    "        except (TypeError, ValueError) as e:\n",
    "            if isinstance(value, list):\n",
    "                print(wrapper.fill(f\"this.{attribute} = new Array<String>()\"), file=file)\n",
    "                print(wrapper.fill(f\"for (let index = 0; index < data[\\\"{attribute}\\\"].length; index++) this.{attribute}.push(data[\\\"{attribute}\\\"])\"), file=file)\n",
    "            else:\n",
    "                wrapper = textwrap.TextWrapper(initial_indent='\\t\\t\\t', subsequent_indent='\\t\\t\\t')\n",
    "                print(wrapper.fill(f\"this.{attribute} = data[\\\"{attribute}\\\"]\"), file=file)\n",
    "    wrapper = textwrap.TextWrapper(initial_indent='\\t\\t', subsequent_indent='\\t\\t')\n",
    "    print(\"\", file=file)\n",
    "    print(wrapper.fill(\"}\"), file=file)\n",
    "    print(\"\", file=file)\n",
    "    print(\"}\", file=file)\n",
    "\n",
    "console.print(\"Interface built\")\n",
    "console.print(f\"Path: [italic]{document_interface}[/italic]\")"
   ]
  },
  {
   "cell_type": "markdown",
   "metadata": {},
   "source": [
    "## Section 7 - Amazon Mechanical Turk assets generation\n",
    "### build/mturk"
   ]
  },
  {
   "cell_type": "code",
   "execution_count": 19,
   "metadata": {
    "pycharm": {
     "name": "#%%\n"
    }
   },
   "outputs": [
    {
     "output_type": "display_data",
     "data": {
      "text/plain": "\u001b[92m──────────────────────────── \u001b[0mAmazon Mechanical Turk landing page\u001b[92m ────────────────────────────\u001b[0m\n",
      "text/html": "<pre style=\"white-space:pre;overflow-x:auto;line-height:normal;font-family:Menlo,'DejaVu Sans Mono',consolas,'Courier New',monospace\"><span style=\"color: #00ff00; text-decoration-color: #00ff00\">──────────────────────────── </span>Amazon Mechanical Turk landing page<span style=\"color: #00ff00; text-decoration-color: #00ff00\"> ────────────────────────────</span>\n</pre>\n"
     },
     "metadata": {}
    },
    {
     "output_type": "display_data",
     "data": {
      "text/plain": "Model istantiated\n",
      "text/html": "<pre style=\"white-space:pre;overflow-x:auto;line-height:normal;font-family:Menlo,'DejaVu Sans Mono',consolas,'Courier New',monospace\">Model istantiated\n</pre>\n"
     },
     "metadata": {}
    },
    {
     "output_type": "display_data",
     "data": {
      "text/plain": "Path: build/mturk/index.html\n",
      "text/html": "<pre style=\"white-space:pre;overflow-x:auto;line-height:normal;font-family:Menlo,'DejaVu Sans Mono',consolas,'Courier New',monospace\">Path: build/mturk/index.html\n</pre>\n"
     },
     "metadata": {}
    },
    {
     "output_type": "display_data",
     "data": {
      "text/plain": "Loading \u001b[4;36mhits.json\u001b[0m file\n",
      "text/html": "<pre style=\"white-space:pre;overflow-x:auto;line-height:normal;font-family:Menlo,'DejaVu Sans Mono',consolas,'Courier New',monospace\">Loading <span style=\"color: #008080; text-decoration-color: #008080; text-decoration: underline\">hits.json</span> file\n</pre>\n"
     },
     "metadata": {}
    },
    {
     "output_type": "display_data",
     "data": {
      "text/plain": "Path: build/task/hits.json\n",
      "text/html": "<pre style=\"white-space:pre;overflow-x:auto;line-height:normal;font-family:Menlo,'DejaVu Sans Mono',consolas,'Courier New',monospace\">Path: build/task/hits.json\n</pre>\n"
     },
     "metadata": {}
    },
    {
     "output_type": "display_data",
     "data": {
      "text/plain": "Tokens for \u001b[1;36m120\u001b[0m generated\n",
      "text/html": "<pre style=\"white-space:pre;overflow-x:auto;line-height:normal;font-family:Menlo,'DejaVu Sans Mono',consolas,'Courier New',monospace\">Tokens for <span style=\"color: #008080; text-decoration-color: #008080; font-weight: bold\">120</span> generated\n</pre>\n"
     },
     "metadata": {}
    },
    {
     "output_type": "display_data",
     "data": {
      "text/plain": "Path: \u001b[3mbuild/mturk/tokens.csv\u001b[0m\n",
      "text/html": "<pre style=\"white-space:pre;overflow-x:auto;line-height:normal;font-family:Menlo,'DejaVu Sans Mono',consolas,'Courier New',monospace\">Path: <span style=\"font-style: italic\">build/mturk/tokens.csv</span>\n</pre>\n"
     },
     "metadata": {}
    }
   ],
   "source": [
    "from mako.template import Template\n",
    "\n",
    "console.rule(\"Amazon Mechanical Turk landing page\")\n",
    "\n",
    "model = Template(filename=f\"{folder_build_mturk_path}model.html\")\n",
    "mturk_page = model.render(\n",
    "    aws_region = aws_region,\n",
    "    aws_deploy_bucket = aws_deploy_bucket,\n",
    "    task_name = task_name,\n",
    "    batch_name = batch_name\n",
    ")\n",
    "mturk_page_file = f\"{folder_build_mturk_path}index.html\"\n",
    "with open(mturk_page_file, 'w') as file:\n",
    "    print(mturk_page, file=file)\n",
    "\n",
    "console.print(f\"Model istantiated\")\n",
    "console.print(f\"Path: {mturk_page_file}\")\n",
    "\n",
    "hits_file = f\"{folder_build_task_path}hits.json\"\n",
    "mturk_tokens_file = f\"{folder_build_mturk_path}tokens.csv\"\n",
    "console.print(f\"Loading [cyan underline]hits.json[/cyan underline] file\")\n",
    "console.print(f\"Path: [ital]{hits_file}\")\n",
    "hits = read_json(hits_file)\n",
    "token_df = pd.DataFrame(columns=[\"token_input\", \"token_output\"])\n",
    "for hit in hits:\n",
    "    token_df = token_df.append({\n",
    "        \"token_input\": hit['token_input'],\n",
    "        \"token_output\": hit['token_output']\n",
    "    }, ignore_index=True)\n",
    "token_df.to_csv(mturk_tokens_file, index=False)\n",
    "console.print(f\"Tokens for {len(hits)} generated\")\n",
    "console.print(f\"Path: [italic]{mturk_tokens_file}\")"
   ]
  },
  {
   "cell_type": "markdown",
   "metadata": {},
   "source": [
    "## Section 8 - Angular Application Build\n",
    "### build/deploy"
   ]
  },
  {
   "cell_type": "code",
   "execution_count": 18,
   "metadata": {
    "pycharm": {
     "name": "#%%\n"
    }
   },
   "outputs": [
    {
     "output_type": "display_data",
     "data": {
      "text/plain": "\u001b[92m─────────────────────────────── \u001b[0mTask \u001b[4;36mItalianLaws\u001b[0m/\u001b[4;33mTest-\u001b[0m\u001b[1;4;33m1\u001b[0m build\u001b[92m ───────────────────────────────\u001b[0m\n",
      "text/html": "<pre style=\"white-space:pre;overflow-x:auto;line-height:normal;font-family:Menlo,'DejaVu Sans Mono',consolas,'Courier New',monospace\"><span style=\"color: #00ff00; text-decoration-color: #00ff00\">─────────────────────────────── </span>Task <span style=\"color: #008080; text-decoration-color: #008080; text-decoration: underline\">ItalianLaws</span>/<span style=\"color: #808000; text-decoration-color: #808000; text-decoration: underline\">Test-</span><span style=\"color: #808000; text-decoration-color: #808000; font-weight: bold; text-decoration: underline\">1</span> build<span style=\"color: #00ff00; text-decoration-color: #00ff00\"> ───────────────────────────────</span>\n</pre>\n"
     },
     "metadata": {}
    },
    {
     "output_type": "display_data",
     "data": {
      "text/plain": "Output()",
      "application/vnd.jupyter.widget-view+json": {
       "version_major": 2,
       "version_minor": 0,
       "model_id": "b6a3a464266648e7928e8ea5323d69f3"
      }
     },
     "metadata": {}
    },
    {
     "output_type": "display_data",
     "data": {
      "text/plain": "Executing command\n",
      "text/html": "<pre style=\"white-space:pre;overflow-x:auto;line-height:normal;font-family:Menlo,'DejaVu Sans Mono',consolas,'Courier New',monospace\">Executing command\n</pre>\n"
     },
     "metadata": {}
    },
    {
     "output_type": "display_data",
     "data": {
      "text/plain": "\u001b[32;40mng build --\u001b[0m\u001b[32;40mconfiguration\u001b[0m\u001b[32;40m=\u001b[0m\u001b[32;40m\"production\"\u001b[0m\u001b[32;40m --output-\u001b[0m\u001b[32;40mhashing\u001b[0m\u001b[32;40m=\u001b[0m\u001b[32;40mnone\u001b[0m\n",
      "text/html": "<pre style=\"white-space:pre;overflow-x:auto;line-height:normal;font-family:Menlo,'DejaVu Sans Mono',consolas,'Courier New',monospace\"><span style=\"color: #008000; text-decoration-color: #008000; background-color: #000000\">ng build --</span><span style=\"color: #008000; text-decoration-color: #008000; background-color: #000000\">configuration</span><span style=\"color: #008000; text-decoration-color: #008000; background-color: #000000\">=</span><span style=\"color: #008000; text-decoration-color: #008000; background-color: #000000\">\"production\"</span><span style=\"color: #008000; text-decoration-color: #008000; background-color: #000000\"> --output-</span><span style=\"color: #008000; text-decoration-color: #008000; background-color: #000000\">hashing</span><span style=\"color: #008000; text-decoration-color: #008000; background-color: #000000\">=</span><span style=\"color: #008000; text-decoration-color: #008000; background-color: #000000\">none</span>\n</pre>\n"
     },
     "metadata": {}
    },
    {
     "output_type": "display_data",
     "data": {
      "text/plain": "Please wait\u001b[33m...\u001b[0m\n",
      "text/html": "<pre style=\"white-space:pre;overflow-x:auto;line-height:normal;font-family:Menlo,'DejaVu Sans Mono',consolas,'Courier New',monospace\">Please wait<span style=\"color: #808000; text-decoration-color: #808000\">...</span>\n</pre>\n"
     },
     "metadata": {}
    },
    {
     "output_type": "display_data",
     "data": {
      "text/plain": "Initial Chunk Files | Names         |      Size\n",
      "text/html": "<pre style=\"white-space:pre;overflow-x:auto;line-height:normal;font-family:Menlo,'DejaVu Sans Mono',consolas,'Courier New',monospace\">Initial Chunk Files | Names         |      Size\n</pre>\n"
     },
     "metadata": {}
    },
    {
     "output_type": "display_data",
     "data": {
      "text/plain": "main.js             | main          |   \u001b[1;36m4.95\u001b[0m MB\n",
      "text/html": "<pre style=\"white-space:pre;overflow-x:auto;line-height:normal;font-family:Menlo,'DejaVu Sans Mono',consolas,'Courier New',monospace\">main.js             | main          |   <span style=\"color: #008080; text-decoration-color: #008080; font-weight: bold\">4.95</span> MB\n</pre>\n"
     },
     "metadata": {}
    },
    {
     "output_type": "display_data",
     "data": {
      "text/plain": "styles.css          | styles        | \u001b[1;36m144.13\u001b[0m kB\n",
      "text/html": "<pre style=\"white-space:pre;overflow-x:auto;line-height:normal;font-family:Menlo,'DejaVu Sans Mono',consolas,'Courier New',monospace\">styles.css          | styles        | <span style=\"color: #008080; text-decoration-color: #008080; font-weight: bold\">144.13</span> kB\n</pre>\n"
     },
     "metadata": {}
    },
    {
     "output_type": "display_data",
     "data": {
      "text/plain": "polyfills.js        | polyfills     |  \u001b[1;36m44.17\u001b[0m kB\n",
      "text/html": "<pre style=\"white-space:pre;overflow-x:auto;line-height:normal;font-family:Menlo,'DejaVu Sans Mono',consolas,'Courier New',monospace\">polyfills.js        | polyfills     |  <span style=\"color: #008080; text-decoration-color: #008080; font-weight: bold\">44.17</span> kB\n</pre>\n"
     },
     "metadata": {}
    },
    {
     "output_type": "display_data",
     "data": {
      "text/plain": "runtime.js          | runtime       |   \u001b[1;36m1.10\u001b[0m kB\n",
      "text/html": "<pre style=\"white-space:pre;overflow-x:auto;line-height:normal;font-family:Menlo,'DejaVu Sans Mono',consolas,'Courier New',monospace\">runtime.js          | runtime       |   <span style=\"color: #008080; text-decoration-color: #008080; font-weight: bold\">1.10</span> kB\n</pre>\n"
     },
     "metadata": {}
    },
    {
     "output_type": "display_data",
     "data": {
      "text/plain": "Initial Total |   \u001b[1;36m5.14\u001b[0m MB\n",
      "text/html": "<pre style=\"white-space:pre;overflow-x:auto;line-height:normal;font-family:Menlo,'DejaVu Sans Mono',consolas,'Courier New',monospace\">Initial Total |   <span style=\"color: #008080; text-decoration-color: #008080; font-weight: bold\">5.14</span> MB\n</pre>\n"
     },
     "metadata": {}
    },
    {
     "output_type": "display_data",
     "data": {
      "text/plain": "Build at: \u001b[1;36m2021\u001b[0m-\u001b[1;36m06\u001b[0m-01T\u001b[1;92m13:14:10\u001b[0m.758Z - Hash: 2476ea69a7e97211cfc0 - Time: 87276ms\n",
      "text/html": "<pre style=\"white-space:pre;overflow-x:auto;line-height:normal;font-family:Menlo,'DejaVu Sans Mono',consolas,'Courier New',monospace\">Build at: <span style=\"color: #008080; text-decoration-color: #008080; font-weight: bold\">2021</span>-<span style=\"color: #008080; text-decoration-color: #008080; font-weight: bold\">06</span>-01T<span style=\"color: #00ff00; text-decoration-color: #00ff00; font-weight: bold\">13:14:10</span>.758Z - Hash: 2476ea69a7e97211cfc0 - Time: 87276ms\n</pre>\n"
     },
     "metadata": {}
    },
    {
     "output_type": "display_data",
     "data": {
      "text/plain": "Merging Javascript assets\n",
      "text/html": "<pre style=\"white-space:pre;overflow-x:auto;line-height:normal;font-family:Menlo,'DejaVu Sans Mono',consolas,'Courier New',monospace\">Merging Javascript assets\n</pre>\n"
     },
     "metadata": {}
    },
    {
     "output_type": "display_data",
     "data": {
      "text/plain": "Processing file: \u001b[3;38;5;129;40m..\u001b[0m\u001b[3;38;5;129;40m/dist/Crowd_Frame/\u001b[0m\u001b[3;38;5;129;40mmain.js\u001b[0m\n",
      "text/html": "<pre style=\"white-space:pre;overflow-x:auto;line-height:normal;font-family:Menlo,'DejaVu Sans Mono',consolas,'Courier New',monospace\">Processing file: <span style=\"color: #af00ff; text-decoration-color: #af00ff; background-color: #000000; font-style: italic\">../dist/Crowd_Frame/main.js</span>\n</pre>\n"
     },
     "metadata": {}
    },
    {
     "output_type": "display_data",
     "data": {
      "text/plain": "Processing file: \u001b[3;38;5;129;40m..\u001b[0m\u001b[3;38;5;129;40m/dist/Crowd_Frame/\u001b[0m\u001b[3;38;5;129;40mruntime.js\u001b[0m\n",
      "text/html": "<pre style=\"white-space:pre;overflow-x:auto;line-height:normal;font-family:Menlo,'DejaVu Sans Mono',consolas,'Courier New',monospace\">Processing file: <span style=\"color: #af00ff; text-decoration-color: #af00ff; background-color: #000000; font-style: italic\">../dist/Crowd_Frame/runtime.js</span>\n</pre>\n"
     },
     "metadata": {}
    },
    {
     "output_type": "display_data",
     "data": {
      "text/plain": "Path: \u001b[3mbuild/deploy/scripts.js\u001b[0m\n",
      "text/html": "<pre style=\"white-space:pre;overflow-x:auto;line-height:normal;font-family:Menlo,'DejaVu Sans Mono',consolas,'Courier New',monospace\">Path: <span style=\"font-style: italic\">build/deploy/scripts.js</span>\n</pre>\n"
     },
     "metadata": {}
    },
    {
     "output_type": "display_data",
     "data": {
      "text/plain": "Merging CSS assets\n",
      "text/html": "<pre style=\"white-space:pre;overflow-x:auto;line-height:normal;font-family:Menlo,'DejaVu Sans Mono',consolas,'Courier New',monospace\">Merging CSS assets\n</pre>\n"
     },
     "metadata": {}
    },
    {
     "output_type": "display_data",
     "data": {
      "text/plain": "Processing file: \u001b[3;36;40m..\u001b[0m\u001b[3;36;40m/dist/Crowd_Frame/\u001b[0m\u001b[3;36;40mstyles.css\u001b[0m\n",
      "text/html": "<pre style=\"white-space:pre;overflow-x:auto;line-height:normal;font-family:Menlo,'DejaVu Sans Mono',consolas,'Courier New',monospace\">Processing file: <span style=\"color: #008080; text-decoration-color: #008080; background-color: #000000; font-style: italic\">../dist/Crowd_Frame/styles.css</span>\n</pre>\n"
     },
     "metadata": {}
    },
    {
     "output_type": "display_data",
     "data": {
      "text/plain": "Path: \u001b[3;4mbuild/deploy/styles.css\u001b[0m\n",
      "text/html": "<pre style=\"white-space:pre;overflow-x:auto;line-height:normal;font-family:Menlo,'DejaVu Sans Mono',consolas,'Courier New',monospace\">Path: <span style=\"font-style: italic; text-decoration: underline\">build/deploy/styles.css</span>\n</pre>\n"
     },
     "metadata": {}
    },
    {
     "output_type": "display_data",
     "data": {
      "text/plain": "Deleting build folder\n",
      "text/html": "<pre style=\"white-space:pre;overflow-x:auto;line-height:normal;font-family:Menlo,'DejaVu Sans Mono',consolas,'Courier New',monospace\">Deleting build folder\n</pre>\n"
     },
     "metadata": {}
    },
    {
     "output_type": "display_data",
     "data": {
      "text/plain": "Path: \u001b[3;4m..\u001b[0m\u001b[3;4;35m/dist/\u001b[0m\n",
      "text/html": "<pre style=\"white-space:pre;overflow-x:auto;line-height:normal;font-family:Menlo,'DejaVu Sans Mono',consolas,'Courier New',monospace\">Path: <span style=\"font-style: italic; text-decoration: underline\">..</span><span style=\"color: #800080; text-decoration-color: #800080; font-style: italic; text-decoration: underline\">/dist/</span>\n</pre>\n"
     },
     "metadata": {}
    },
    {
     "output_type": "display_data",
     "data": {
      "text/plain": "Model istantiated\n",
      "text/html": "<pre style=\"white-space:pre;overflow-x:auto;line-height:normal;font-family:Menlo,'DejaVu Sans Mono',consolas,'Courier New',monospace\">Model istantiated\n</pre>\n"
     },
     "metadata": {}
    },
    {
     "output_type": "display_data",
     "data": {
      "text/plain": "Path: \u001b[3;4mbuild/deploy/index.html\u001b[0m\n",
      "text/html": "<pre style=\"white-space:pre;overflow-x:auto;line-height:normal;font-family:Menlo,'DejaVu Sans Mono',consolas,'Courier New',monospace\">Path: <span style=\"font-style: italic; text-decoration: underline\">build/deploy/index.html</span>\n</pre>\n"
     },
     "metadata": {}
    }
   ],
   "source": [
    "import subprocess\n",
    "import shutil\n",
    "from mako.template import Template\n",
    "import time\n",
    "\n",
    "folder_build_result = f\"../dist/\"\n",
    "\n",
    "console.rule(f\"Task [cyan underline]{task_name}[/cyan underline]/[yellow underline]{batch_name}[/yellow underline] build\")\n",
    "\n",
    "\n",
    "with Progress() as progress:\n",
    "\n",
    "    task = progress.add_task(\"Angular application build\", total=5)\n",
    "\n",
    "    while not progress.finished:\n",
    "        console.print(\"Executing command\")\n",
    "        command = \"ng build --configuration=\\\"production\\\" --output-hashing=none\"\n",
    "        console.print(f\"[green on black]{command}\")\n",
    "        console.print(f\"Please wait...\")\n",
    "        process = subprocess.Popen(command, shell=True, stdout=subprocess.PIPE)\n",
    "        for line in process.stdout:\n",
    "            line_clean = line.decode().strip()\n",
    "            if \"Initial Total\" in line_clean:\n",
    "                line_clean = line_clean[2:]\n",
    "            if line_clean!=\"\":\n",
    "                console.print(line_clean)\n",
    "        process.wait()\n",
    "\n",
    "        progress.update(task, advance=1, refresh=True)\n",
    "\n",
    "        console.print(\"Merging Javascript assets\")\n",
    "        script_merged_file = f\"{folder_build_deploy_path}scripts.js\"\n",
    "        es_scripts = [\n",
    "            'main.js',\n",
    "            'polyfills.js',\n",
    "            'runtime.js'\n",
    "        ]\n",
    "        with open(script_merged_file, 'w') as outfile:\n",
    "            for file in es_scripts:\n",
    "                script_current_file = f\"{folder_build_result}Crowd_Frame/{file}\"\n",
    "                console.print(f\"Processing file: [italic purple on black]{script_current_file}\")\n",
    "                with open(script_current_file) as script:\n",
    "                    for line in script:\n",
    "                        outfile.write(line)\n",
    "        console.print(f\"Path: [italic]{script_merged_file}\")\n",
    "\n",
    "        progress.update(task, advance=1, refresh=True)\n",
    "\n",
    "        console.print(\"Merging CSS assets\")\n",
    "        styles_merged_file = f\"{folder_build_deploy_path}styles.css\"\n",
    "        css_styles = ['styles.css',]\n",
    "        with open(styles_merged_file, 'w') as outfile:\n",
    "            for file in css_styles:\n",
    "                style_current_file = f\"{folder_build_result}Crowd_Frame/{file}\"\n",
    "                console.print(f\"Processing file: [italic cyan on black]{style_current_file}\")\n",
    "                with open(style_current_file) as style:\n",
    "                    for line in style:\n",
    "                        outfile.write(line)\n",
    "        console.print(f\"Path: [italic underline]{styles_merged_file}\")\n",
    "\n",
    "        progress.update(task, advance=1, refresh=True)\n",
    "\n",
    "        console.print(\"Deleting build folder\")\n",
    "        console.print(f\"Path: [italic underline]{folder_build_result}\")\n",
    "        shutil.rmtree(folder_build_result)\n",
    "\n",
    "        model = Template(filename=f\"{folder_build_deploy_path}model.html\")\n",
    "        index_page = model.render(\n",
    "            task_name = task_name,\n",
    "            batch_name = batch_name\n",
    "        )\n",
    "        index_page_file = f\"{folder_build_deploy_path}index.html\"\n",
    "        with open(index_page_file, 'w') as file:\n",
    "            print(index_page, file=file)\n",
    "\n",
    "        progress.update(task, advance=1, refresh=True)\n",
    "\n",
    "        console.print(\"Model istantiated\")\n",
    "        console.print(f\"Path: [italic underline]{index_page_file}\")\n",
    "\n",
    "        progress.update(task, advance=1, refresh=True)"
   ]
  },
  {
   "cell_type": "markdown",
   "metadata": {
    "pycharm": {
     "name": "#%% md\n"
    }
   },
   "source": [
    "## Section 9 - Packaging\n",
    "### tasks/task_name/batch_name"
   ]
  },
  {
   "cell_type": "code",
   "execution_count": 73,
   "metadata": {
    "pycharm": {
     "name": "#%%\n"
    }
   },
   "outputs": [
    {
     "output_type": "display_data",
     "data": {
      "text/plain": "\u001b[92m──────────────────────── \u001b[0mPackaging task in \u001b[4;36mtasks/ItalianLaws/Test-\u001b[0m\u001b[1;4;36m1\u001b[0m\u001b[92m ─────────────────────────\u001b[0m\n",
      "text/html": "<pre style=\"white-space:pre;overflow-x:auto;line-height:normal;font-family:Menlo,'DejaVu Sans Mono',consolas,'Courier New',monospace\"><span style=\"color: #00ff00; text-decoration-color: #00ff00\">──────────────────────── </span>Packaging task in <span style=\"color: #008080; text-decoration-color: #008080; text-decoration: underline\">tasks/ItalianLaws/Test-</span><span style=\"color: #008080; text-decoration-color: #008080; font-weight: bold; text-decoration: underline\">1</span><span style=\"color: #00ff00; text-decoration-color: #00ff00\"> ─────────────────────────</span>\n</pre>\n"
     },
     "metadata": {}
    },
    {
     "output_type": "display_data",
     "data": {
      "text/plain": "\u001b[3;38;5;129mdeploy-config\u001b[0m variable: \u001b[3;92mTrue\u001b[0m\n",
      "text/html": "<pre style=\"white-space:pre;overflow-x:auto;line-height:normal;font-family:Menlo,'DejaVu Sans Mono',consolas,'Courier New',monospace\"><span style=\"color: #af00ff; text-decoration-color: #af00ff; font-style: italic\">deploy-config</span> variable: <span style=\"color: #00ff00; text-decoration-color: #00ff00; font-style: italic\">True</span>\n</pre>\n"
     },
     "metadata": {}
    },
    {
     "output_type": "display_data",
     "data": {
      "text/plain": "\u001b[33mDeploy folder already present\u001b[0m\n",
      "text/html": "<pre style=\"white-space:pre;overflow-x:auto;line-height:normal;font-family:Menlo,'DejaVu Sans Mono',consolas,'Courier New',monospace\"><span style=\"color: #808000; text-decoration-color: #808000\">Deploy folder already present</span>\n</pre>\n"
     },
     "metadata": {}
    },
    {
     "output_type": "display_data",
     "data": {
      "text/plain": "Path: \u001b[3mtasks/ItalianLaws/Test-\u001b[0m\u001b[1;3;36m1\u001b[0m\u001b[3m/deploy/\u001b[0m\n",
      "text/html": "<pre style=\"white-space:pre;overflow-x:auto;line-height:normal;font-family:Menlo,'DejaVu Sans Mono',consolas,'Courier New',monospace\">Path: <span style=\"font-style: italic\">tasks/ItalianLaws/Test-</span><span style=\"color: #008080; text-decoration-color: #008080; font-weight: bold; font-style: italic\">1</span><span style=\"font-style: italic\">/deploy/</span>\n</pre>\n"
     },
     "metadata": {}
    },
    {
     "output_type": "display_data",
     "data": {
      "text/plain": "\u001b[33mAmazon Mechanical Turk assets folder already present\u001b[0m\n",
      "text/html": "<pre style=\"white-space:pre;overflow-x:auto;line-height:normal;font-family:Menlo,'DejaVu Sans Mono',consolas,'Courier New',monospace\"><span style=\"color: #808000; text-decoration-color: #808000\">Amazon Mechanical Turk assets folder already present</span>\n</pre>\n"
     },
     "metadata": {}
    },
    {
     "output_type": "display_data",
     "data": {
      "text/plain": "Path: \u001b[3mtasks/ItalianLaws/Test-\u001b[0m\u001b[1;3;36m1\u001b[0m\u001b[3m/mturk/\u001b[0m\n",
      "text/html": "<pre style=\"white-space:pre;overflow-x:auto;line-height:normal;font-family:Menlo,'DejaVu Sans Mono',consolas,'Courier New',monospace\">Path: <span style=\"font-style: italic\">tasks/ItalianLaws/Test-</span><span style=\"color: #008080; text-decoration-color: #008080; font-weight: bold; font-style: italic\">1</span><span style=\"font-style: italic\">/mturk/</span>\n</pre>\n"
     },
     "metadata": {}
    },
    {
     "output_type": "display_data",
     "data": {
      "text/plain": "\u001b[33mTask configuration folder already present\u001b[0m\n",
      "text/html": "<pre style=\"white-space:pre;overflow-x:auto;line-height:normal;font-family:Menlo,'DejaVu Sans Mono',consolas,'Courier New',monospace\"><span style=\"color: #808000; text-decoration-color: #808000\">Task configuration folder already present</span>\n</pre>\n"
     },
     "metadata": {}
    },
    {
     "output_type": "display_data",
     "data": {
      "text/plain": "Path: \u001b[3mtasks/ItalianLaws/Test-\u001b[0m\u001b[1;3;36m1\u001b[0m\u001b[3m/task/\u001b[0m\n",
      "text/html": "<pre style=\"white-space:pre;overflow-x:auto;line-height:normal;font-family:Menlo,'DejaVu Sans Mono',consolas,'Courier New',monospace\">Path: <span style=\"font-style: italic\">tasks/ItalianLaws/Test-</span><span style=\"color: #008080; text-decoration-color: #008080; font-weight: bold; font-style: italic\">1</span><span style=\"font-style: italic\">/task/</span>\n</pre>\n"
     },
     "metadata": {}
    },
    {
     "output_type": "display_data",
     "data": {
      "text/plain": "\u001b[33mGeneral configuration folder already present\u001b[0m\n",
      "text/html": "<pre style=\"white-space:pre;overflow-x:auto;line-height:normal;font-family:Menlo,'DejaVu Sans Mono',consolas,'Courier New',monospace\"><span style=\"color: #808000; text-decoration-color: #808000\">General configuration folder already present</span>\n</pre>\n"
     },
     "metadata": {}
    },
    {
     "output_type": "display_data",
     "data": {
      "text/plain": "Path: \u001b[3mtasks/ItalianLaws/Test-\u001b[0m\u001b[1;3;36m1\u001b[0m\u001b[3m/config/\u001b[0m\n",
      "text/html": "<pre style=\"white-space:pre;overflow-x:auto;line-height:normal;font-family:Menlo,'DejaVu Sans Mono',consolas,'Courier New',monospace\">Path: <span style=\"font-style: italic\">tasks/ItalianLaws/Test-</span><span style=\"color: #008080; text-decoration-color: #008080; font-weight: bold; font-style: italic\">1</span><span style=\"font-style: italic\">/config/</span>\n</pre>\n"
     },
     "metadata": {}
    },
    {
     "output_type": "display_data",
     "data": {
      "text/plain": "Copying files for \u001b[4;34;47mbuild/deploy/\u001b[0m folder\n",
      "text/html": "<pre style=\"white-space:pre;overflow-x:auto;line-height:normal;font-family:Menlo,'DejaVu Sans Mono',consolas,'Courier New',monospace\">Copying files for <span style=\"color: #000080; text-decoration-color: #000080; background-color: #c0c0c0; text-decoration: underline\">build/deploy/</span> folder\n</pre>\n"
     },
     "metadata": {}
    },
    {
     "output_type": "display_data",
     "data": {
      "text/plain": "╭──────────────────────────────────── Javascript Assets ────────────────────────────────────╮\n│ Source: \u001b[3;37;40mbuild/deploy/scripts.js\u001b[0m                                                           │\n│ Destination: \u001b[3;37;40mtasks/ItalianLaws/Test-1/deploy/scripts.js\u001b[0m                                   │\n╰───────────────────────────────────────────────────────────────────────────────────────────╯\n",
      "text/html": "<pre style=\"white-space:pre;overflow-x:auto;line-height:normal;font-family:Menlo,'DejaVu Sans Mono',consolas,'Courier New',monospace\">╭──────────────────────────────────── Javascript Assets ────────────────────────────────────╮\n│ Source: <span style=\"color: #c0c0c0; text-decoration-color: #c0c0c0; background-color: #000000; font-style: italic\">build/deploy/scripts.js</span>                                                           │\n│ Destination: <span style=\"color: #c0c0c0; text-decoration-color: #c0c0c0; background-color: #000000; font-style: italic\">tasks/ItalianLaws/Test-1/deploy/scripts.js</span>                                   │\n╰───────────────────────────────────────────────────────────────────────────────────────────╯\n</pre>\n"
     },
     "metadata": {}
    },
    {
     "output_type": "display_data",
     "data": {
      "text/plain": "╭─────────────────────────────────────── CSS Styles ────────────────────────────────────────╮\n│ Source: \u001b[3;37;40mbuild/deploy/styles.css\u001b[0m                                                           │\n│ Destination: \u001b[3;37;40mtasks/ItalianLaws/Test-1/deploy/styles.css\u001b[0m                                   │\n╰───────────────────────────────────────────────────────────────────────────────────────────╯\n",
      "text/html": "<pre style=\"white-space:pre;overflow-x:auto;line-height:normal;font-family:Menlo,'DejaVu Sans Mono',consolas,'Courier New',monospace\">╭─────────────────────────────────────── CSS Styles ────────────────────────────────────────╮\n│ Source: <span style=\"color: #c0c0c0; text-decoration-color: #c0c0c0; background-color: #000000; font-style: italic\">build/deploy/styles.css</span>                                                           │\n│ Destination: <span style=\"color: #c0c0c0; text-decoration-color: #c0c0c0; background-color: #000000; font-style: italic\">tasks/ItalianLaws/Test-1/deploy/styles.css</span>                                   │\n╰───────────────────────────────────────────────────────────────────────────────────────────╯\n</pre>\n"
     },
     "metadata": {}
    },
    {
     "output_type": "display_data",
     "data": {
      "text/plain": "╭────────────────────────────────────── Task Homepage ──────────────────────────────────────╮\n│ Source: \u001b[3;37;40mbuild/deploy/index.html\u001b[0m                                                           │\n│ Destination: \u001b[3;37;40mtasks/ItalianLaws/Test-1/deploy/index.html\u001b[0m                                   │\n╰───────────────────────────────────────────────────────────────────────────────────────────╯\n",
      "text/html": "<pre style=\"white-space:pre;overflow-x:auto;line-height:normal;font-family:Menlo,'DejaVu Sans Mono',consolas,'Courier New',monospace\">╭────────────────────────────────────── Task Homepage ──────────────────────────────────────╮\n│ Source: <span style=\"color: #c0c0c0; text-decoration-color: #c0c0c0; background-color: #000000; font-style: italic\">build/deploy/index.html</span>                                                           │\n│ Destination: <span style=\"color: #c0c0c0; text-decoration-color: #c0c0c0; background-color: #000000; font-style: italic\">tasks/ItalianLaws/Test-1/deploy/index.html</span>                                   │\n╰───────────────────────────────────────────────────────────────────────────────────────────╯\n</pre>\n"
     },
     "metadata": {}
    },
    {
     "output_type": "display_data",
     "data": {
      "text/plain": "Copying files for \u001b[4;34;47mbuild/mturk/\u001b[0m folder\n",
      "text/html": "<pre style=\"white-space:pre;overflow-x:auto;line-height:normal;font-family:Menlo,'DejaVu Sans Mono',consolas,'Courier New',monospace\">Copying files for <span style=\"color: #000080; text-decoration-color: #000080; background-color: #c0c0c0; text-decoration: underline\">build/mturk/</span> folder\n</pre>\n"
     },
     "metadata": {}
    },
    {
     "output_type": "display_data",
     "data": {
      "text/plain": "╭─────────────────────────── Amazon Mechanical Turk landing page ───────────────────────────╮\n│ Source: \u001b[3;37;40mbuild/mturk/index.html\u001b[0m                                                            │\n│ Destination: \u001b[3;37;40mtasks/ItalianLaws/Test-1/mturk/index.html\u001b[0m                                    │\n╰───────────────────────────────────────────────────────────────────────────────────────────╯\n",
      "text/html": "<pre style=\"white-space:pre;overflow-x:auto;line-height:normal;font-family:Menlo,'DejaVu Sans Mono',consolas,'Courier New',monospace\">╭─────────────────────────── Amazon Mechanical Turk landing page ───────────────────────────╮\n│ Source: <span style=\"color: #c0c0c0; text-decoration-color: #c0c0c0; background-color: #000000; font-style: italic\">build/mturk/index.html</span>                                                            │\n│ Destination: <span style=\"color: #c0c0c0; text-decoration-color: #c0c0c0; background-color: #000000; font-style: italic\">tasks/ItalianLaws/Test-1/mturk/index.html</span>                                    │\n╰───────────────────────────────────────────────────────────────────────────────────────────╯\n</pre>\n"
     },
     "metadata": {}
    },
    {
     "output_type": "display_data",
     "data": {
      "text/plain": "╭─────────────────────────────────────── Hits tokens ───────────────────────────────────────╮\n│ Source: \u001b[3;37;40mbuild/mturk/tokens.csv\u001b[0m                                                            │\n│ Destination: \u001b[3;37;40mtasks/ItalianLaws/Test-1/mturk/tokens.csv\u001b[0m                                    │\n╰───────────────────────────────────────────────────────────────────────────────────────────╯\n",
      "text/html": "<pre style=\"white-space:pre;overflow-x:auto;line-height:normal;font-family:Menlo,'DejaVu Sans Mono',consolas,'Courier New',monospace\">╭─────────────────────────────────────── Hits tokens ───────────────────────────────────────╮\n│ Source: <span style=\"color: #c0c0c0; text-decoration-color: #c0c0c0; background-color: #000000; font-style: italic\">build/mturk/tokens.csv</span>                                                            │\n│ Destination: <span style=\"color: #c0c0c0; text-decoration-color: #c0c0c0; background-color: #000000; font-style: italic\">tasks/ItalianLaws/Test-1/mturk/tokens.csv</span>                                    │\n╰───────────────────────────────────────────────────────────────────────────────────────────╯\n</pre>\n"
     },
     "metadata": {}
    },
    {
     "output_type": "display_data",
     "data": {
      "text/plain": "Copying files for \u001b[4;34;47mbuild/task/\u001b[0m folder\n",
      "text/html": "<pre style=\"white-space:pre;overflow-x:auto;line-height:normal;font-family:Menlo,'DejaVu Sans Mono',consolas,'Courier New',monospace\">Copying files for <span style=\"color: #000080; text-decoration-color: #000080; background-color: #c0c0c0; text-decoration: underline\">build/task/</span> folder\n</pre>\n"
     },
     "metadata": {}
    },
    {
     "output_type": "display_data",
     "data": {
      "text/plain": "╭────────────────────────────────────────── Hits ───────────────────────────────────────────╮\n│ Source: \u001b[3;37;40mbuild/task/hits.json\u001b[0m                                                              │\n│ Destination: \u001b[3;37;40mtasks/ItalianLaws/Test-1/task/hits.json\u001b[0m                                      │\n╰───────────────────────────────────────────────────────────────────────────────────────────╯\n",
      "text/html": "<pre style=\"white-space:pre;overflow-x:auto;line-height:normal;font-family:Menlo,'DejaVu Sans Mono',consolas,'Courier New',monospace\">╭────────────────────────────────────────── Hits ───────────────────────────────────────────╮\n│ Source: <span style=\"color: #c0c0c0; text-decoration-color: #c0c0c0; background-color: #000000; font-style: italic\">build/task/hits.json</span>                                                              │\n│ Destination: <span style=\"color: #c0c0c0; text-decoration-color: #c0c0c0; background-color: #000000; font-style: italic\">tasks/ItalianLaws/Test-1/task/hits.json</span>                                      │\n╰───────────────────────────────────────────────────────────────────────────────────────────╯\n</pre>\n"
     },
     "metadata": {}
    },
    {
     "output_type": "display_data",
     "data": {
      "text/plain": "╭─────────────────────────────────────── Dimensions ────────────────────────────────────────╮\n│ Source: \u001b[3;37;40mbuild/task/dimensions.json\u001b[0m                                                        │\n│ Destination: \u001b[3;37;40mtasks/ItalianLaws/Test-1/task/dimensions.json\u001b[0m                                │\n╰───────────────────────────────────────────────────────────────────────────────────────────╯\n",
      "text/html": "<pre style=\"white-space:pre;overflow-x:auto;line-height:normal;font-family:Menlo,'DejaVu Sans Mono',consolas,'Courier New',monospace\">╭─────────────────────────────────────── Dimensions ────────────────────────────────────────╮\n│ Source: <span style=\"color: #c0c0c0; text-decoration-color: #c0c0c0; background-color: #000000; font-style: italic\">build/task/dimensions.json</span>                                                        │\n│ Destination: <span style=\"color: #c0c0c0; text-decoration-color: #c0c0c0; background-color: #000000; font-style: italic\">tasks/ItalianLaws/Test-1/task/dimensions.json</span>                                │\n╰───────────────────────────────────────────────────────────────────────────────────────────╯\n</pre>\n"
     },
     "metadata": {}
    },
    {
     "output_type": "display_data",
     "data": {
      "text/plain": "╭───────────────────────────────── Assessment Instructions ─────────────────────────────────╮\n│ Source: \u001b[3;37;40mbuild/task/instructions_dimensions.json\u001b[0m                                           │\n│ Destination: \u001b[3;37;40mtasks/ItalianLaws/Test-1/task/instructions_dimensions.json\u001b[0m                   │\n╰───────────────────────────────────────────────────────────────────────────────────────────╯\n",
      "text/html": "<pre style=\"white-space:pre;overflow-x:auto;line-height:normal;font-family:Menlo,'DejaVu Sans Mono',consolas,'Courier New',monospace\">╭───────────────────────────────── Assessment Instructions ─────────────────────────────────╮\n│ Source: <span style=\"color: #c0c0c0; text-decoration-color: #c0c0c0; background-color: #000000; font-style: italic\">build/task/instructions_dimensions.json</span>                                           │\n│ Destination: <span style=\"color: #c0c0c0; text-decoration-color: #c0c0c0; background-color: #000000; font-style: italic\">tasks/ItalianLaws/Test-1/task/instructions_dimensions.json</span>                   │\n╰───────────────────────────────────────────────────────────────────────────────────────────╯\n</pre>\n"
     },
     "metadata": {}
    },
    {
     "output_type": "display_data",
     "data": {
      "text/plain": "╭────────────────────────────────── General Instructions ───────────────────────────────────╮\n│ Source: \u001b[3;37;40mbuild/task/instructions_main.json\u001b[0m                                                 │\n│ Destination: \u001b[3;37;40mtasks/ItalianLaws/Test-1/task/instructions_main.json\u001b[0m                         │\n╰───────────────────────────────────────────────────────────────────────────────────────────╯\n",
      "text/html": "<pre style=\"white-space:pre;overflow-x:auto;line-height:normal;font-family:Menlo,'DejaVu Sans Mono',consolas,'Courier New',monospace\">╭────────────────────────────────── General Instructions ───────────────────────────────────╮\n│ Source: <span style=\"color: #c0c0c0; text-decoration-color: #c0c0c0; background-color: #000000; font-style: italic\">build/task/instructions_main.json</span>                                                 │\n│ Destination: <span style=\"color: #c0c0c0; text-decoration-color: #c0c0c0; background-color: #000000; font-style: italic\">tasks/ItalianLaws/Test-1/task/instructions_main.json</span>                         │\n╰───────────────────────────────────────────────────────────────────────────────────────────╯\n</pre>\n"
     },
     "metadata": {}
    },
    {
     "output_type": "display_data",
     "data": {
      "text/plain": "╭───────────────────────────────────── Questionnaires ──────────────────────────────────────╮\n│ Source: \u001b[3;37;40mbuild/task/questionnaires.json\u001b[0m                                                    │\n│ Destination: \u001b[3;37;40mtasks/ItalianLaws/Test-1/task/questionnaires.json\u001b[0m                            │\n╰───────────────────────────────────────────────────────────────────────────────────────────╯\n",
      "text/html": "<pre style=\"white-space:pre;overflow-x:auto;line-height:normal;font-family:Menlo,'DejaVu Sans Mono',consolas,'Courier New',monospace\">╭───────────────────────────────────── Questionnaires ──────────────────────────────────────╮\n│ Source: <span style=\"color: #c0c0c0; text-decoration-color: #c0c0c0; background-color: #000000; font-style: italic\">build/task/questionnaires.json</span>                                                    │\n│ Destination: <span style=\"color: #c0c0c0; text-decoration-color: #c0c0c0; background-color: #000000; font-style: italic\">tasks/ItalianLaws/Test-1/task/questionnaires.json</span>                            │\n╰───────────────────────────────────────────────────────────────────────────────────────────╯\n</pre>\n"
     },
     "metadata": {}
    },
    {
     "output_type": "display_data",
     "data": {
      "text/plain": "╭────────────────────────────────────── Search Engine ──────────────────────────────────────╮\n│ Source: \u001b[3;37;40mbuild/task/search_engine.json\u001b[0m                                                     │\n│ Destination: \u001b[3;37;40mtasks/ItalianLaws/Test-1/task/search_engine.json\u001b[0m                             │\n╰───────────────────────────────────────────────────────────────────────────────────────────╯\n",
      "text/html": "<pre style=\"white-space:pre;overflow-x:auto;line-height:normal;font-family:Menlo,'DejaVu Sans Mono',consolas,'Courier New',monospace\">╭────────────────────────────────────── Search Engine ──────────────────────────────────────╮\n│ Source: <span style=\"color: #c0c0c0; text-decoration-color: #c0c0c0; background-color: #000000; font-style: italic\">build/task/search_engine.json</span>                                                     │\n│ Destination: <span style=\"color: #c0c0c0; text-decoration-color: #c0c0c0; background-color: #000000; font-style: italic\">tasks/ItalianLaws/Test-1/task/search_engine.json</span>                             │\n╰───────────────────────────────────────────────────────────────────────────────────────────╯\n</pre>\n"
     },
     "metadata": {}
    },
    {
     "output_type": "display_data",
     "data": {
      "text/plain": "╭────────────────────────────────────── Task Settings ──────────────────────────────────────╮\n│ Source: \u001b[3;37;40mbuild/task/task.json\u001b[0m                                                              │\n│ Destination: \u001b[3;37;40mtasks/ItalianLaws/Test-1/task/task.json\u001b[0m                                      │\n╰───────────────────────────────────────────────────────────────────────────────────────────╯\n",
      "text/html": "<pre style=\"white-space:pre;overflow-x:auto;line-height:normal;font-family:Menlo,'DejaVu Sans Mono',consolas,'Courier New',monospace\">╭────────────────────────────────────── Task Settings ──────────────────────────────────────╮\n│ Source: <span style=\"color: #c0c0c0; text-decoration-color: #c0c0c0; background-color: #000000; font-style: italic\">build/task/task.json</span>                                                              │\n│ Destination: <span style=\"color: #c0c0c0; text-decoration-color: #c0c0c0; background-color: #000000; font-style: italic\">tasks/ItalianLaws/Test-1/task/task.json</span>                                      │\n╰───────────────────────────────────────────────────────────────────────────────────────────╯\n</pre>\n"
     },
     "metadata": {}
    },
    {
     "output_type": "display_data",
     "data": {
      "text/plain": "╭──────────────────────────────────── Workers Settings ─────────────────────────────────────╮\n│ Source: \u001b[3;37;40mbuild/task/workers.json\u001b[0m                                                           │\n│ Destination: \u001b[3;37;40mtasks/ItalianLaws/Test-1/task/workers.json\u001b[0m                                   │\n╰───────────────────────────────────────────────────────────────────────────────────────────╯\n",
      "text/html": "<pre style=\"white-space:pre;overflow-x:auto;line-height:normal;font-family:Menlo,'DejaVu Sans Mono',consolas,'Courier New',monospace\">╭──────────────────────────────────── Workers Settings ─────────────────────────────────────╮\n│ Source: <span style=\"color: #c0c0c0; text-decoration-color: #c0c0c0; background-color: #000000; font-style: italic\">build/task/workers.json</span>                                                           │\n│ Destination: <span style=\"color: #c0c0c0; text-decoration-color: #c0c0c0; background-color: #000000; font-style: italic\">tasks/ItalianLaws/Test-1/task/workers.json</span>                                   │\n╰───────────────────────────────────────────────────────────────────────────────────────────╯\n</pre>\n"
     },
     "metadata": {}
    },
    {
     "output_type": "display_data",
     "data": {
      "text/plain": "Copying files for \u001b[4;34;47mtasks/ItalianLaws/Test-\u001b[0m\u001b[1;4;34;47m1\u001b[0m\u001b[4;34;47m/config/\u001b[0m folder\n",
      "text/html": "<pre style=\"white-space:pre;overflow-x:auto;line-height:normal;font-family:Menlo,'DejaVu Sans Mono',consolas,'Courier New',monospace\">Copying files for <span style=\"color: #000080; text-decoration-color: #000080; background-color: #c0c0c0; text-decoration: underline\">tasks/ItalianLaws/Test-</span><span style=\"color: #000080; text-decoration-color: #000080; background-color: #c0c0c0; font-weight: bold; text-decoration: underline\">1</span><span style=\"color: #000080; text-decoration-color: #000080; background-color: #c0c0c0; text-decoration: underline\">/config/</span> folder\n</pre>\n"
     },
     "metadata": {}
    },
    {
     "output_type": "display_data",
     "data": {
      "text/plain": "╭──────────────────────────────────── Admin Credentials ────────────────────────────────────╮\n│ Source: \u001b[3;37;40mbuild/config/admin.json\u001b[0m                                                           │\n│ Destination: \u001b[3;37;40mtasks/ItalianLaws/Test-1/config/admin.json\u001b[0m                                   │\n╰───────────────────────────────────────────────────────────────────────────────────────────╯\n",
      "text/html": "<pre style=\"white-space:pre;overflow-x:auto;line-height:normal;font-family:Menlo,'DejaVu Sans Mono',consolas,'Courier New',monospace\">╭──────────────────────────────────── Admin Credentials ────────────────────────────────────╮\n│ Source: <span style=\"color: #c0c0c0; text-decoration-color: #c0c0c0; background-color: #000000; font-style: italic\">build/config/admin.json</span>                                                           │\n│ Destination: <span style=\"color: #c0c0c0; text-decoration-color: #c0c0c0; background-color: #000000; font-style: italic\">tasks/ItalianLaws/Test-1/config/admin.json</span>                                   │\n╰───────────────────────────────────────────────────────────────────────────────────────────╯\n</pre>\n"
     },
     "metadata": {}
    }
   ],
   "source": [
    "from shutil import copy2\n",
    "\n",
    "console.rule(f\"Packaging task in [cyan underline]tasks/{task_name}/{batch_name}\")\n",
    "\n",
    "folder_tasks_batch_path = f\"{folder_tasks_path}{task_name}/{batch_name}/\"\n",
    "folder_tasks_batch_deploy_path = f\"{folder_tasks_batch_path}deploy/\"\n",
    "folder_tasks_batch_mturk_path = f\"{folder_tasks_batch_path}mturk/\"\n",
    "folder_tasks_batch_task_path = f\"{folder_tasks_batch_path}task/\"\n",
    "folder_tasks_batch_config_path = f\"{folder_tasks_batch_path}config/\"\n",
    "\n",
    "console.print(f\"[italic purple]deploy-config[/italic purple] variable: {bool(deploy_config)}\")\n",
    "\n",
    "if not os.path.exists(folder_tasks_batch_deploy_path):\n",
    "    console.print(\"[green]Deploy folder created\")\n",
    "    os.makedirs(folder_tasks_batch_deploy_path, exist_ok=True)\n",
    "else:\n",
    "    console.print(\"[yellow]Deploy folder already present\")\n",
    "console.print(f\"Path: [italic]{folder_tasks_batch_deploy_path}\")\n",
    "if not os.path.exists(folder_tasks_batch_mturk_path):\n",
    "    console.print(\"[green]Amazon Mechanical Turk assets folder created\")\n",
    "    os.makedirs(folder_tasks_batch_mturk_path, exist_ok=True)\n",
    "else:\n",
    "    console.print(\"[yellow]Amazon Mechanical Turk assets folder already present\")\n",
    "console.print(f\"Path: [italic]{folder_tasks_batch_mturk_path}\")\n",
    "if not os.path.exists(folder_tasks_batch_task_path) and deploy_config:\n",
    "    console.print(\"[green]Task configuration folder created\")\n",
    "    os.makedirs(folder_tasks_batch_task_path, exist_ok=True)\n",
    "else:\n",
    "    console.print(\"[yellow]Task configuration folder already present\")\n",
    "console.print(f\"Path: [italic]{folder_tasks_batch_task_path}\")\n",
    "if not os.path.exists(folder_tasks_batch_config_path) and deploy_config:\n",
    "    console.print(\"[green]Task configuration folder created\")\n",
    "    os.makedirs(folder_tasks_batch_config_path, exist_ok=True)\n",
    "else:\n",
    "    console.print(\"[yellow]General configuration folder already present\")\n",
    "console.print(f\"Path: [italic]{folder_tasks_batch_config_path}\")\n",
    "\n",
    "def copy(source, destination, title):\n",
    "    panel = Panel(f\"Source: [italic white on black]{source}[/italic white on black]\\nDestination: [italic white on black]{destination}[/italic white on black]\", title=title)\n",
    "    console.print(panel)\n",
    "    copy2(source, destination)\n",
    "\n",
    "console.print(f\"Copying files for [blue underline on white]{folder_build_deploy_path}[/blue underline on white] folder\")\n",
    "\n",
    "source = f\"{folder_build_deploy_path}scripts.js\"\n",
    "destination = f\"{folder_tasks_batch_deploy_path}scripts.js\"\n",
    "copy(source, destination, \"Javascript Assets\")\n",
    "\n",
    "source = f\"{folder_build_deploy_path}styles.css\"\n",
    "destination = f\"{folder_tasks_batch_deploy_path}styles.css\"\n",
    "copy(source, destination, \"CSS Styles\")\n",
    "\n",
    "source = f\"{folder_build_deploy_path}index.html\"\n",
    "destination = f\"{folder_tasks_batch_deploy_path}index.html\"\n",
    "copy(source, destination, \"Task Homepage\")\n",
    "\n",
    "console.print(f\"Copying files for [blue underline on white]{folder_build_mturk_path}[/blue underline on white] folder\")\n",
    "\n",
    "source = f\"{folder_build_mturk_path}index.html\"\n",
    "destination = f\"{folder_tasks_batch_mturk_path}index.html\"\n",
    "copy(source, destination, \"Amazon Mechanical Turk landing page\")\n",
    "\n",
    "source = f\"{folder_build_mturk_path}tokens.csv\"\n",
    "destination = f\"{folder_tasks_batch_mturk_path}tokens.csv\"\n",
    "copy(source, destination, \"Hits tokens\")\n",
    "\n",
    "if bool(deploy_config):\n",
    "\n",
    "    console.print(f\"Copying files for [blue underline on white]{folder_build_task_path}[/blue underline on white] folder\")\n",
    "\n",
    "    source = f\"{folder_build_task_path}hits.json\"\n",
    "    destination = f\"{folder_tasks_batch_task_path}hits.json\"\n",
    "    copy(source, destination, \"Hits\")\n",
    "\n",
    "    source = f\"{folder_build_task_path}dimensions.json\"\n",
    "    destination = f\"{folder_tasks_batch_task_path}dimensions.json\"\n",
    "    copy(source, destination, \"Dimensions\")\n",
    "\n",
    "    source = f\"{folder_build_task_path}instructions_dimensions.json\"\n",
    "    destination = f\"{folder_tasks_batch_task_path}instructions_dimensions.json\"\n",
    "    copy(source, destination, \"Assessment Instructions\")\n",
    "\n",
    "    source = f\"{folder_build_task_path}instructions_main.json\"\n",
    "    destination = f\"{folder_tasks_batch_task_path}instructions_main.json\"\n",
    "    copy(source, destination, \"General Instructions\")\n",
    "\n",
    "    source = f\"{folder_build_task_path}questionnaires.json\"\n",
    "    destination = f\"{folder_tasks_batch_task_path}questionnaires.json\"\n",
    "    copy(source, destination, \"Questionnaires\")\n",
    "\n",
    "    source = f\"{folder_build_task_path}search_engine.json\"\n",
    "    destination = f\"{folder_tasks_batch_task_path}search_engine.json\"\n",
    "    copy(source, destination, \"Search Engine\")\n",
    "\n",
    "    source = f\"{folder_build_task_path}task.json\"\n",
    "    destination = f\"{folder_tasks_batch_task_path}task.json\"\n",
    "    copy(source, destination, \"Task Settings\")\n",
    "\n",
    "    source = f\"{folder_build_task_path}workers.json\"\n",
    "    destination = f\"{folder_tasks_batch_task_path}workers.json\"\n",
    "    copy(source, destination, \"Workers Settings\")\n",
    "\n",
    "console.print(f\"Copying files for [blue underline on white]{folder_tasks_batch_config_path}[/blue underline on white] folder\")\n",
    "\n",
    "source = f\"{folder_build_config_path}admin.json\"\n",
    "destination = f\"{folder_tasks_batch_config_path}admin.json\"\n",
    "copy(source, destination, \"Admin Credentials\")"
   ]
  },
  {
   "cell_type": "code",
   "execution_count": null,
   "metadata": {},
   "outputs": [],
   "source": []
  },
  {
   "cell_type": "code",
   "execution_count": null,
   "metadata": {
    "pycharm": {
     "name": "#%%\n"
    }
   },
   "outputs": [],
   "source": []
  }
 ],
 "metadata": {
  "kernelspec": {
   "name": "python395jvsc74a57bd08089e7a2861757943cc790aa18291ad8208a9bb8f698d96ad5230f0c482e0b4d",
   "display_name": "Python 3.9.5 64-bit ('base': conda)"
  },
  "language_info": {
   "codemirror_mode": {
    "name": "ipython",
    "version": 3
   },
   "file_extension": ".py",
   "mimetype": "text/x-python",
   "name": "python",
   "nbconvert_exporter": "python",
   "pygments_lexer": "ipython3",
   "version": "3.9.5"
  }
 },
 "nbformat": 4,
 "nbformat_minor": 1
}
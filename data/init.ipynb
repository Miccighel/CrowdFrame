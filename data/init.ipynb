{
 "cells": [
  {
   "cell_type": "code",
   "execution_count": 2,
   "metadata": {
    "collapsed": true
   },
   "outputs": [
    {
     "name": "stdout",
     "output_type": "stream",
     "text": [
      "Printing env vars values:\n",
      "AWS REGION: us-east-2\n",
      "AWS PRIVATE BUCKET: crowdsourcing-tasks-us\n",
      "AWS DEPLOY BUCKET: crowdsourcing-deploy-us\n",
      "BING API KEY: 2cd7c847841743b8accb35e9f6c0eebc\n",
      "TASK NAME: Sample\n",
      "BATCH NAME: Test-1\n"
     ]
    }
   ],
   "source": [
    "from dotenv import load_dotenv\n",
    "from pathlib import Path\n",
    "import os\n",
    "import logging\n",
    "import boto3\n",
    "from botocore.config import Config\n",
    "from botocore.exceptions import ClientError\n",
    "\n",
    "logger = logging.getLogger()\n",
    "logger.setLevel(logging.INFO)\n",
    "\n",
    "env_path = Path('.') / '.env'\n",
    "load_dotenv(dotenv_path=env_path)\n",
    "\n",
    "aws_root_access_id = os.getenv('aws_root_access_id')\n",
    "aws_root_access_secret = os.getenv('aws_root_access_secret')\n",
    "aws_worker_access_id = os.getenv('aws_worker_access_id')\n",
    "aws_worker_access_secret = os.getenv('aws_worker_access_secret')\n",
    "\n",
    "aws_region = os.getenv('aws_region')\n",
    "aws_private_bucket = os.getenv('aws_private_bucket')\n",
    "aws_deploy_bucket = os.getenv('aws_deploy_bucket')\n",
    "\n",
    "bing_api_key = os.getenv('bing_api_key')\n",
    "\n",
    "task_name = os.getenv('task_name')\n",
    "batch_name = os.getenv('batch_name')\n",
    "\n",
    "print(\"Printing env vars values:\")\n",
    "#print(f\"AWS ROOT ACCESS ID: {aws_root_access_id}\")\n",
    "#print(f\"AWS ROOT ACCESS SECRET: {aws_root_access_secret}\")\n",
    "#print(f\"AWS WORKER ACCESS ID: {aws_root_access_secret}\")\n",
    "#print(f\"AWS WORKER ACCESS SECRET: {aws_worker_access_secret}\")\n",
    "print(f\"AWS REGION: {aws_region}\")\n",
    "print(f\"AWS PRIVATE BUCKET: {aws_private_bucket}\")\n",
    "print(f\"AWS DEPLOY BUCKET: {aws_deploy_bucket}\")\n",
    "print(f\"BING API KEY: {bing_api_key}\")\n",
    "print(f\"TASK NAME: {task_name}\")\n",
    "print(f\"BATCH NAME: {batch_name}\")"
   ]
  },
  {
   "cell_type": "code",
   "execution_count": 3,
   "outputs": [
    {
     "ename": "ClientError",
     "evalue": "An error occurred (InvalidAccessKeyId) when calling the ListBuckets operation: The AWS Access Key Id you provided does not exist in our records.",
     "output_type": "error",
     "traceback": [
      "\u001B[1;31m---------------------------------------------------------------------------\u001B[0m",
      "\u001B[1;31mClientError\u001B[0m                               Traceback (most recent call last)",
      "\u001B[1;32m<ipython-input-3-7b749a7ce6e2>\u001B[0m in \u001B[0;36m<module>\u001B[1;34m\u001B[0m\n\u001B[0;32m     18\u001B[0m \u001B[1;33m\u001B[0m\u001B[0m\n\u001B[0;32m     19\u001B[0m \u001B[0mbuckets\u001B[0m \u001B[1;33m=\u001B[0m \u001B[1;33m[\u001B[0m\u001B[1;33m]\u001B[0m\u001B[1;33m\u001B[0m\u001B[1;33m\u001B[0m\u001B[0m\n\u001B[1;32m---> 20\u001B[1;33m \u001B[1;32mfor\u001B[0m \u001B[0mbucket\u001B[0m \u001B[1;32min\u001B[0m \u001B[0ms3_resource\u001B[0m\u001B[1;33m.\u001B[0m\u001B[0mbuckets\u001B[0m\u001B[1;33m.\u001B[0m\u001B[0mall\u001B[0m\u001B[1;33m(\u001B[0m\u001B[1;33m)\u001B[0m\u001B[1;33m:\u001B[0m\u001B[1;33m\u001B[0m\u001B[1;33m\u001B[0m\u001B[0m\n\u001B[0m\u001B[0;32m     21\u001B[0m     \u001B[0mbuckets\u001B[0m\u001B[1;33m.\u001B[0m\u001B[0mappend\u001B[0m\u001B[1;33m(\u001B[0m\u001B[0mbucket\u001B[0m\u001B[1;33m.\u001B[0m\u001B[0mname\u001B[0m\u001B[1;33m)\u001B[0m\u001B[1;33m\u001B[0m\u001B[1;33m\u001B[0m\u001B[0m\n\u001B[0;32m     22\u001B[0m \u001B[0mprint\u001B[0m\u001B[1;33m(\u001B[0m\u001B[0mbuckets\u001B[0m\u001B[1;33m)\u001B[0m\u001B[1;33m\u001B[0m\u001B[1;33m\u001B[0m\u001B[0m\n",
      "\u001B[1;32mC:\\Ambienti\\Miniconda\\lib\\site-packages\\boto3\\resources\\collection.py\u001B[0m in \u001B[0;36m__iter__\u001B[1;34m(self)\u001B[0m\n\u001B[0;32m     81\u001B[0m \u001B[1;33m\u001B[0m\u001B[0m\n\u001B[0;32m     82\u001B[0m         \u001B[0mcount\u001B[0m \u001B[1;33m=\u001B[0m \u001B[1;36m0\u001B[0m\u001B[1;33m\u001B[0m\u001B[1;33m\u001B[0m\u001B[0m\n\u001B[1;32m---> 83\u001B[1;33m         \u001B[1;32mfor\u001B[0m \u001B[0mpage\u001B[0m \u001B[1;32min\u001B[0m \u001B[0mself\u001B[0m\u001B[1;33m.\u001B[0m\u001B[0mpages\u001B[0m\u001B[1;33m(\u001B[0m\u001B[1;33m)\u001B[0m\u001B[1;33m:\u001B[0m\u001B[1;33m\u001B[0m\u001B[1;33m\u001B[0m\u001B[0m\n\u001B[0m\u001B[0;32m     84\u001B[0m             \u001B[1;32mfor\u001B[0m \u001B[0mitem\u001B[0m \u001B[1;32min\u001B[0m \u001B[0mpage\u001B[0m\u001B[1;33m:\u001B[0m\u001B[1;33m\u001B[0m\u001B[1;33m\u001B[0m\u001B[0m\n\u001B[0;32m     85\u001B[0m                 \u001B[1;32myield\u001B[0m \u001B[0mitem\u001B[0m\u001B[1;33m\u001B[0m\u001B[1;33m\u001B[0m\u001B[0m\n",
      "\u001B[1;32mC:\\Ambienti\\Miniconda\\lib\\site-packages\\boto3\\resources\\collection.py\u001B[0m in \u001B[0;36mpages\u001B[1;34m(self)\u001B[0m\n\u001B[0;32m    159\u001B[0m                          \u001B[0mself\u001B[0m\u001B[1;33m.\u001B[0m\u001B[0m_parent\u001B[0m\u001B[1;33m.\u001B[0m\u001B[0mmeta\u001B[0m\u001B[1;33m.\u001B[0m\u001B[0mservice_name\u001B[0m\u001B[1;33m,\u001B[0m\u001B[1;33m\u001B[0m\u001B[1;33m\u001B[0m\u001B[0m\n\u001B[0;32m    160\u001B[0m                          self._py_operation_name, params)\n\u001B[1;32m--> 161\u001B[1;33m             \u001B[0mpages\u001B[0m \u001B[1;33m=\u001B[0m \u001B[1;33m[\u001B[0m\u001B[0mgetattr\u001B[0m\u001B[1;33m(\u001B[0m\u001B[0mclient\u001B[0m\u001B[1;33m,\u001B[0m \u001B[0mself\u001B[0m\u001B[1;33m.\u001B[0m\u001B[0m_py_operation_name\u001B[0m\u001B[1;33m)\u001B[0m\u001B[1;33m(\u001B[0m\u001B[1;33m**\u001B[0m\u001B[0mparams\u001B[0m\u001B[1;33m)\u001B[0m\u001B[1;33m]\u001B[0m\u001B[1;33m\u001B[0m\u001B[1;33m\u001B[0m\u001B[0m\n\u001B[0m\u001B[0;32m    162\u001B[0m \u001B[1;33m\u001B[0m\u001B[0m\n\u001B[0;32m    163\u001B[0m         \u001B[1;31m# Now that we have a page iterator or single page of results\u001B[0m\u001B[1;33m\u001B[0m\u001B[1;33m\u001B[0m\u001B[1;33m\u001B[0m\u001B[0m\n",
      "\u001B[1;32mC:\\Ambienti\\Miniconda\\lib\\site-packages\\botocore\\client.py\u001B[0m in \u001B[0;36m_api_call\u001B[1;34m(self, *args, **kwargs)\u001B[0m\n\u001B[0;32m    355\u001B[0m                     \"%s() only accepts keyword arguments.\" % py_operation_name)\n\u001B[0;32m    356\u001B[0m             \u001B[1;31m# The \"self\" in this scope is referring to the BaseClient.\u001B[0m\u001B[1;33m\u001B[0m\u001B[1;33m\u001B[0m\u001B[1;33m\u001B[0m\u001B[0m\n\u001B[1;32m--> 357\u001B[1;33m             \u001B[1;32mreturn\u001B[0m \u001B[0mself\u001B[0m\u001B[1;33m.\u001B[0m\u001B[0m_make_api_call\u001B[0m\u001B[1;33m(\u001B[0m\u001B[0moperation_name\u001B[0m\u001B[1;33m,\u001B[0m \u001B[0mkwargs\u001B[0m\u001B[1;33m)\u001B[0m\u001B[1;33m\u001B[0m\u001B[1;33m\u001B[0m\u001B[0m\n\u001B[0m\u001B[0;32m    358\u001B[0m \u001B[1;33m\u001B[0m\u001B[0m\n\u001B[0;32m    359\u001B[0m         \u001B[0m_api_call\u001B[0m\u001B[1;33m.\u001B[0m\u001B[0m__name__\u001B[0m \u001B[1;33m=\u001B[0m \u001B[0mstr\u001B[0m\u001B[1;33m(\u001B[0m\u001B[0mpy_operation_name\u001B[0m\u001B[1;33m)\u001B[0m\u001B[1;33m\u001B[0m\u001B[1;33m\u001B[0m\u001B[0m\n",
      "\u001B[1;32mC:\\Ambienti\\Miniconda\\lib\\site-packages\\botocore\\client.py\u001B[0m in \u001B[0;36m_make_api_call\u001B[1;34m(self, operation_name, api_params)\u001B[0m\n\u001B[0;32m    674\u001B[0m             \u001B[0merror_code\u001B[0m \u001B[1;33m=\u001B[0m \u001B[0mparsed_response\u001B[0m\u001B[1;33m.\u001B[0m\u001B[0mget\u001B[0m\u001B[1;33m(\u001B[0m\u001B[1;34m\"Error\"\u001B[0m\u001B[1;33m,\u001B[0m \u001B[1;33m{\u001B[0m\u001B[1;33m}\u001B[0m\u001B[1;33m)\u001B[0m\u001B[1;33m.\u001B[0m\u001B[0mget\u001B[0m\u001B[1;33m(\u001B[0m\u001B[1;34m\"Code\"\u001B[0m\u001B[1;33m)\u001B[0m\u001B[1;33m\u001B[0m\u001B[1;33m\u001B[0m\u001B[0m\n\u001B[0;32m    675\u001B[0m             \u001B[0merror_class\u001B[0m \u001B[1;33m=\u001B[0m \u001B[0mself\u001B[0m\u001B[1;33m.\u001B[0m\u001B[0mexceptions\u001B[0m\u001B[1;33m.\u001B[0m\u001B[0mfrom_code\u001B[0m\u001B[1;33m(\u001B[0m\u001B[0merror_code\u001B[0m\u001B[1;33m)\u001B[0m\u001B[1;33m\u001B[0m\u001B[1;33m\u001B[0m\u001B[0m\n\u001B[1;32m--> 676\u001B[1;33m             \u001B[1;32mraise\u001B[0m \u001B[0merror_class\u001B[0m\u001B[1;33m(\u001B[0m\u001B[0mparsed_response\u001B[0m\u001B[1;33m,\u001B[0m \u001B[0moperation_name\u001B[0m\u001B[1;33m)\u001B[0m\u001B[1;33m\u001B[0m\u001B[1;33m\u001B[0m\u001B[0m\n\u001B[0m\u001B[0;32m    677\u001B[0m         \u001B[1;32melse\u001B[0m\u001B[1;33m:\u001B[0m\u001B[1;33m\u001B[0m\u001B[1;33m\u001B[0m\u001B[0m\n\u001B[0;32m    678\u001B[0m             \u001B[1;32mreturn\u001B[0m \u001B[0mparsed_response\u001B[0m\u001B[1;33m\u001B[0m\u001B[1;33m\u001B[0m\u001B[0m\n",
      "\u001B[1;31mClientError\u001B[0m: An error occurred (InvalidAccessKeyId) when calling the ListBuckets operation: The AWS Access Key Id you provided does not exist in our records."
     ]
    }
   ],
   "source": [
    "def create_bucket(bucket_name, region):\n",
    "    \"\"\"Create an S3 bucket in a specified region\n",
    "    :param bucket_name: Bucket to create\n",
    "    :param region: String region to create bucket in, e.g., 'us-west-2'\n",
    "    :return: True if bucket created, else False\n",
    "    \"\"\"\n",
    "    try:\n",
    "        s3_client.create_bucket(Bucket=bucket_name, CreateBucketConfiguration={\n",
    "            'LocationConstraint': region\n",
    "        })\n",
    "    except ClientError as error:\n",
    "        logger.error(error)\n",
    "        return False\n",
    "    return True\n",
    "\n",
    "s3_client = boto3.client('s3', aws_access_key_id=aws_root_access_id, aws_secret_access_key=aws_root_access_secret)\n",
    "s3_resource = boto3.resource('s3')\n",
    "\n",
    "buckets = []\n",
    "for bucket in s3_resource.buckets.all():\n",
    "    buckets.append(bucket.name)\n",
    "print(buckets)\n",
    "if aws_private_bucket not in buckets:\n",
    "    private_bucket_check = create_bucket(aws_private_bucket, aws_region)\n",
    "if aws_deploy_bucket not in buckets:\n",
    "    deploy_bucket_check = create_bucket(aws_deploy_bucket, aws_region)"
   ],
   "metadata": {
    "collapsed": false,
    "pycharm": {
     "name": "#%%\n"
    }
   }
  },
  {
   "cell_type": "code",
   "execution_count": null,
   "outputs": [],
   "source": [],
   "metadata": {
    "collapsed": false,
    "pycharm": {
     "name": "#%%\n"
    }
   }
  }
 ],
 "metadata": {
  "kernelspec": {
   "name": "python3",
   "language": "python",
   "display_name": "Python 3"
  },
  "language_info": {
   "codemirror_mode": {
    "name": "ipython",
    "version": 2
   },
   "file_extension": ".py",
   "mimetype": "text/x-python",
   "name": "python",
   "nbconvert_exporter": "python",
   "pygments_lexer": "ipython2",
   "version": "2.7.6"
  }
 },
 "nbformat": 4,
 "nbformat_minor": 0
}
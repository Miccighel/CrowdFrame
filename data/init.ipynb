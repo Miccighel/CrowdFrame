{
 "cells": [
  {
   "cell_type": "code",
   "execution_count": 50,
   "metadata": {
    "collapsed": true
   },
   "outputs": [],
   "source": [
    "import json\n",
    "import os\n",
    "from pathlib import Path\n",
    "from dotenv import load_dotenv\n",
    "import boto3\n",
    "from botocore.exceptions import ClientError\n",
    "import random\n",
    "\n",
    "def serialize_json(folder, filename, data):\n",
    "    if not os.path.exists(folder):\n",
    "        os.makedirs(folder, exist_ok=True)\n",
    "    with open(f\"{folder}/{filename}\", 'w', encoding='utf-8') as f:\n",
    "        json.dump(data, f, ensure_ascii=False, indent=4, default=str)\n",
    "        f.close()\n",
    "\n",
    "def read_json(path):\n",
    "    if os.path.exists(path):\n",
    "        with open(path, \"r\", encoding=\"utf8\") as file:\n",
    "            data = json.load(file)\n",
    "        return data\n",
    "    else:\n",
    "        return {}"
   ]
  },
  {
   "cell_type": "markdown",
   "source": [
    "# Section 1 - Environment variables loading"
   ],
   "metadata": {
    "collapsed": false,
    "pycharm": {
     "name": "#%% md\n"
    }
   }
  },
  {
   "cell_type": "code",
   "execution_count": 51,
   "outputs": [],
   "source": [
    "env_path = Path('.') / '.env'\n",
    "load_dotenv(dotenv_path=env_path)\n",
    "\n",
    "aws_account_id = os.getenv('aws_account_id')\n",
    "aws_sdk_access_id = os.getenv('aws_sdk_access_id')\n",
    "aws_sdk_access_secret = os.getenv('aws_sdk_access_secret')\n",
    "\n",
    "aws_region = os.getenv('aws_region')\n",
    "aws_private_bucket = os.getenv('aws_private_bucket')\n",
    "aws_deploy_bucket = os.getenv('aws_deploy_bucket')\n",
    "\n",
    "bing_api_key = os.getenv('bing_api_key')\n",
    "\n",
    "task_name = os.getenv('task_name')\n",
    "batch_name = os.getenv('batch_name')\n",
    "\n",
    "# print(\"Printing env vars values:\")\n",
    "# print(f\"AWS ACCOUNT ID: {aws_account_id}\")\n",
    "# print(f\"AWS SDK ACCESS ID: {aws_sdk_access_id}\")\n",
    "# print(f\"AWS SDK ACCESS SECRET: {aws_sdk_access_secret}\")\n",
    "# print(f\"AWS REGION: {aws_region}\")\n",
    "# print(f\"AWS PRIVATE BUCKET: {aws_private_bucket}\")\n",
    "# print(f\"AWS DEPLOY BUCKET: {aws_deploy_bucket}\")\n",
    "# print(f\"BING API KEY: {bing_api_key}\")\n",
    "# print(f\"TASK NAME: {task_name}\")\n",
    "# print(f\"BATCH NAME: {batch_name}\")"
   ],
   "metadata": {
    "collapsed": false,
    "pycharm": {
     "name": "#%%\n"
    }
   }
  },
  {
   "cell_type": "markdown",
   "source": [
    "# Section 2 - Setting up IAM policies and identity"
   ],
   "metadata": {
    "collapsed": false,
    "pycharm": {
     "name": "#%% md\n"
    }
   }
  },
  {
   "cell_type": "code",
   "execution_count": 63,
   "outputs": [
    {
     "name": "stdout",
     "output_type": "stream",
     "text": [
      "Crowd workers IAM policy with ARN arn:aws:iam::269559900417:policy/crowd-workers-dev retrieved, HTTP STATUS CODE: 200.\n",
      "Crowd worker user worker-dev retrieved, HTTP STATUS CODE: 200.\n",
      "Policy with ARN arn:aws:iam::269559900417:policy/crowd-workers-dev attached to user worker-dev, HTTP STATUS CODE: 200\n",
      "Two access keys for user worker-dev already present and retrieved\n"
     ]
    }
   ],
   "source": [
    "iam = boto3.client('iam')\n",
    "\n",
    "crowd_workers_policy = {\n",
    "    \"Version\": \"2012-10-17\",\n",
    "    \"Statement\": [\n",
    "        {\n",
    "            \"Sid\": \"allowWorkerInteraction\",\n",
    "            \"Effect\": \"Allow\",\n",
    "            \"Action\": [\n",
    "                \"s3:PutObject\",\n",
    "                \"s3:GetObject\",\n",
    "                \"s3:ListBucket\"\n",
    "            ],\n",
    "            \"Resource\": [\n",
    "                f\"arn:aws:s3:::{aws_private_bucket}\",\n",
    "                f\"arn:aws:s3:::{aws_private_bucket}/*\",\n",
    "                f\"arn:aws:s3:::{aws_deploy_bucket}\",\n",
    "                f\"arn:aws:s3:::{aws_deploy_bucket}/*\"\n",
    "            ]\n",
    "        }\n",
    "    ]\n",
    "}\n",
    "\n",
    "policy = None\n",
    "try:\n",
    "    policy = iam.create_policy(\n",
    "      PolicyName='crowd-workers-dev',\n",
    "      PolicyDocument=json.dumps(crowd_workers_policy)\n",
    "    )\n",
    "    print(f\"Crowd workers IAM policy with ARN {policy['Policy']['Arn']} creation completed, HTTP STATUS CODE: {policy['ResponseMetadata']['HTTPStatusCode']}.\")\n",
    "except (iam.exceptions.NoSuchEntityException, iam.exceptions.EntityAlreadyExistsException) as exception:\n",
    "    policy = iam.get_policy(PolicyArn=f\"arn:aws:iam::{aws_account_id}:policy/crowd-workers-dev\")\n",
    "    print(f\"Crowd workers IAM policy with ARN {policy['Policy']['Arn']} retrieved, HTTP STATUS CODE: {policy['ResponseMetadata']['HTTPStatusCode']}.\")\n",
    "serialize_json(\"aws\", f\"policy_{policy['Policy']['PolicyName']}.json\", policy)\n",
    "\n",
    "user = None\n",
    "try:\n",
    "    user = iam.create_user(UserName=\"worker-dev\")\n",
    "    print(f\"Crowd workers user {user['User']['UserName']} created, HTTP STATUS CODE: {user['ResponseMetadata']['HTTPStatusCode']}.\")\n",
    "except (iam.exceptions.NoSuchEntityException, iam.exceptions.EntityAlreadyExistsException) as exception:\n",
    "    user = iam.get_user(UserName=\"worker-dev\")\n",
    "    print(f\"Crowd worker user {user['User']['UserName']} retrieved, HTTP STATUS CODE: {user['ResponseMetadata']['HTTPStatusCode']}.\")\n",
    "serialize_json(\"aws\", f\"user_{user['User']['UserName']}_data.json\", user)\n",
    "\n",
    "response = iam.attach_user_policy(UserName=user['User']['UserName'], PolicyArn=policy['Policy']['Arn'])\n",
    "policy = iam.get_policy(PolicyArn=f\"{policy['Policy']['Arn']}\")\n",
    "print(f\"Policy with ARN {policy['Policy']['Arn']} attached to user {user['User']['UserName']}, HTTP STATUS CODE: {user['ResponseMetadata']['HTTPStatusCode']}\")\n",
    "\n",
    "keys = []\n",
    "try:\n",
    "    key = iam.create_access_key(UserName=user['User']['UserName'])\n",
    "    keys.append(key)\n",
    "    serialize_json(\"aws\", f\"user_{user['User']['UserName']}_access_key_{key['AccessKey']['AccessKeyId']}.json\", key)\n",
    "    print(f\"Access key with for user {user['User']['UserName']} created, HTTP STATUS CODE: {key['ResponseMetadata']['HTTPStatusCode']}.\")\n",
    "except iam.exceptions.LimitExceededException as exception:\n",
    "    print(f\"Two access keys for user {user['User']['UserName']} already present and retrieved\")\n",
    "    paginator = iam.get_paginator('list_access_keys')\n",
    "    for found_keys in paginator.paginate(UserName=user['User']['UserName']):\n",
    "        for key in found_keys['AccessKeyMetadata']:\n",
    "            keys.append(key)\n",
    "serialize_json(\"aws\", f\"user_{user['User']['UserName']}_access_keys.json\", keys)\n",
    "\n",
    "key_selected = random.choice(keys)\n",
    "key_data = read_json(f\"aws/user_{user['User']['UserName']}_access_key_{key_selected['AccessKeyId']}.json\")\n",
    "\n",
    "aws_worker_access_id = key_data['AccessKey']['AccessKeyId']\n",
    "aws_worker_access_secret = key_data['AccessKey']['SecretAccessKey']"
   ],
   "metadata": {
    "collapsed": false,
    "pycharm": {
     "name": "#%%\n"
    }
   }
  },
  {
   "cell_type": "markdown",
   "source": [
    "# Section 3 - Private and deploy bucket creation"
   ],
   "metadata": {
    "collapsed": false,
    "pycharm": {
     "name": "#%% md\n"
    }
   }
  },
  {
   "cell_type": "code",
   "execution_count": 53,
   "outputs": [
    {
     "name": "stdout",
     "output_type": "stream",
     "text": [
      "---------- INITIALIZING PRIVATE BUCKET private-bucket-test-fdssfsdfdssdds ----------\n",
      "Bucket already present, HTTP STATUS CODE: 409.\n",
      "Public access blocked, HTTP STATUS CODE: 200.\n",
      "Policy already present, HTTP STATUS CODE: 200.\n",
      "CORS Configuration already present, HTTP STATUS CODE: 200.\n",
      "---------- INITIALIZATION COMPLETED ----------\n",
      "---------- INITIALIZING DEPLOY BUCKET deploy-bucket-test-fsfddfsfdsfsfsffssfdfsdfsfsdfsd ----------\n",
      "Bucket already present, HTTP STATUS CODE: 409.\n",
      "Policy already present, HTTP STATUS CODE: 200.\n",
      "---------- INITIALIZATION COMPLETED ----------\n"
     ]
    }
   ],
   "source": [
    "s3_client = boto3.client('s3', aws_access_key_id=aws_sdk_access_id, aws_secret_access_key=aws_sdk_access_secret)\n",
    "s3_resource = boto3.resource('s3')\n",
    "\n",
    "buckets = []\n",
    "for bucket in s3_resource.buckets.all():\n",
    "    buckets.append(bucket.name)\n",
    "\n",
    "print(f\"---------- INITIALIZING PRIVATE BUCKET {aws_private_bucket} ----------\")\n",
    "\n",
    "try:\n",
    "    private_bucket = s3_client.create_bucket(\n",
    "        Bucket=aws_private_bucket,\n",
    "        CreateBucketConfiguration={\n",
    "            'LocationConstraint': aws_region\n",
    "        }\n",
    "    )\n",
    "    print(f\"Bucket creation completed, HTTP STATUS CODE: {private_bucket['ResponseMetadata']['HTTPStatusCode']}.\")\n",
    "except s3_client.exceptions.BucketAlreadyOwnedByYou as error:\n",
    "    private_bucket = s3_resource.Bucket(aws_private_bucket)\n",
    "    print(f\"Bucket already present, HTTP STATUS CODE: {error.response['ResponseMetadata']['HTTPStatusCode']}.\")\n",
    "serialize_json(\"aws\", f\"bucket_{aws_private_bucket}.json\", private_bucket)\n",
    "\n",
    "response = s3_client.put_public_access_block(\n",
    "    Bucket=aws_private_bucket,\n",
    "    PublicAccessBlockConfiguration={\n",
    "        'BlockPublicAcls': True,\n",
    "        'IgnorePublicAcls': True,\n",
    "        'BlockPublicPolicy': True,\n",
    "        'RestrictPublicBuckets': True\n",
    "    },\n",
    ")\n",
    "print(f\"Public access blocked, HTTP STATUS CODE: {response['ResponseMetadata']['HTTPStatusCode']}.\")\n",
    "\n",
    "private_bucket_policy = {\n",
    "    \"Version\": \"2012-10-17\",\n",
    "    \"Id\": \"private-bucket-policy\",\n",
    "    \"Statement\": [\n",
    "        {\n",
    "            \"Sid\": \"allow-bucket-interaction\",\n",
    "            \"Effect\": \"Allow\",\n",
    "            \"Principal\": {\n",
    "                \"AWS\": f\"arn:aws:iam::{aws_account_id}:user/{user['User']['UserName']}\"\n",
    "            },\n",
    "            \"Action\": [\n",
    "                \"s3:GetObject\",\n",
    "                \"s3:PutObject\",\n",
    "                \"s3:ListBucket\"\n",
    "            ],\n",
    "            \"Resource\": [\n",
    "                f\"arn:aws:s3:::{aws_private_bucket}\",\n",
    "                f\"arn:aws:s3:::{aws_private_bucket}/*\"\n",
    "            ]\n",
    "        }\n",
    "    ]\n",
    "}\n",
    "\n",
    "try:\n",
    "    policy = s3_client.get_bucket_policy(Bucket=aws_private_bucket)\n",
    "    policy['Policy'] = json.loads(policy['Policy'])\n",
    "    print(f\"Policy already present, HTTP STATUS CODE: {response['ResponseMetadata']['HTTPStatusCode']}.\")\n",
    "except ClientError as e:\n",
    "    if e.response['Error']['Code'] == 'NoSuchBucketPolicy':\n",
    "        response = s3_client.put_bucket_policy(Bucket=aws_private_bucket, Policy=json.dumps(private_bucket_policy))\n",
    "        print(f\"Policy configuration completed, HTTP STATUS CODE: {response['ResponseMetadata']['HTTPStatusCode']}.\")\n",
    "    policy = s3_client.get_bucket_policy(Bucket=aws_private_bucket)\n",
    "    policy['Policy'] = json.loads(policy['Policy'])\n",
    "serialize_json(\"aws\", f\"bucket_{aws_private_bucket}_policy.json\", policy)\n",
    "\n",
    "cors_configuration = {\n",
    "    'CORSRules': [{\n",
    "        'AllowedHeaders': ['*'],\n",
    "        'AllowedMethods': ['GET', 'HEAD', 'PUT'],\n",
    "        'AllowedOrigins': ['*'],\n",
    "        'ExposeHeaders': [],\n",
    "        'MaxAgeSeconds': 3000\n",
    "    }]\n",
    "}\n",
    "\n",
    "try:\n",
    "    cors_configuration = s3_client.get_bucket_cors(Bucket=aws_private_bucket)\n",
    "    print(f\"CORS Configuration already present, HTTP STATUS CODE: {response['ResponseMetadata']['HTTPStatusCode']}.\")\n",
    "except ClientError as e:\n",
    "    if e.response['Error']['Code'] == 'NoSuchCORSConfiguration':\n",
    "        response = s3_client.put_bucket_cors(Bucket=aws_private_bucket, CORSConfiguration=cors_configuration)\n",
    "        print(f\"CORS configuration completed, HTTP STATUS CODE: {response['ResponseMetadata']['HTTPStatusCode']}.\")\n",
    "    cors_configuration = s3_client.get_bucket_cors(Bucket=aws_private_bucket)\n",
    "    cors_configuration['CORSRules'] = json.loads(cors_configuration['CORSRules'])\n",
    "    print(cors_configuration)\n",
    "serialize_json(\"aws\", f\"bucket_{aws_private_bucket}_cors.json\", cors_configuration)\n",
    "\n",
    "print(f\"---------- INITIALIZATION COMPLETED ----------\")\n",
    "\n",
    "print(f\"---------- INITIALIZING DEPLOY BUCKET {aws_deploy_bucket} ----------\")\n",
    "\n",
    "try:\n",
    "    deploy_bucket = s3_client.create_bucket(\n",
    "        Bucket=aws_deploy_bucket,\n",
    "        CreateBucketConfiguration={\n",
    "            'LocationConstraint': aws_region\n",
    "        }\n",
    "    )\n",
    "    print(f\"Bucket creation completed, HTTP STATUS CODE: {deploy_bucket['ResponseMetadata']['HTTPStatusCode']}.\")\n",
    "except s3_client.exceptions.BucketAlreadyOwnedByYou as error:\n",
    "    deploy_bucket = s3_resource.Bucket(aws_deploy_bucket)\n",
    "    print(f\"Bucket already present, HTTP STATUS CODE: {error.response['ResponseMetadata']['HTTPStatusCode']}.\")\n",
    "serialize_json(\"aws\", f\"bucket_{aws_deploy_bucket}.json\", deploy_bucket)\n",
    "\n",
    "deploy_bucket_policy = {\n",
    "    \"Version\": \"2012-10-17\",\n",
    "    \"Id\": \"deploy-bucket-policy\",\n",
    "    \"Statement\": [\n",
    "        {\n",
    "            \"Sid\": \"allow-bucket-interaction\",\n",
    "            \"Effect\": \"Allow\",\n",
    "            \"Principal\": {\n",
    "                \"AWS\": f\"arn:aws:iam::{aws_account_id}:user/{user['User']['UserName']}\"\n",
    "            },\n",
    "            \"Action\": [\n",
    "                \"s3:GetObject\",\n",
    "                \"s3:PutObject\",\n",
    "                \"s3:ListBucket\"\n",
    "            ],\n",
    "            \"Resource\": [\n",
    "                f\"arn:aws:s3:::{aws_deploy_bucket}\",\n",
    "                f\"arn:aws:s3:::{aws_deploy_bucket}/*\"\n",
    "            ]\n",
    "        }\n",
    "    ]\n",
    "}\n",
    "\n",
    "try:\n",
    "    policy = s3_client.get_bucket_policy(Bucket=aws_deploy_bucket)\n",
    "    policy['Policy'] = json.loads(policy['Policy'])\n",
    "    print(f\"Policy already present, HTTP STATUS CODE: {response['ResponseMetadata']['HTTPStatusCode']}.\")\n",
    "except ClientError as e:\n",
    "    if e.response['Error']['Code'] == 'NoSuchBucketPolicy':\n",
    "        response = s3_client.put_bucket_policy(Bucket=aws_deploy_bucket, Policy=json.dumps(deploy_bucket_policy))\n",
    "        print(f\"Policy configuration completed, HTTP STATUS CODE: {response['ResponseMetadata']['HTTPStatusCode']}.\")\n",
    "    policy = s3_client.get_bucket_policy(Bucket=aws_deploy_bucket)\n",
    "    policy['Policy'] = json.loads(policy['Policy'])\n",
    "serialize_json(\"aws\", f\"bucket_{aws_private_bucket}_policy.json\", policy)\n",
    "\n",
    "print(f\"---------- INITIALIZATION COMPLETED ----------\")"
   ],
   "metadata": {
    "collapsed": false,
    "pycharm": {
     "name": "#%%\n"
    }
   }
  },
  {
   "cell_type": "markdown",
   "source": [
    "# Section 4 - Environment file generation"
   ],
   "metadata": {
    "collapsed": false,
    "pycharm": {
     "name": "#%% md\n"
    }
   }
  },
  {
   "cell_type": "code",
   "execution_count": null,
   "outputs": [],
   "source": [
    "\n",
    "\n",
    "\n",
    "\n",
    "\n",
    "\n",
    "\n",
    "\n",
    "\n"
   ],
   "metadata": {
    "collapsed": false,
    "pycharm": {
     "name": "#%%\n"
    }
   }
  }
 ],
 "metadata": {
  "kernelspec": {
   "name": "python3",
   "language": "python",
   "display_name": "Python 3"
  },
  "language_info": {
   "codemirror_mode": {
    "name": "ipython",
    "version": 2
   },
   "file_extension": ".py",
   "mimetype": "text/x-python",
   "name": "python",
   "nbconvert_exporter": "python",
   "pygments_lexer": "ipython2",
   "version": "2.7.6"
  }
 },
 "nbformat": 4,
 "nbformat_minor": 0
}
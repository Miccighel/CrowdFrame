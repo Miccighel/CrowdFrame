{
 "cells": [
  {
   "cell_type": "code",
   "execution_count": 4,
   "source": [
    "import pandas as pd     \r\n",
    "import json\r\n",
    "import os\r\n",
    "import pandas\r\n",
    "from plotnine import *\r\n",
    "import seaborn as sns\r\n",
    "import matplotlib.pyplot as plt\r\n",
    "import textwrap\r\n",
    "from dplython import (DplyFrame, X, diamonds, select, sift, sample_n,\r\n",
    "    sample_frac, head, arrange, mutate, group_by, summarize, DelayFunction) "
   ],
   "outputs": [
    {
     "output_type": "stream",
     "name": "stderr",
     "text": [
      "C:\\Users\\christian\\AppData\\Local\\Programs\\Python\\Python37-32\\lib\\site-packages\\ipykernel\\ipkernel.py:283: DeprecationWarning: `should_run_async` will not call `transform_cell` automatically in the future. Please pass the result to `transformed_cell` argument and any exception that happen during thetransform in `preprocessing_exc_tuple` in IPython 7.17 and above.\n"
     ]
    }
   ],
   "metadata": {}
  },
  {
   "cell_type": "code",
   "execution_count": 99,
   "source": [
    "#Take file and create dataset\r\n",
    "def document_to_dataframe(path):\r\n",
    "    with open(path+r'\\data_try_1.json','r') as f:\r\n",
    "        data = json.loads(f.read())    \r\n",
    "    table = pd.json_normalize(data,record_path =['documents_answers'])\r\n",
    "    document=pd.json_normalize(data,record_path=['documents'])\r\n",
    "    table.insert(0,\"Document\",document[\"id\"])\r\n",
    "    for i in range(table[\"pairwise_value_selected\"].size):\r\n",
    "        number=int(table[\"pairwise_value_selected\"][i])\r\n",
    "        document_selected=pd.json_normalize(document[\"statements\"][i][number])\r\n",
    "        table[\"pairwise_value_selected\"][i]=document_selected[\"text\"][0]\r\n",
    "    return table\r\n",
    "\r\n",
    "\r\n",
    "path=\".\"\r\n",
    "a=document_to_dataframe(path)\r\n",
    "display(a)\r\n"
   ],
   "outputs": [
    {
     "output_type": "stream",
     "name": "stderr",
     "text": [
      "C:\\Users\\christian\\AppData\\Local\\Programs\\Python\\Python37-32\\lib\\site-packages\\ipykernel\\ipkernel.py:283: DeprecationWarning: `should_run_async` will not call `transform_cell` automatically in the future. Please pass the result to `transformed_cell` argument and any exception that happen during thetransform in `preprocessing_exc_tuple` in IPython 7.17 and above.\n",
      "C:\\Users\\christian\\AppData\\Local\\Programs\\Python\\Python37-32\\lib\\site-packages\\ipykernel_launcher.py:11: SettingWithCopyWarning: \n",
      "A value is trying to be set on a copy of a slice from a DataFrame\n",
      "\n",
      "See the caveats in the documentation: https://pandas.pydata.org/pandas-docs/stable/user_guide/indexing.html#returning-a-view-versus-a-copy\n"
     ]
    },
    {
     "output_type": "display_data",
     "data": {
      "text/html": [
       "<div>\n",
       "<style scoped>\n",
       "    .dataframe tbody tr th:only-of-type {\n",
       "        vertical-align: middle;\n",
       "    }\n",
       "\n",
       "    .dataframe tbody tr th {\n",
       "        vertical-align: top;\n",
       "    }\n",
       "\n",
       "    .dataframe thead th {\n",
       "        text-align: right;\n",
       "    }\n",
       "</style>\n",
       "<table border=\"1\" class=\"dataframe\">\n",
       "  <thead>\n",
       "    <tr style=\"text-align: right;\">\n",
       "      <th></th>\n",
       "      <th>Document</th>\n",
       "      <th>pairwise_value_selected</th>\n",
       "      <th>dimensionpairwise_1_value</th>\n",
       "      <th>sample-dimension_value</th>\n",
       "      <th>dimensionpairwise_3_value</th>\n",
       "    </tr>\n",
       "  </thead>\n",
       "  <tbody>\n",
       "    <tr>\n",
       "      <th>0</th>\n",
       "      <td>identifier_1</td>\n",
       "      <td>BHO</td>\n",
       "      <td>4</td>\n",
       "      <td>1</td>\n",
       "      <td>6</td>\n",
       "    </tr>\n",
       "    <tr>\n",
       "      <th>1</th>\n",
       "      <td>identifier_2</td>\n",
       "      <td>BHO4</td>\n",
       "      <td>5</td>\n",
       "      <td>0</td>\n",
       "      <td>6</td>\n",
       "    </tr>\n",
       "  </tbody>\n",
       "</table>\n",
       "</div>"
      ],
      "text/plain": [
       "       Document pairwise_value_selected  dimensionpairwise_1_value  \\\n",
       "0  identifier_1                     BHO                          4   \n",
       "1  identifier_2                    BHO4                          5   \n",
       "\n",
       "  sample-dimension_value  dimensionpairwise_3_value  \n",
       "0                      1                          6  \n",
       "1                      0                          6  "
      ]
     },
     "metadata": {}
    }
   ],
   "metadata": {}
  }
 ],
 "metadata": {
  "orig_nbformat": 4,
  "language_info": {
   "name": "python",
   "version": "3.7.2",
   "mimetype": "text/x-python",
   "codemirror_mode": {
    "name": "ipython",
    "version": 3
   },
   "pygments_lexer": "ipython3",
   "nbconvert_exporter": "python",
   "file_extension": ".py"
  },
  "kernelspec": {
   "name": "python3",
   "display_name": "Python 3.7.2 32-bit"
  },
  "interpreter": {
   "hash": "dfa404eba654778fe9064c93deca16c40da486eb46c89e9dd26283e142c8d096"
  }
 },
 "nbformat": 4,
 "nbformat_minor": 2
}